{
 "cells": [
  {
   "cell_type": "code",
   "execution_count": 83,
   "outputs": [],
   "source": [],
   "metadata": {
    "collapsed": false,
    "pycharm": {
     "name": "#%%\n"
    }
   }
  },
  {
   "cell_type": "code",
   "execution_count": 83,
   "outputs": [],
   "source": [],
   "metadata": {
    "collapsed": false,
    "pycharm": {
     "name": "#%%\n"
    }
   }
  },
  {
   "cell_type": "code",
   "execution_count": 84,
   "outputs": [],
   "source": [
    "#package installs\n",
    "import numpy as np\n",
    "import pandas as pd\n",
    "from bs4 import BeautifulSoup\n",
    "import requests\n",
    "import unidecode\n",
    "import re"
   ],
   "metadata": {
    "collapsed": false,
    "pycharm": {
     "name": "#%%\n"
    }
   }
  },
  {
   "cell_type": "code",
   "execution_count": 102,
   "outputs": [],
   "source": [
    "def statScraper(name, year, playerindex, team, team_ids):\n",
    "    y = 0\n",
    "    while True:\n",
    "        playerindexint = int(playerindex) + y\n",
    "        playerindex = '0' + str(playerindexint)\n",
    "        for x in range(2):\n",
    "            url, advanced = urlConvertor(name, year, playerindex, x)\n",
    "            print(url)\n",
    "            try:\n",
    "                result = requests.get(url)\n",
    "                print(result.status_code)\n",
    "                src = result.content\n",
    "                soup = BeautifulSoup(src, 'lxml')\n",
    "                table = soup.find('table', {'class': 'row_summable'})\n",
    "                trs = table.find_all('tr')\n",
    "                rows = []\n",
    "                for tr in trs:\n",
    "                    tds = tr.find_all('td')\n",
    "                    row = [td.text.replace('\\n', '').strip() for td in tds]\n",
    "                    rows.append(row)\n",
    "                if x == 0:\n",
    "                    columns = ['G', 'Date', 'Age', 'Tm', 'Location', 'Opp',\n",
    "                               'GS', 'Active', 'MP', 'FG', 'FGA', 'FG%',\n",
    "                               '3P', '3PA', '3P%', 'FT', 'FTA', 'FT%', 'ORB',\n",
    "                               'DRB', 'TRB', 'AST', 'STL', 'BLK', 'TOV', 'PF',\n",
    "                               'PTS', 'GmSc', '+/-']\n",
    "                    df = pd.DataFrame(rows, columns=columns)\n",
    "                    df = df[df['Tm'] == team_ids[team][0]]\n",
    "                    result.close()\n",
    "                    df['PlayerID'] = name[2]\n",
    "                    df['TmID'] = team_ids[team][1]\n",
    "                elif x == 1:\n",
    "                    columns = ['G', 'Date', 'Age', 'Tm', 'Location', 'Opp', 'GS',\n",
    "                               'Active', 'MP', 'TS%', 'eFG%', 'ORB%', 'DRB%',\n",
    "                               'TRB%', 'AST%', 'STL%', 'BLK%', 'TOV%',\n",
    "                               'USG%', 'ORtg', 'DRtg', 'GmSc', 'BPM']\n",
    "                    df2 = pd.DataFrame(rows, columns=columns)\n",
    "                    df2 = df2[df2['Tm'] == team_ids[team][0]]\n",
    "                    result.close()\n",
    "                    df2 = df2.drop(df2.columns[[0, 2, 3, 4, 5, 6, 7, 8, -2]], axis=1)\n",
    "            except:\n",
    "                pass\n",
    "        try:\n",
    "            if len(df) > 0:\n",
    "                statdf = pd.merge(df, df2,how='outer', on='Date')\n",
    "                statdf.insert(0, 'Name', name[1] + ', ' + name[0])\n",
    "                print('Successfully Scraped:', name[0], name[1])\n",
    "                return statdf\n",
    "        except:\n",
    "            if y > 4:\n",
    "                print('Stat scraping failed for:', name[0], name[1])\n",
    "                return None\n",
    "            y+=1\n",
    "\n"
   ],
   "metadata": {
    "collapsed": false,
    "pycharm": {
     "name": "#%%\n"
    }
   }
  },
  {
   "cell_type": "code",
   "execution_count": 86,
   "outputs": [],
   "source": [
    "def urlConvertor(name, year, playerindex, advanced: bool):\n",
    "    lname = name[1]\n",
    "    fname = name[0]\n",
    "    lnamelist = list(lname)\n",
    "    linitial = lnamelist[0]\n",
    "    fnamelist = list(fname)\n",
    "    lname5 = ''\n",
    "    for x in range(5):\n",
    "        try:\n",
    "            lname5 += lnamelist[x]\n",
    "        except:\n",
    "            break\n",
    "    f2i = fnamelist[0] + fnamelist[1]\n",
    "    if advanced == False:\n",
    "        url = f'https://www.basketball-reference.com/players/{linitial}/{lname5}{f2i}{playerindex}/gamelog/{year}/'\n",
    "    else:\n",
    "        url = f'https://www.basketball-reference.com/players/{linitial}/{lname5}{f2i}{playerindex}/gamelog-advanced/{year}/'\n",
    "    return url, advanced\n"
   ],
   "metadata": {
    "collapsed": false,
    "pycharm": {
     "name": "#%%\n"
    }
   }
  },
  {
   "cell_type": "code",
   "execution_count": 87,
   "outputs": [],
   "source": [
    "def rosterScraper(TeamID, year, id_number):\n",
    "    url = f\"https://www.basketball-reference.com/teams/{TeamID}/{year}.html\"\n",
    "    result = requests.get(url)\n",
    "    try:\n",
    "        src = result.content\n",
    "        soup = BeautifulSoup(src, 'lxml')\n",
    "        table = soup.find('table', {'class': 'sortable'})\n",
    "        names = []\n",
    "        trs = table.find_all('tr')\n",
    "        rows = []\n",
    "        for tr in trs:\n",
    "            try:\n",
    "                td = tr.find('td', {'data-stat': 'player'})\n",
    "                a_tag = td.find('a')\n",
    "                name = a_tag.get_text()\n",
    "                name = unidecode.unidecode(name)\n",
    "                name = re.sub(r'[^\\w\\s]','',name)\n",
    "                names.append(name)\n",
    "            except:\n",
    "                pass\n",
    "        for x in range(len(names)):\n",
    "            names[x] = names[x].split()\n",
    "            names[x].append(id_number)\n",
    "            id_number += 1\n",
    "        print(TeamID,\"roster successfully parsed\")\n",
    "        return names\n",
    "    except:\n",
    "        return False\n",
    "\n"
   ],
   "metadata": {
    "collapsed": false,
    "pycharm": {
     "name": "#%%\n"
    }
   }
  },
  {
   "cell_type": "code",
   "execution_count": 88,
   "outputs": [],
   "source": [
    "def teamFinder(year):\n",
    "    team_id = 101\n",
    "    url = f\"https://www.basketball-reference.com/leagues/NBA_{year}.html\"\n",
    "    result = requests.get(url)\n",
    "    src = result.content\n",
    "    soup = BeautifulSoup(src, 'lxml')\n",
    "    table = soup.find('table', {'class': 'stats_table sortable', 'data-cols-to-freeze': ',2', 'id': 'per_game-team'})\n",
    "    teams = []\n",
    "    ids = {}\n",
    "    trs = table.find_all('tr')\n",
    "    x = 0\n",
    "    for tr in trs[1:]:\n",
    "        #print(tr.prettify())\n",
    "        try:\n",
    "            td = tr.find('td', {'data-stat': 'team', 'class': 'left'})\n",
    "            a_tag = td.find('a')\n",
    "            team = a_tag.get_text()\n",
    "            teams.append(team)\n",
    "            link = a_tag.attrs['href']\n",
    "            link = list(link)\n",
    "            acronym = link[7] + link[8] + link[9]\n",
    "            ids[teams[x]] = []\n",
    "            ids[teams[x]].append(acronym)\n",
    "            x+=1\n",
    "        except:\n",
    "            pass\n",
    "    for x in range(len(teams)):\n",
    "        ids[teams[x]].append(team_id)\n",
    "        team_id+=1\n",
    "    return teams, ids"
   ],
   "metadata": {
    "collapsed": false,
    "pycharm": {
     "name": "#%%\n"
    }
   }
  },
  {
   "cell_type": "code",
   "execution_count": 89,
   "outputs": [],
   "source": [
    "def leagueRosters(year):\n",
    "    teamrosters = {}\n",
    "    id_number = 1001\n",
    "    teams, team_ids = teamFinder(year)\n",
    "    for team in teams:\n",
    "        teamrosters[team] = rosterScraper(team_ids[team][0], year, id_number)\n",
    "        id_number+=len(teamrosters[team])\n",
    "    return teamrosters, team_ids"
   ],
   "metadata": {
    "collapsed": false,
    "pycharm": {
     "name": "#%%\n"
    }
   }
  },
  {
   "cell_type": "code",
   "execution_count": 90,
   "outputs": [],
   "source": [
    "def teamRoster(team, year):\n",
    "    roster = []\n",
    "    id_number = 1001\n",
    "    teams, team_ids = teamFinder(year)\n",
    "    roster = rosterScraper(team_ids[team][0], year, id_number)\n",
    "    return roster, team_ids\n"
   ],
   "metadata": {
    "collapsed": false,
    "pycharm": {
     "name": "#%%\n"
    }
   }
  },
  {
   "cell_type": "code",
   "execution_count": 91,
   "outputs": [],
   "source": [
    "def playerScraper(name, team, year):\n",
    "    name = name.split()\n",
    "    name.append('1001')\n",
    "    teams, team_ids = teamFinder(year)\n",
    "    df = statScraper(name, year, '01', team, team_ids)\n",
    "    return df\n"
   ],
   "metadata": {
    "collapsed": false,
    "pycharm": {
     "name": "#%%\n"
    }
   }
  },
  {
   "cell_type": "code",
   "execution_count": 92,
   "outputs": [],
   "source": [
    "def teamScraper(team, year):\n",
    "    roster, team_ids = teamRoster(team, year)\n",
    "    for x in range(len(roster)):\n",
    "        try:\n",
    "            if x == 0:\n",
    "                player = roster[x]\n",
    "                df = statScraper(player, year, '01', team, team_ids)\n",
    "            else:\n",
    "                player = roster[x]\n",
    "                df2 = statScraper(player, year, '01', team, team_ids)\n",
    "                df = df.append(df2)\n",
    "        except:\n",
    "            pass\n",
    "    return df"
   ],
   "metadata": {
    "collapsed": false,
    "pycharm": {
     "name": "#%%\n"
    }
   }
  },
  {
   "cell_type": "code",
   "execution_count": 93,
   "outputs": [],
   "source": [
    "def leagueScraper(year):\n",
    "    rosters, team_ids = leagueRosters(year)\n",
    "    y = 0\n",
    "    for team in rosters:\n",
    "        for x in range(len(rosters[team])):\n",
    "            try:\n",
    "                if x == 0 and y == 0:\n",
    "                    player = rosters[team][x]\n",
    "                    print(player)\n",
    "                    df = statScraper(player, year, '01', team, team_ids)\n",
    "                else:\n",
    "                    player = rosters[team][x]\n",
    "                    df = df.append(statScraper(player, year, '01', team, team_ids))\n",
    "            except:\n",
    "                pass\n",
    "        y+=1\n",
    "    return df"
   ],
   "metadata": {
    "collapsed": false,
    "pycharm": {
     "name": "#%%\n"
    }
   }
  },
  {
   "cell_type": "code",
   "execution_count": 94,
   "outputs": [],
   "source": [
    "def save_df(df, title, path):\n",
    "    df.to_csv(rf'{path}\\{title}.csv', index=False)\n"
   ],
   "metadata": {
    "collapsed": false,
    "pycharm": {
     "name": "#%%\n"
    }
   }
  },
  {
   "cell_type": "code",
   "execution_count": 94,
   "outputs": [],
   "source": [],
   "metadata": {
    "collapsed": false,
    "pycharm": {
     "name": "#%%\n"
    }
   }
  },
  {
   "cell_type": "code",
   "execution_count": 103,
   "outputs": [
    {
     "name": "stdout",
     "output_type": "stream",
     "text": [
      "ATL roster successfully parsed\n",
      "https://www.basketball-reference.com/players/B/BazemKe01/gamelog/2016/\n",
      "200\n",
      "https://www.basketball-reference.com/players/B/BazemKe01/gamelog-advanced/2016/\n",
      "200\n",
      "Successfully Scraped: Kent Bazemore\n",
      "https://www.basketball-reference.com/players/H/HardaTi01/gamelog/2016/\n",
      "200\n",
      "https://www.basketball-reference.com/players/H/HardaTi01/gamelog-advanced/2016/\n",
      "200\n",
      "https://www.basketball-reference.com/players/H/HardaTi02/gamelog/2016/\n",
      "200\n",
      "https://www.basketball-reference.com/players/H/HardaTi02/gamelog-advanced/2016/\n",
      "200\n",
      "Successfully Scraped: Tim Hardaway\n",
      "https://www.basketball-reference.com/players/H/HinriKi01/gamelog/2016/\n",
      "200\n",
      "https://www.basketball-reference.com/players/H/HinriKi01/gamelog-advanced/2016/\n",
      "200\n",
      "Successfully Scraped: Kirk Hinrich\n",
      "https://www.basketball-reference.com/players/H/HolidJu01/gamelog/2016/\n",
      "200\n",
      "https://www.basketball-reference.com/players/H/HolidJu01/gamelog-advanced/2016/\n",
      "200\n",
      "Successfully Scraped: Justin Holiday\n",
      "https://www.basketball-reference.com/players/H/HorfoAl01/gamelog/2016/\n",
      "200\n",
      "https://www.basketball-reference.com/players/H/HorfoAl01/gamelog-advanced/2016/\n",
      "200\n",
      "Successfully Scraped: Al Horford\n",
      "https://www.basketball-reference.com/players/H/HumphKr01/gamelog/2016/\n",
      "200\n",
      "https://www.basketball-reference.com/players/H/HumphKr01/gamelog-advanced/2016/\n",
      "200\n",
      "Successfully Scraped: Kris Humphries\n",
      "https://www.basketball-reference.com/players/K/KorveKy01/gamelog/2016/\n",
      "200\n",
      "https://www.basketball-reference.com/players/K/KorveKy01/gamelog-advanced/2016/\n",
      "200\n",
      "Successfully Scraped: Kyle Korver\n",
      "https://www.basketball-reference.com/players/M/MackSh01/gamelog/2016/\n",
      "200\n",
      "https://www.basketball-reference.com/players/M/MackSh01/gamelog-advanced/2016/\n",
      "200\n",
      "Successfully Scraped: Shelvin Mack\n",
      "https://www.basketball-reference.com/players/M/MillsPa01/gamelog/2016/\n",
      "200\n",
      "https://www.basketball-reference.com/players/M/MillsPa01/gamelog-advanced/2016/\n",
      "200\n",
      "Successfully Scraped: Paul Millsap\n",
      "https://www.basketball-reference.com/players/M/MuscaMi01/gamelog/2016/\n",
      "200\n",
      "https://www.basketball-reference.com/players/M/MuscaMi01/gamelog-advanced/2016/\n",
      "200\n",
      "Successfully Scraped: Mike Muscala\n",
      "https://www.basketball-reference.com/players/P/PatteLa01/gamelog/2016/\n",
      "200\n",
      "https://www.basketball-reference.com/players/P/PatteLa01/gamelog-advanced/2016/\n",
      "200\n",
      "Successfully Scraped: Lamar Patterson\n",
      "https://www.basketball-reference.com/players/S/SchroDe01/gamelog/2016/\n",
      "200\n",
      "https://www.basketball-reference.com/players/S/SchroDe01/gamelog-advanced/2016/\n",
      "200\n",
      "Successfully Scraped: Dennis Schroder\n",
      "https://www.basketball-reference.com/players/S/ScottMi01/gamelog/2016/\n",
      "200\n",
      "https://www.basketball-reference.com/players/S/ScottMi01/gamelog-advanced/2016/\n",
      "200\n",
      "Successfully Scraped: Mike Scott\n",
      "https://www.basketball-reference.com/players/S/SefolTh01/gamelog/2016/\n",
      "200\n",
      "https://www.basketball-reference.com/players/S/SefolTh01/gamelog-advanced/2016/\n",
      "200\n",
      "Successfully Scraped: Thabo Sefolosha\n",
      "https://www.basketball-reference.com/players/S/SplitTi01/gamelog/2016/\n",
      "200\n",
      "https://www.basketball-reference.com/players/S/SplitTi01/gamelog-advanced/2016/\n",
      "200\n",
      "Successfully Scraped: Tiago Splitter\n",
      "https://www.basketball-reference.com/players/T/TavarEd01/gamelog/2016/\n",
      "200\n",
      "https://www.basketball-reference.com/players/T/TavarEd01/gamelog-advanced/2016/\n",
      "200\n",
      "https://www.basketball-reference.com/players/T/TavarEd02/gamelog/2016/\n",
      "200\n",
      "https://www.basketball-reference.com/players/T/TavarEd02/gamelog-advanced/2016/\n",
      "200\n",
      "https://www.basketball-reference.com/players/T/TavarEd04/gamelog/2016/\n",
      "200\n",
      "https://www.basketball-reference.com/players/T/TavarEd04/gamelog-advanced/2016/\n",
      "200\n",
      "https://www.basketball-reference.com/players/T/TavarEd07/gamelog/2016/\n",
      "200\n",
      "https://www.basketball-reference.com/players/T/TavarEd07/gamelog-advanced/2016/\n",
      "200\n",
      "https://www.basketball-reference.com/players/T/TavarEd011/gamelog/2016/\n",
      "200\n",
      "https://www.basketball-reference.com/players/T/TavarEd011/gamelog-advanced/2016/\n",
      "200\n",
      "https://www.basketball-reference.com/players/T/TavarEd016/gamelog/2016/\n",
      "200\n",
      "https://www.basketball-reference.com/players/T/TavarEd016/gamelog-advanced/2016/\n",
      "200\n",
      "Stat scraping failed for: Edy Tavares\n",
      "https://www.basketball-reference.com/players/T/TeaguJe01/gamelog/2016/\n",
      "200\n",
      "https://www.basketball-reference.com/players/T/TeaguJe01/gamelog-advanced/2016/\n",
      "200\n",
      "Successfully Scraped: Jeff Teague\n"
     ]
    },
    {
     "ename": "PermissionError",
     "evalue": "[Errno 13] Permission denied: 'C:\\\\Users\\\\jleus\\\\OneDrive\\\\Documents\\\\CSVS\\\\Hawks2016v2.csv'",
     "output_type": "error",
     "traceback": [
      "\u001B[1;31m---------------------------------------------------------------------------\u001B[0m",
      "\u001B[1;31mPermissionError\u001B[0m                           Traceback (most recent call last)",
      "\u001B[1;32m~\\AppData\\Local\\Temp/ipykernel_7580/62441887.py\u001B[0m in \u001B[0;36m<module>\u001B[1;34m\u001B[0m\n\u001B[1;32m----> 1\u001B[1;33m \u001B[0msave_df\u001B[0m\u001B[1;33m(\u001B[0m\u001B[0mteamScraper\u001B[0m\u001B[1;33m(\u001B[0m\u001B[1;34m'Atlanta Hawks'\u001B[0m\u001B[1;33m,\u001B[0m \u001B[1;34m'2016'\u001B[0m\u001B[1;33m)\u001B[0m\u001B[1;33m,\u001B[0m \u001B[1;34m'Hawks2016v2'\u001B[0m\u001B[1;33m,\u001B[0m \u001B[1;34mr\"C:\\Users\\jleus\\OneDrive\\Documents\\CSVS\"\u001B[0m\u001B[1;33m)\u001B[0m\u001B[1;33m\u001B[0m\u001B[1;33m\u001B[0m\u001B[0m\n\u001B[0m",
      "\u001B[1;32m~\\AppData\\Local\\Temp/ipykernel_7580/2001810416.py\u001B[0m in \u001B[0;36msave_df\u001B[1;34m(df, title, path)\u001B[0m\n\u001B[0;32m      1\u001B[0m \u001B[1;32mdef\u001B[0m \u001B[0msave_df\u001B[0m\u001B[1;33m(\u001B[0m\u001B[0mdf\u001B[0m\u001B[1;33m,\u001B[0m \u001B[0mtitle\u001B[0m\u001B[1;33m,\u001B[0m \u001B[0mpath\u001B[0m\u001B[1;33m)\u001B[0m\u001B[1;33m:\u001B[0m\u001B[1;33m\u001B[0m\u001B[1;33m\u001B[0m\u001B[0m\n\u001B[1;32m----> 2\u001B[1;33m     \u001B[0mdf\u001B[0m\u001B[1;33m.\u001B[0m\u001B[0mto_csv\u001B[0m\u001B[1;33m(\u001B[0m\u001B[1;34mrf'{path}\\{title}.csv'\u001B[0m\u001B[1;33m,\u001B[0m \u001B[0mindex\u001B[0m\u001B[1;33m=\u001B[0m\u001B[1;32mFalse\u001B[0m\u001B[1;33m)\u001B[0m\u001B[1;33m\u001B[0m\u001B[1;33m\u001B[0m\u001B[0m\n\u001B[0m\u001B[0;32m      3\u001B[0m \u001B[1;33m\u001B[0m\u001B[0m\n\u001B[0;32m      4\u001B[0m \u001B[1;33m\u001B[0m\u001B[0m\n",
      "\u001B[1;32mc:\\users\\jleus\\pycharmprojects\\nbacnn\\venv\\lib\\site-packages\\pandas\\core\\generic.py\u001B[0m in \u001B[0;36mto_csv\u001B[1;34m(self, path_or_buf, sep, na_rep, float_format, columns, header, index, index_label, mode, encoding, compression, quoting, quotechar, line_terminator, chunksize, date_format, doublequote, escapechar, decimal, errors, storage_options)\u001B[0m\n\u001B[0;32m   3461\u001B[0m         )\n\u001B[0;32m   3462\u001B[0m \u001B[1;33m\u001B[0m\u001B[0m\n\u001B[1;32m-> 3463\u001B[1;33m         return DataFrameRenderer(formatter).to_csv(\n\u001B[0m\u001B[0;32m   3464\u001B[0m             \u001B[0mpath_or_buf\u001B[0m\u001B[1;33m,\u001B[0m\u001B[1;33m\u001B[0m\u001B[1;33m\u001B[0m\u001B[0m\n\u001B[0;32m   3465\u001B[0m             \u001B[0mline_terminator\u001B[0m\u001B[1;33m=\u001B[0m\u001B[0mline_terminator\u001B[0m\u001B[1;33m,\u001B[0m\u001B[1;33m\u001B[0m\u001B[1;33m\u001B[0m\u001B[0m\n",
      "\u001B[1;32mc:\\users\\jleus\\pycharmprojects\\nbacnn\\venv\\lib\\site-packages\\pandas\\io\\formats\\format.py\u001B[0m in \u001B[0;36mto_csv\u001B[1;34m(self, path_or_buf, encoding, sep, columns, index_label, mode, compression, quoting, quotechar, line_terminator, chunksize, date_format, doublequote, escapechar, errors, storage_options)\u001B[0m\n\u001B[0;32m   1103\u001B[0m             \u001B[0mformatter\u001B[0m\u001B[1;33m=\u001B[0m\u001B[0mself\u001B[0m\u001B[1;33m.\u001B[0m\u001B[0mfmt\u001B[0m\u001B[1;33m,\u001B[0m\u001B[1;33m\u001B[0m\u001B[1;33m\u001B[0m\u001B[0m\n\u001B[0;32m   1104\u001B[0m         )\n\u001B[1;32m-> 1105\u001B[1;33m         \u001B[0mcsv_formatter\u001B[0m\u001B[1;33m.\u001B[0m\u001B[0msave\u001B[0m\u001B[1;33m(\u001B[0m\u001B[1;33m)\u001B[0m\u001B[1;33m\u001B[0m\u001B[1;33m\u001B[0m\u001B[0m\n\u001B[0m\u001B[0;32m   1106\u001B[0m \u001B[1;33m\u001B[0m\u001B[0m\n\u001B[0;32m   1107\u001B[0m         \u001B[1;32mif\u001B[0m \u001B[0mcreated_buffer\u001B[0m\u001B[1;33m:\u001B[0m\u001B[1;33m\u001B[0m\u001B[1;33m\u001B[0m\u001B[0m\n",
      "\u001B[1;32mc:\\users\\jleus\\pycharmprojects\\nbacnn\\venv\\lib\\site-packages\\pandas\\io\\formats\\csvs.py\u001B[0m in \u001B[0;36msave\u001B[1;34m(self)\u001B[0m\n\u001B[0;32m    235\u001B[0m         \"\"\"\n\u001B[0;32m    236\u001B[0m         \u001B[1;31m# apply compression and byte/text conversion\u001B[0m\u001B[1;33m\u001B[0m\u001B[1;33m\u001B[0m\u001B[1;33m\u001B[0m\u001B[0m\n\u001B[1;32m--> 237\u001B[1;33m         with get_handle(\n\u001B[0m\u001B[0;32m    238\u001B[0m             \u001B[0mself\u001B[0m\u001B[1;33m.\u001B[0m\u001B[0mfilepath_or_buffer\u001B[0m\u001B[1;33m,\u001B[0m\u001B[1;33m\u001B[0m\u001B[1;33m\u001B[0m\u001B[0m\n\u001B[0;32m    239\u001B[0m             \u001B[0mself\u001B[0m\u001B[1;33m.\u001B[0m\u001B[0mmode\u001B[0m\u001B[1;33m,\u001B[0m\u001B[1;33m\u001B[0m\u001B[1;33m\u001B[0m\u001B[0m\n",
      "\u001B[1;32mc:\\users\\jleus\\pycharmprojects\\nbacnn\\venv\\lib\\site-packages\\pandas\\io\\common.py\u001B[0m in \u001B[0;36mget_handle\u001B[1;34m(path_or_buf, mode, encoding, compression, memory_map, is_text, errors, storage_options)\u001B[0m\n\u001B[0;32m    699\u001B[0m         \u001B[1;32mif\u001B[0m \u001B[0mioargs\u001B[0m\u001B[1;33m.\u001B[0m\u001B[0mencoding\u001B[0m \u001B[1;32mand\u001B[0m \u001B[1;34m\"b\"\u001B[0m \u001B[1;32mnot\u001B[0m \u001B[1;32min\u001B[0m \u001B[0mioargs\u001B[0m\u001B[1;33m.\u001B[0m\u001B[0mmode\u001B[0m\u001B[1;33m:\u001B[0m\u001B[1;33m\u001B[0m\u001B[1;33m\u001B[0m\u001B[0m\n\u001B[0;32m    700\u001B[0m             \u001B[1;31m# Encoding\u001B[0m\u001B[1;33m\u001B[0m\u001B[1;33m\u001B[0m\u001B[1;33m\u001B[0m\u001B[0m\n\u001B[1;32m--> 701\u001B[1;33m             handle = open(\n\u001B[0m\u001B[0;32m    702\u001B[0m                 \u001B[0mhandle\u001B[0m\u001B[1;33m,\u001B[0m\u001B[1;33m\u001B[0m\u001B[1;33m\u001B[0m\u001B[0m\n\u001B[0;32m    703\u001B[0m                 \u001B[0mioargs\u001B[0m\u001B[1;33m.\u001B[0m\u001B[0mmode\u001B[0m\u001B[1;33m,\u001B[0m\u001B[1;33m\u001B[0m\u001B[1;33m\u001B[0m\u001B[0m\n",
      "\u001B[1;31mPermissionError\u001B[0m: [Errno 13] Permission denied: 'C:\\\\Users\\\\jleus\\\\OneDrive\\\\Documents\\\\CSVS\\\\Hawks2016v2.csv'"
     ]
    }
   ],
   "source": [
    "save_df(teamScraper('Atlanta Hawks', '2016'), 'Hawks2016v2', r\"C:\\Users\\jleus\\OneDrive\\Documents\\CSVS\")"
   ],
   "metadata": {
    "collapsed": false,
    "pycharm": {
     "name": "#%%\n"
    }
   }
  },
  {
   "cell_type": "code",
   "execution_count": 101,
   "outputs": [
    {
     "name": "stdout",
     "output_type": "stream",
     "text": [
      "['Tim', 'Hardaway', 1002]\n",
      "01\n",
      "https://www.basketball-reference.com/players/H/HardaTi01/gamelog/2016/\n",
      "200\n",
      "https://www.basketball-reference.com/players/H/HardaTi01/gamelog-advanced/2016/\n",
      "200\n",
      "['Tim', 'Hardaway', 1002]\n",
      "02\n",
      "https://www.basketball-reference.com/players/H/HardaTi02/gamelog/2016/\n",
      "200\n",
      "https://www.basketball-reference.com/players/H/HardaTi02/gamelog-advanced/2016/\n",
      "200\n",
      "Successfully Scraped: Tim Hardaway\n"
     ]
    },
    {
     "data": {
      "text/plain": "             Name   G        Date     Age   Tm Location  Opp       GS  \\\n0   Hardaway, Tim      2015-10-27  23-225  ATL           DET  L (-12)   \n1   Hardaway, Tim      2015-10-29  23-227  ATL        @  NYK  W (+11)   \n2   Hardaway, Tim      2015-10-30  23-228  ATL           CHO   W (+3)   \n3   Hardaway, Tim      2015-11-01  23-230  ATL        @  CHO   W (+2)   \n4   Hardaway, Tim      2015-11-03  23-232  ATL        @  MIA   W (+6)   \n..            ...  ..         ...     ...  ...      ...  ...      ...   \n77  Hardaway, Tim  47  2016-04-05  24-020  ATL           PHO  W (+13)   \n78  Hardaway, Tim  48  2016-04-07  24-022  ATL           TOR   W (+8)   \n79  Hardaway, Tim  49  2016-04-09  24-024  ATL           BOS  W (+11)   \n80  Hardaway, Tim  50  2016-04-11  24-026  ATL        @  CLE  L (-15)   \n81  Hardaway, Tim  51  2016-04-13  24-028  ATL        @  WAS  L (-11)   \n\n          Active     MP  ...  DRB%  TRB%  AST%  STL%  BLK%  TOV%  USG%  ORtg  \\\n0       Inactive   None  ...  None  None  None  None  None  None  None  None   \n1   Did Not Play   None  ...  None  None  None  None  None  None  None  None   \n2   Did Not Play   None  ...  None  None  None  None  None  None  None  None   \n3       Inactive   None  ...  None  None  None  None  None  None  None  None   \n4   Did Not Play   None  ...  None  None  None  None  None  None  None  None   \n..           ...    ...  ...   ...   ...   ...   ...   ...   ...   ...   ...   \n77             0  13:39  ...   7.3   3.5  22.0   0.0   0.0   0.0  19.9   138   \n78             0  27:34  ...   4.0   2.0   0.0   1.9   5.5   0.0  12.4   136   \n79             0  11:23  ...   0.0   0.0   0.0   0.0   0.0   0.0   9.4   125   \n80             0  17:02  ...  13.7   6.3  10.2   0.0   0.0   0.0  20.8   104   \n81             0  15:45  ...  24.9  12.4  15.4   0.0   0.0  11.3  23.2   133   \n\n    DRtg   BPM  \n0   None  None  \n1   None  None  \n2   None  None  \n3   None  None  \n4   None  None  \n..   ...   ...  \n77    96   1.6  \n78    95   8.8  \n79   114  -7.5  \n80   119  -1.5  \n81   107  11.8  \n\n[82 rows x 45 columns]",
      "text/html": "<div>\n<style scoped>\n    .dataframe tbody tr th:only-of-type {\n        vertical-align: middle;\n    }\n\n    .dataframe tbody tr th {\n        vertical-align: top;\n    }\n\n    .dataframe thead th {\n        text-align: right;\n    }\n</style>\n<table border=\"1\" class=\"dataframe\">\n  <thead>\n    <tr style=\"text-align: right;\">\n      <th></th>\n      <th>Name</th>\n      <th>G</th>\n      <th>Date</th>\n      <th>Age</th>\n      <th>Tm</th>\n      <th>Location</th>\n      <th>Opp</th>\n      <th>GS</th>\n      <th>Active</th>\n      <th>MP</th>\n      <th>...</th>\n      <th>DRB%</th>\n      <th>TRB%</th>\n      <th>AST%</th>\n      <th>STL%</th>\n      <th>BLK%</th>\n      <th>TOV%</th>\n      <th>USG%</th>\n      <th>ORtg</th>\n      <th>DRtg</th>\n      <th>BPM</th>\n    </tr>\n  </thead>\n  <tbody>\n    <tr>\n      <th>0</th>\n      <td>Hardaway, Tim</td>\n      <td></td>\n      <td>2015-10-27</td>\n      <td>23-225</td>\n      <td>ATL</td>\n      <td></td>\n      <td>DET</td>\n      <td>L (-12)</td>\n      <td>Inactive</td>\n      <td>None</td>\n      <td>...</td>\n      <td>None</td>\n      <td>None</td>\n      <td>None</td>\n      <td>None</td>\n      <td>None</td>\n      <td>None</td>\n      <td>None</td>\n      <td>None</td>\n      <td>None</td>\n      <td>None</td>\n    </tr>\n    <tr>\n      <th>1</th>\n      <td>Hardaway, Tim</td>\n      <td></td>\n      <td>2015-10-29</td>\n      <td>23-227</td>\n      <td>ATL</td>\n      <td>@</td>\n      <td>NYK</td>\n      <td>W (+11)</td>\n      <td>Did Not Play</td>\n      <td>None</td>\n      <td>...</td>\n      <td>None</td>\n      <td>None</td>\n      <td>None</td>\n      <td>None</td>\n      <td>None</td>\n      <td>None</td>\n      <td>None</td>\n      <td>None</td>\n      <td>None</td>\n      <td>None</td>\n    </tr>\n    <tr>\n      <th>2</th>\n      <td>Hardaway, Tim</td>\n      <td></td>\n      <td>2015-10-30</td>\n      <td>23-228</td>\n      <td>ATL</td>\n      <td></td>\n      <td>CHO</td>\n      <td>W (+3)</td>\n      <td>Did Not Play</td>\n      <td>None</td>\n      <td>...</td>\n      <td>None</td>\n      <td>None</td>\n      <td>None</td>\n      <td>None</td>\n      <td>None</td>\n      <td>None</td>\n      <td>None</td>\n      <td>None</td>\n      <td>None</td>\n      <td>None</td>\n    </tr>\n    <tr>\n      <th>3</th>\n      <td>Hardaway, Tim</td>\n      <td></td>\n      <td>2015-11-01</td>\n      <td>23-230</td>\n      <td>ATL</td>\n      <td>@</td>\n      <td>CHO</td>\n      <td>W (+2)</td>\n      <td>Inactive</td>\n      <td>None</td>\n      <td>...</td>\n      <td>None</td>\n      <td>None</td>\n      <td>None</td>\n      <td>None</td>\n      <td>None</td>\n      <td>None</td>\n      <td>None</td>\n      <td>None</td>\n      <td>None</td>\n      <td>None</td>\n    </tr>\n    <tr>\n      <th>4</th>\n      <td>Hardaway, Tim</td>\n      <td></td>\n      <td>2015-11-03</td>\n      <td>23-232</td>\n      <td>ATL</td>\n      <td>@</td>\n      <td>MIA</td>\n      <td>W (+6)</td>\n      <td>Did Not Play</td>\n      <td>None</td>\n      <td>...</td>\n      <td>None</td>\n      <td>None</td>\n      <td>None</td>\n      <td>None</td>\n      <td>None</td>\n      <td>None</td>\n      <td>None</td>\n      <td>None</td>\n      <td>None</td>\n      <td>None</td>\n    </tr>\n    <tr>\n      <th>...</th>\n      <td>...</td>\n      <td>...</td>\n      <td>...</td>\n      <td>...</td>\n      <td>...</td>\n      <td>...</td>\n      <td>...</td>\n      <td>...</td>\n      <td>...</td>\n      <td>...</td>\n      <td>...</td>\n      <td>...</td>\n      <td>...</td>\n      <td>...</td>\n      <td>...</td>\n      <td>...</td>\n      <td>...</td>\n      <td>...</td>\n      <td>...</td>\n      <td>...</td>\n      <td>...</td>\n    </tr>\n    <tr>\n      <th>77</th>\n      <td>Hardaway, Tim</td>\n      <td>47</td>\n      <td>2016-04-05</td>\n      <td>24-020</td>\n      <td>ATL</td>\n      <td></td>\n      <td>PHO</td>\n      <td>W (+13)</td>\n      <td>0</td>\n      <td>13:39</td>\n      <td>...</td>\n      <td>7.3</td>\n      <td>3.5</td>\n      <td>22.0</td>\n      <td>0.0</td>\n      <td>0.0</td>\n      <td>0.0</td>\n      <td>19.9</td>\n      <td>138</td>\n      <td>96</td>\n      <td>1.6</td>\n    </tr>\n    <tr>\n      <th>78</th>\n      <td>Hardaway, Tim</td>\n      <td>48</td>\n      <td>2016-04-07</td>\n      <td>24-022</td>\n      <td>ATL</td>\n      <td></td>\n      <td>TOR</td>\n      <td>W (+8)</td>\n      <td>0</td>\n      <td>27:34</td>\n      <td>...</td>\n      <td>4.0</td>\n      <td>2.0</td>\n      <td>0.0</td>\n      <td>1.9</td>\n      <td>5.5</td>\n      <td>0.0</td>\n      <td>12.4</td>\n      <td>136</td>\n      <td>95</td>\n      <td>8.8</td>\n    </tr>\n    <tr>\n      <th>79</th>\n      <td>Hardaway, Tim</td>\n      <td>49</td>\n      <td>2016-04-09</td>\n      <td>24-024</td>\n      <td>ATL</td>\n      <td></td>\n      <td>BOS</td>\n      <td>W (+11)</td>\n      <td>0</td>\n      <td>11:23</td>\n      <td>...</td>\n      <td>0.0</td>\n      <td>0.0</td>\n      <td>0.0</td>\n      <td>0.0</td>\n      <td>0.0</td>\n      <td>0.0</td>\n      <td>9.4</td>\n      <td>125</td>\n      <td>114</td>\n      <td>-7.5</td>\n    </tr>\n    <tr>\n      <th>80</th>\n      <td>Hardaway, Tim</td>\n      <td>50</td>\n      <td>2016-04-11</td>\n      <td>24-026</td>\n      <td>ATL</td>\n      <td>@</td>\n      <td>CLE</td>\n      <td>L (-15)</td>\n      <td>0</td>\n      <td>17:02</td>\n      <td>...</td>\n      <td>13.7</td>\n      <td>6.3</td>\n      <td>10.2</td>\n      <td>0.0</td>\n      <td>0.0</td>\n      <td>0.0</td>\n      <td>20.8</td>\n      <td>104</td>\n      <td>119</td>\n      <td>-1.5</td>\n    </tr>\n    <tr>\n      <th>81</th>\n      <td>Hardaway, Tim</td>\n      <td>51</td>\n      <td>2016-04-13</td>\n      <td>24-028</td>\n      <td>ATL</td>\n      <td>@</td>\n      <td>WAS</td>\n      <td>L (-11)</td>\n      <td>0</td>\n      <td>15:45</td>\n      <td>...</td>\n      <td>24.9</td>\n      <td>12.4</td>\n      <td>15.4</td>\n      <td>0.0</td>\n      <td>0.0</td>\n      <td>11.3</td>\n      <td>23.2</td>\n      <td>133</td>\n      <td>107</td>\n      <td>11.8</td>\n    </tr>\n  </tbody>\n</table>\n<p>82 rows × 45 columns</p>\n</div>"
     },
     "execution_count": 101,
     "metadata": {},
     "output_type": "execute_result"
    }
   ],
   "source": [
    "statScraper(['Tim', 'Hardaway', 1002], '2016', '01', 'Atlanta Hawks', {'Golden State Warriors': ['GSW', 101], 'Oklahoma City Thunder': ['OKC', 102], 'Sacramento Kings': ['SAC', 103], 'Houston Rockets': ['HOU', 104], 'Boston Celtics': ['BOS', 105], 'Portland Trail Blazers': ['POR', 106], 'Los Angeles Clippers': ['LAC', 107], 'Cleveland Cavaliers': ['CLE', 108], 'Washington Wizards': ['WAS', 109], 'San Antonio Spurs': ['SAS', 110], 'Charlotte Hornets': ['CHO', 111], 'Atlanta Hawks': ['ATL', 112], 'Toronto Raptors': ['TOR', 113], 'New Orleans Pelicans': ['NOP', 114], 'Minnesota Timberwolves': ['MIN', 115], 'Dallas Mavericks': ['DAL', 116], 'Indiana Pacers': ['IND', 117], 'Orlando Magic': ['ORL', 118], 'Detroit Pistons': ['DET', 119], 'Denver Nuggets': ['DEN', 120], 'Chicago Bulls': ['CHI', 121], 'Phoenix Suns': ['PHO', 122], 'Miami Heat': ['MIA', 123], 'Memphis Grizzlies': ['MEM', 124], 'Milwaukee Bucks': ['MIL', 125], 'Brooklyn Nets': ['BRK', 126], 'New York Knicks': ['NYK', 127], 'Utah Jazz': ['UTA', 128], 'Philadelphia 76ers': ['PHI', 129], 'Los Angeles Lakers': ['LAL', 130]})\n"
   ],
   "metadata": {
    "collapsed": false,
    "pycharm": {
     "name": "#%%\n"
    }
   }
  }
 ],
 "metadata": {
  "kernelspec": {
   "display_name": "Python 3",
   "language": "python",
   "name": "python3"
  },
  "language_info": {
   "codemirror_mode": {
    "name": "ipython",
    "version": 2
   },
   "file_extension": ".py",
   "mimetype": "text/x-python",
   "name": "python",
   "nbconvert_exporter": "python",
   "pygments_lexer": "ipython2",
   "version": "2.7.6"
  }
 },
 "nbformat": 4,
 "nbformat_minor": 0
}