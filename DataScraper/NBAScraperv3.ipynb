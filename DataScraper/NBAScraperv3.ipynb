{
 "cells": [
  {
   "cell_type": "code",
   "execution_count": null,
   "outputs": [],
   "source": [],
   "metadata": {
    "collapsed": false,
    "pycharm": {
     "name": "#%%\n"
    }
   }
  },
  {
   "cell_type": "code",
   "execution_count": null,
   "outputs": [],
   "source": [],
   "metadata": {
    "collapsed": false,
    "pycharm": {
     "name": "#%%\n"
    }
   }
  },
  {
   "cell_type": "code",
   "execution_count": 1,
   "outputs": [],
   "source": [
    "#package installs\n",
    "import numpy as np\n",
    "import pandas as pd\n",
    "from bs4 import BeautifulSoup\n",
    "import requests\n",
    "import unidecode\n",
    "import re"
   ],
   "metadata": {
    "collapsed": false,
    "pycharm": {
     "name": "#%%\n"
    }
   }
  },
  {
   "cell_type": "code",
   "execution_count": 2,
   "outputs": [],
   "source": [
    "def statScraper(name, year, playerindex, team, team_ids):\n",
    "    y = 0\n",
    "    while True:\n",
    "        checker = 0\n",
    "        playerindexint = 1 + y\n",
    "        playerindex = '0' + str(playerindexint)\n",
    "        for x in range(2):\n",
    "            url, advanced = urlConvertor(name, year, playerindex, x)\n",
    "            print(url)\n",
    "            try:\n",
    "                result = requests.get(url)\n",
    "                print(result.status_code)\n",
    "                src = result.content\n",
    "                soup = BeautifulSoup(src, 'lxml')\n",
    "                table = soup.find('table', {'class': 'row_summable'})\n",
    "                trs = table.find_all('tr')\n",
    "                rows = []\n",
    "                for tr in trs:\n",
    "                    tds = tr.find_all('td')\n",
    "                    row = [td.text.replace('\\n', '').strip() for td in tds]\n",
    "                    rows.append(row)\n",
    "                if x == 0:\n",
    "                    columns = ['G', 'Date', 'Age', 'Tm', 'Location', 'Opp',\n",
    "                               'GS', 'Active', 'MP', 'FG', 'FGA', 'FG%',\n",
    "                               '3P', '3PA', '3P%', 'FT', 'FTA', 'FT%', 'ORB',\n",
    "                               'DRB', 'TRB', 'AST', 'STL', 'BLK', 'TOV', 'PF',\n",
    "                               'PTS', 'GmSc', '+/-']\n",
    "                    df = pd.DataFrame(rows, columns=columns)\n",
    "                    df = df[df['Tm'] == team_ids[team][0]]\n",
    "                    result.close()\n",
    "                    df['PlayerID'] = name[2]\n",
    "                    df['TmID'] = team_ids[team][1]\n",
    "                elif x == 1:\n",
    "                    columns = ['G', 'Date', 'Age', 'Tm', 'Location', 'Opp', 'GS',\n",
    "                               'Active', 'MP', 'TS%', 'eFG%', 'ORB%', 'DRB%',\n",
    "                               'TRB%', 'AST%', 'STL%', 'BLK%', 'TOV%',\n",
    "                               'USG%', 'ORtg', 'DRtg', 'GmSc', 'BPM']\n",
    "                    df2 = pd.DataFrame(rows, columns=columns)\n",
    "                    df2 = df2[df2['Tm'] == team_ids[team][0]]\n",
    "                    result.close()\n",
    "                    df2 = df2.drop(df2.columns[[0, 2, 3, 4, 5, 6, 7, 8, -2]], axis=1)\n",
    "            except:\n",
    "                print('hit first except branch')\n",
    "                if y > 4:\n",
    "                    print('Stat scraping failed for:', name[0], name[1])\n",
    "                    return None\n",
    "                y+=1\n",
    "                checker = 1\n",
    "                break\n",
    "        if checker == 0:\n",
    "            try:\n",
    "                if len(df) > 0:\n",
    "                    statdf = pd.merge(df, df2,how='outer', on='Date')\n",
    "                    statdf.insert(0, 'Name', name[1] + ', ' + name[0])\n",
    "                    print('Successfully Scraped:', name[0], name[1])\n",
    "                    return statdf\n",
    "                else:\n",
    "                    if y > 4:\n",
    "                        print('Stat scraping failed for:', name[0], name[1])\n",
    "                        return None\n",
    "                    y+=1\n",
    "            except:\n",
    "                if y > 4:\n",
    "                    print('Stat scraping failed for:', name[0], name[1])\n",
    "                    return None\n",
    "                y+=1\n",
    "\n"
   ],
   "metadata": {
    "collapsed": false,
    "pycharm": {
     "name": "#%%\n"
    }
   }
  },
  {
   "cell_type": "code",
   "execution_count": 3,
   "outputs": [],
   "source": [
    "def urlConvertor(name, year, playerindex, advanced: bool):\n",
    "    lname = name[1]\n",
    "    fname = name[0]\n",
    "    lnamelist = list(lname)\n",
    "    linitial = lnamelist[0]\n",
    "    fnamelist = list(fname)\n",
    "    lname5 = ''\n",
    "    for x in range(5):\n",
    "        try:\n",
    "            lname5 += lnamelist[x]\n",
    "        except:\n",
    "            break\n",
    "    f2i = fnamelist[0] + fnamelist[1]\n",
    "    if advanced == False:\n",
    "        url = f'https://www.basketball-reference.com/players/{linitial}/{lname5}{f2i}{playerindex}/gamelog/{year}/'\n",
    "    else:\n",
    "        url = f'https://www.basketball-reference.com/players/{linitial}/{lname5}{f2i}{playerindex}/gamelog-advanced/{year}/'\n",
    "    return url, advanced\n"
   ],
   "metadata": {
    "collapsed": false,
    "pycharm": {
     "name": "#%%\n"
    }
   }
  },
  {
   "cell_type": "code",
   "execution_count": 4,
   "outputs": [],
   "source": [
    "def rosterScraper(TeamID, year, id_number):\n",
    "    url = f\"https://www.basketball-reference.com/teams/{TeamID}/{year}.html\"\n",
    "    result = requests.get(url)\n",
    "    try:\n",
    "        src = result.content\n",
    "        soup = BeautifulSoup(src, 'lxml')\n",
    "        table = soup.find('table', {'class': 'sortable'})\n",
    "        names = []\n",
    "        trs = table.find_all('tr')\n",
    "        rows = []\n",
    "        for tr in trs:\n",
    "            try:\n",
    "                td = tr.find('td', {'data-stat': 'player'})\n",
    "                a_tag = td.find('a')\n",
    "                name = a_tag.get_text()\n",
    "                name = unidecode.unidecode(name)\n",
    "                name = re.sub(r'[^\\w\\s]','',name)\n",
    "                names.append(name)\n",
    "            except:\n",
    "                pass\n",
    "        for x in range(len(names)):\n",
    "            names[x] = names[x].split()\n",
    "            names[x].append(id_number)\n",
    "            id_number += 1\n",
    "        print(TeamID,\"roster successfully parsed\")\n",
    "        return names\n",
    "    except:\n",
    "        return False\n",
    "\n"
   ],
   "metadata": {
    "collapsed": false,
    "pycharm": {
     "name": "#%%\n"
    }
   }
  },
  {
   "cell_type": "code",
   "execution_count": 5,
   "outputs": [],
   "source": [
    "def teamFinder(year):\n",
    "    team_id = 101\n",
    "    url = f\"https://www.basketball-reference.com/leagues/NBA_{year}.html\"\n",
    "    result = requests.get(url)\n",
    "    src = result.content\n",
    "    soup = BeautifulSoup(src, 'lxml')\n",
    "    table = soup.find('table', {'class': 'stats_table sortable', 'data-cols-to-freeze': ',2', 'id': 'per_game-team'})\n",
    "    teams = []\n",
    "    ids = {}\n",
    "    trs = table.find_all('tr')\n",
    "    x = 0\n",
    "    for tr in trs[1:]:\n",
    "        #print(tr.prettify())\n",
    "        try:\n",
    "            td = tr.find('td', {'data-stat': 'team', 'class': 'left'})\n",
    "            a_tag = td.find('a')\n",
    "            team = a_tag.get_text()\n",
    "            teams.append(team)\n",
    "            link = a_tag.attrs['href']\n",
    "            link = list(link)\n",
    "            acronym = link[7] + link[8] + link[9]\n",
    "            ids[teams[x]] = []\n",
    "            ids[teams[x]].append(acronym)\n",
    "            x+=1\n",
    "        except:\n",
    "            pass\n",
    "    for x in range(len(teams)):\n",
    "        ids[teams[x]].append(team_id)\n",
    "        team_id+=1\n",
    "    return teams, ids"
   ],
   "metadata": {
    "collapsed": false,
    "pycharm": {
     "name": "#%%\n"
    }
   }
  },
  {
   "cell_type": "code",
   "execution_count": 6,
   "outputs": [],
   "source": [
    "def leagueRosters(year):\n",
    "    teamrosters = {}\n",
    "    id_number = 1001\n",
    "    teams, team_ids = teamFinder(year)\n",
    "    for team in teams:\n",
    "        teamrosters[team] = rosterScraper(team_ids[team][0], year, id_number)\n",
    "        id_number+=len(teamrosters[team])\n",
    "    return teamrosters, team_ids"
   ],
   "metadata": {
    "collapsed": false,
    "pycharm": {
     "name": "#%%\n"
    }
   }
  },
  {
   "cell_type": "code",
   "execution_count": 7,
   "outputs": [],
   "source": [
    "def teamRoster(team, year):\n",
    "    roster = []\n",
    "    id_number = 1001\n",
    "    teams, team_ids = teamFinder(year)\n",
    "    roster = rosterScraper(team_ids[team][0], year, id_number)\n",
    "    return roster, team_ids\n"
   ],
   "metadata": {
    "collapsed": false,
    "pycharm": {
     "name": "#%%\n"
    }
   }
  },
  {
   "cell_type": "code",
   "execution_count": 8,
   "outputs": [],
   "source": [
    "def playerScraper(name, team, year):\n",
    "    name = name.split()\n",
    "    name.append('1001')\n",
    "    teams, team_ids = teamFinder(year)\n",
    "    df = statScraper(name, year, '01', team, team_ids)\n",
    "    return df\n"
   ],
   "metadata": {
    "collapsed": false,
    "pycharm": {
     "name": "#%%\n"
    }
   }
  },
  {
   "cell_type": "code",
   "execution_count": 9,
   "outputs": [],
   "source": [
    "def teamScraper(team, year):\n",
    "    roster, team_ids = teamRoster(team, year)\n",
    "    for x in range(len(roster)):\n",
    "        try:\n",
    "            if x == 0:\n",
    "                player = roster[x]\n",
    "                df = statScraper(player, year, '01', team, team_ids)\n",
    "            else:\n",
    "                player = roster[x]\n",
    "                df2 = statScraper(player, year, '01', team, team_ids)\n",
    "                df = df.append(df2)\n",
    "        except:\n",
    "            pass\n",
    "    return df"
   ],
   "metadata": {
    "collapsed": false,
    "pycharm": {
     "name": "#%%\n"
    }
   }
  },
  {
   "cell_type": "code",
   "execution_count": 10,
   "outputs": [],
   "source": [
    "def leagueScraper(year):\n",
    "    rosters, team_ids = leagueRosters(year)\n",
    "    y = 0\n",
    "    for team in rosters:\n",
    "        for x in range(len(rosters[team])):\n",
    "            try:\n",
    "                if x == 0 and y == 0:\n",
    "                    player = rosters[team][x]\n",
    "                    df = statScraper(player, year, '01', team, team_ids)\n",
    "                else:\n",
    "                    player = rosters[team][x]\n",
    "                    df = df.append(statScraper(player, year, '01', team, team_ids))\n",
    "            except:\n",
    "                pass\n",
    "        y+=1\n",
    "    return df"
   ],
   "metadata": {
    "collapsed": false,
    "pycharm": {
     "name": "#%%\n"
    }
   }
  },
  {
   "cell_type": "code",
   "execution_count": 11,
   "outputs": [],
   "source": [
    "def save_df(df, title, path):\n",
    "    df.to_csv(rf'{path}\\{title}.csv', index=False)\n"
   ],
   "metadata": {
    "collapsed": false,
    "pycharm": {
     "name": "#%%\n"
    }
   }
  },
  {
   "cell_type": "code",
   "execution_count": 11,
   "outputs": [],
   "source": [],
   "metadata": {
    "collapsed": false,
    "pycharm": {
     "name": "#%%\n"
    }
   }
  },
  {
   "cell_type": "code",
   "execution_count": 12,
   "outputs": [
    {
     "name": "stdout",
     "output_type": "stream",
     "text": [
      "ATL roster successfully parsed\n",
      "https://www.basketball-reference.com/players/C/ColliJa01/gamelog/2012/\n",
      "200\n",
      "hit first except branch\n",
      "https://www.basketball-reference.com/players/C/ColliJa02/gamelog/2012/\n",
      "200\n",
      "hit first except branch\n",
      "https://www.basketball-reference.com/players/C/ColliJa03/gamelog/2012/\n",
      "200\n",
      "hit first except branch\n",
      "https://www.basketball-reference.com/players/C/ColliJa04/gamelog/2012/\n",
      "200\n",
      "https://www.basketball-reference.com/players/C/ColliJa04/gamelog-advanced/2012/\n",
      "200\n",
      "Successfully Scraped: Jason Collins\n",
      "https://www.basketball-reference.com/players/D/DampiEr01/gamelog/2012/\n",
      "200\n",
      "https://www.basketball-reference.com/players/D/DampiEr01/gamelog-advanced/2012/\n",
      "200\n",
      "Successfully Scraped: Erick Dampier\n",
      "https://www.basketball-reference.com/players/G/GreenWi01/gamelog/2012/\n",
      "200\n",
      "https://www.basketball-reference.com/players/G/GreenWi01/gamelog-advanced/2012/\n",
      "200\n",
      "Successfully Scraped: Willie Green\n",
      "https://www.basketball-reference.com/players/H/HinriKi01/gamelog/2012/\n",
      "200\n",
      "https://www.basketball-reference.com/players/H/HinriKi01/gamelog-advanced/2012/\n",
      "200\n",
      "Successfully Scraped: Kirk Hinrich\n",
      "https://www.basketball-reference.com/players/H/HorfoAl01/gamelog/2012/\n",
      "200\n",
      "https://www.basketball-reference.com/players/H/HorfoAl01/gamelog-advanced/2012/\n",
      "200\n",
      "Successfully Scraped: Al Horford\n",
      "https://www.basketball-reference.com/players/J/JohnsIv01/gamelog/2012/\n",
      "200\n",
      "https://www.basketball-reference.com/players/J/JohnsIv01/gamelog-advanced/2012/\n",
      "200\n",
      "Successfully Scraped: Ivan Johnson\n",
      "https://www.basketball-reference.com/players/J/JohnsJo01/gamelog/2012/\n",
      "200\n",
      "hit first except branch\n",
      "https://www.basketball-reference.com/players/J/JohnsJo02/gamelog/2012/\n",
      "200\n",
      "https://www.basketball-reference.com/players/J/JohnsJo02/gamelog-advanced/2012/\n",
      "200\n",
      "Successfully Scraped: Joe Johnson\n",
      "https://www.basketball-reference.com/players/M/McGraTr01/gamelog/2012/\n",
      "200\n",
      "https://www.basketball-reference.com/players/M/McGraTr01/gamelog-advanced/2012/\n",
      "200\n",
      "Successfully Scraped: Tracy McGrady\n",
      "https://www.basketball-reference.com/players/P/PachuZa01/gamelog/2012/\n",
      "200\n",
      "https://www.basketball-reference.com/players/P/PachuZa01/gamelog-advanced/2012/\n",
      "200\n",
      "Successfully Scraped: Zaza Pachulia\n",
      "https://www.basketball-reference.com/players/P/PargoJa01/gamelog/2012/\n",
      "200\n",
      "https://www.basketball-reference.com/players/P/PargoJa01/gamelog-advanced/2012/\n",
      "200\n",
      "Successfully Scraped: Jannero Pargo\n",
      "https://www.basketball-reference.com/players/R/RadmaVl01/gamelog/2012/\n",
      "200\n",
      "https://www.basketball-reference.com/players/R/RadmaVl01/gamelog-advanced/2012/\n",
      "200\n",
      "Successfully Scraped: Vladimir Radmanovic\n",
      "https://www.basketball-reference.com/players/S/SloanDo01/gamelog/2012/\n",
      "200\n",
      "https://www.basketball-reference.com/players/S/SloanDo01/gamelog-advanced/2012/\n",
      "200\n",
      "Successfully Scraped: Donald Sloan\n",
      "https://www.basketball-reference.com/players/S/SmithJo01/gamelog/2012/\n",
      "200\n",
      "hit first except branch\n",
      "https://www.basketball-reference.com/players/S/SmithJo02/gamelog/2012/\n",
      "200\n",
      "hit first except branch\n",
      "https://www.basketball-reference.com/players/S/SmithJo03/gamelog/2012/\n",
      "200\n",
      "https://www.basketball-reference.com/players/S/SmithJo03/gamelog-advanced/2012/\n",
      "200\n",
      "Successfully Scraped: Josh Smith\n",
      "https://www.basketball-reference.com/players/S/StackJe01/gamelog/2012/\n",
      "200\n",
      "https://www.basketball-reference.com/players/S/StackJe01/gamelog-advanced/2012/\n",
      "200\n",
      "Successfully Scraped: Jerry Stackhouse\n",
      "https://www.basketball-reference.com/players/T/TeaguJe01/gamelog/2012/\n",
      "200\n",
      "https://www.basketball-reference.com/players/T/TeaguJe01/gamelog-advanced/2012/\n",
      "200\n",
      "Successfully Scraped: Jeff Teague\n",
      "https://www.basketball-reference.com/players/W/WilliMa01/gamelog/2012/\n",
      "200\n",
      "https://www.basketball-reference.com/players/W/WilliMa01/gamelog-advanced/2012/\n",
      "200\n",
      "https://www.basketball-reference.com/players/W/WilliMa02/gamelog/2012/\n",
      "200\n",
      "https://www.basketball-reference.com/players/W/WilliMa02/gamelog-advanced/2012/\n",
      "200\n",
      "Successfully Scraped: Marvin Williams\n"
     ]
    },
    {
     "data": {
      "text/plain": "                Name   G        Date     Age   Tm Location  Opp       GS  \\\n0     Collins, Jason      2011-12-27  33-025  ATL        @  NJN  W (+36)   \n1     Collins, Jason      2011-12-28  33-026  ATL           WAS  W (+18)   \n2     Collins, Jason      2011-12-30  33-028  ATL           NJN   W (+7)   \n3     Collins, Jason   1  2011-12-31  33-029  ATL        @  HOU  L (-11)   \n4     Collins, Jason      2012-01-02  33-031  ATL        @  MIA   W (+8)   \n..               ...  ..         ...     ...  ...      ...  ...      ...   \n61  Williams, Marvin  53  2012-04-18  25-304  ATL           DET  W (+32)   \n62  Williams, Marvin  54  2012-04-20  25-306  ATL           BOS   W (+5)   \n63  Williams, Marvin  55  2012-04-22  25-308  ATL           NYK   L (-1)   \n64  Williams, Marvin  56  2012-04-24  25-310  ATL           LAC   W (+7)   \n65  Williams, Marvin  57  2012-04-26  25-312  ATL           DAL  W (+17)   \n\n          Active     MP  ...  DRB%  TRB%  AST%  STL%  BLK%  TOV%  USG%  ORtg  \\\n0   Did Not Play   None  ...  None  None  None  None  None  None  None  None   \n1   Did Not Play   None  ...  None  None  None  None  None  None  None  None   \n2   Did Not Play   None  ...  None  None  None  None  None  None  None  None   \n3              0   5:27  ...   0.0   0.0   0.0   0.0   0.0         0.0     0   \n4   Did Not Play   None  ...  None  None  None  None  None  None  None  None   \n..           ...    ...  ...   ...   ...   ...   ...   ...   ...   ...   ...   \n61             0  18:46  ...  26.0  17.6   0.0   5.3   3.8   0.0  26.3   102   \n62             0  23:16  ...   5.2   5.6   0.0   2.4   0.0   0.0  12.7    86   \n63             1  38:47  ...  28.3  19.4   0.0   1.3   6.2   5.5  21.3   158   \n64             0  26:45  ...   9.7   9.3  15.8   2.0   0.0  15.4  21.8   106   \n65             0  22:43  ...   9.4   5.2  10.4   2.2   0.0  17.5  23.7    62   \n\n    DRtg   BPM  \n0   None  None  \n1   None  None  \n2   None  None  \n3    114  -8.4  \n4   None  None  \n..   ...   ...  \n61    73   1.6  \n62   111  -9.6  \n63   114  10.6  \n64   114  -1.4  \n65    96  -9.3  \n\n[982 rows x 45 columns]",
      "text/html": "<div>\n<style scoped>\n    .dataframe tbody tr th:only-of-type {\n        vertical-align: middle;\n    }\n\n    .dataframe tbody tr th {\n        vertical-align: top;\n    }\n\n    .dataframe thead th {\n        text-align: right;\n    }\n</style>\n<table border=\"1\" class=\"dataframe\">\n  <thead>\n    <tr style=\"text-align: right;\">\n      <th></th>\n      <th>Name</th>\n      <th>G</th>\n      <th>Date</th>\n      <th>Age</th>\n      <th>Tm</th>\n      <th>Location</th>\n      <th>Opp</th>\n      <th>GS</th>\n      <th>Active</th>\n      <th>MP</th>\n      <th>...</th>\n      <th>DRB%</th>\n      <th>TRB%</th>\n      <th>AST%</th>\n      <th>STL%</th>\n      <th>BLK%</th>\n      <th>TOV%</th>\n      <th>USG%</th>\n      <th>ORtg</th>\n      <th>DRtg</th>\n      <th>BPM</th>\n    </tr>\n  </thead>\n  <tbody>\n    <tr>\n      <th>0</th>\n      <td>Collins, Jason</td>\n      <td></td>\n      <td>2011-12-27</td>\n      <td>33-025</td>\n      <td>ATL</td>\n      <td>@</td>\n      <td>NJN</td>\n      <td>W (+36)</td>\n      <td>Did Not Play</td>\n      <td>None</td>\n      <td>...</td>\n      <td>None</td>\n      <td>None</td>\n      <td>None</td>\n      <td>None</td>\n      <td>None</td>\n      <td>None</td>\n      <td>None</td>\n      <td>None</td>\n      <td>None</td>\n      <td>None</td>\n    </tr>\n    <tr>\n      <th>1</th>\n      <td>Collins, Jason</td>\n      <td></td>\n      <td>2011-12-28</td>\n      <td>33-026</td>\n      <td>ATL</td>\n      <td></td>\n      <td>WAS</td>\n      <td>W (+18)</td>\n      <td>Did Not Play</td>\n      <td>None</td>\n      <td>...</td>\n      <td>None</td>\n      <td>None</td>\n      <td>None</td>\n      <td>None</td>\n      <td>None</td>\n      <td>None</td>\n      <td>None</td>\n      <td>None</td>\n      <td>None</td>\n      <td>None</td>\n    </tr>\n    <tr>\n      <th>2</th>\n      <td>Collins, Jason</td>\n      <td></td>\n      <td>2011-12-30</td>\n      <td>33-028</td>\n      <td>ATL</td>\n      <td></td>\n      <td>NJN</td>\n      <td>W (+7)</td>\n      <td>Did Not Play</td>\n      <td>None</td>\n      <td>...</td>\n      <td>None</td>\n      <td>None</td>\n      <td>None</td>\n      <td>None</td>\n      <td>None</td>\n      <td>None</td>\n      <td>None</td>\n      <td>None</td>\n      <td>None</td>\n      <td>None</td>\n    </tr>\n    <tr>\n      <th>3</th>\n      <td>Collins, Jason</td>\n      <td>1</td>\n      <td>2011-12-31</td>\n      <td>33-029</td>\n      <td>ATL</td>\n      <td>@</td>\n      <td>HOU</td>\n      <td>L (-11)</td>\n      <td>0</td>\n      <td>5:27</td>\n      <td>...</td>\n      <td>0.0</td>\n      <td>0.0</td>\n      <td>0.0</td>\n      <td>0.0</td>\n      <td>0.0</td>\n      <td></td>\n      <td>0.0</td>\n      <td>0</td>\n      <td>114</td>\n      <td>-8.4</td>\n    </tr>\n    <tr>\n      <th>4</th>\n      <td>Collins, Jason</td>\n      <td></td>\n      <td>2012-01-02</td>\n      <td>33-031</td>\n      <td>ATL</td>\n      <td>@</td>\n      <td>MIA</td>\n      <td>W (+8)</td>\n      <td>Did Not Play</td>\n      <td>None</td>\n      <td>...</td>\n      <td>None</td>\n      <td>None</td>\n      <td>None</td>\n      <td>None</td>\n      <td>None</td>\n      <td>None</td>\n      <td>None</td>\n      <td>None</td>\n      <td>None</td>\n      <td>None</td>\n    </tr>\n    <tr>\n      <th>...</th>\n      <td>...</td>\n      <td>...</td>\n      <td>...</td>\n      <td>...</td>\n      <td>...</td>\n      <td>...</td>\n      <td>...</td>\n      <td>...</td>\n      <td>...</td>\n      <td>...</td>\n      <td>...</td>\n      <td>...</td>\n      <td>...</td>\n      <td>...</td>\n      <td>...</td>\n      <td>...</td>\n      <td>...</td>\n      <td>...</td>\n      <td>...</td>\n      <td>...</td>\n      <td>...</td>\n    </tr>\n    <tr>\n      <th>61</th>\n      <td>Williams, Marvin</td>\n      <td>53</td>\n      <td>2012-04-18</td>\n      <td>25-304</td>\n      <td>ATL</td>\n      <td></td>\n      <td>DET</td>\n      <td>W (+32)</td>\n      <td>0</td>\n      <td>18:46</td>\n      <td>...</td>\n      <td>26.0</td>\n      <td>17.6</td>\n      <td>0.0</td>\n      <td>5.3</td>\n      <td>3.8</td>\n      <td>0.0</td>\n      <td>26.3</td>\n      <td>102</td>\n      <td>73</td>\n      <td>1.6</td>\n    </tr>\n    <tr>\n      <th>62</th>\n      <td>Williams, Marvin</td>\n      <td>54</td>\n      <td>2012-04-20</td>\n      <td>25-306</td>\n      <td>ATL</td>\n      <td></td>\n      <td>BOS</td>\n      <td>W (+5)</td>\n      <td>0</td>\n      <td>23:16</td>\n      <td>...</td>\n      <td>5.2</td>\n      <td>5.6</td>\n      <td>0.0</td>\n      <td>2.4</td>\n      <td>0.0</td>\n      <td>0.0</td>\n      <td>12.7</td>\n      <td>86</td>\n      <td>111</td>\n      <td>-9.6</td>\n    </tr>\n    <tr>\n      <th>63</th>\n      <td>Williams, Marvin</td>\n      <td>55</td>\n      <td>2012-04-22</td>\n      <td>25-308</td>\n      <td>ATL</td>\n      <td></td>\n      <td>NYK</td>\n      <td>L (-1)</td>\n      <td>1</td>\n      <td>38:47</td>\n      <td>...</td>\n      <td>28.3</td>\n      <td>19.4</td>\n      <td>0.0</td>\n      <td>1.3</td>\n      <td>6.2</td>\n      <td>5.5</td>\n      <td>21.3</td>\n      <td>158</td>\n      <td>114</td>\n      <td>10.6</td>\n    </tr>\n    <tr>\n      <th>64</th>\n      <td>Williams, Marvin</td>\n      <td>56</td>\n      <td>2012-04-24</td>\n      <td>25-310</td>\n      <td>ATL</td>\n      <td></td>\n      <td>LAC</td>\n      <td>W (+7)</td>\n      <td>0</td>\n      <td>26:45</td>\n      <td>...</td>\n      <td>9.7</td>\n      <td>9.3</td>\n      <td>15.8</td>\n      <td>2.0</td>\n      <td>0.0</td>\n      <td>15.4</td>\n      <td>21.8</td>\n      <td>106</td>\n      <td>114</td>\n      <td>-1.4</td>\n    </tr>\n    <tr>\n      <th>65</th>\n      <td>Williams, Marvin</td>\n      <td>57</td>\n      <td>2012-04-26</td>\n      <td>25-312</td>\n      <td>ATL</td>\n      <td></td>\n      <td>DAL</td>\n      <td>W (+17)</td>\n      <td>0</td>\n      <td>22:43</td>\n      <td>...</td>\n      <td>9.4</td>\n      <td>5.2</td>\n      <td>10.4</td>\n      <td>2.2</td>\n      <td>0.0</td>\n      <td>17.5</td>\n      <td>23.7</td>\n      <td>62</td>\n      <td>96</td>\n      <td>-9.3</td>\n    </tr>\n  </tbody>\n</table>\n<p>982 rows × 45 columns</p>\n</div>"
     },
     "execution_count": 12,
     "metadata": {},
     "output_type": "execute_result"
    }
   ],
   "source": [
    "teamScraper('Atlanta Hawks', '2012')"
   ],
   "metadata": {
    "collapsed": false,
    "pycharm": {
     "name": "#%%\n"
    }
   }
  }
 ],
 "metadata": {
  "kernelspec": {
   "display_name": "Python 3",
   "language": "python",
   "name": "python3"
  },
  "language_info": {
   "codemirror_mode": {
    "name": "ipython",
    "version": 2
   },
   "file_extension": ".py",
   "mimetype": "text/x-python",
   "name": "python",
   "nbconvert_exporter": "python",
   "pygments_lexer": "ipython2",
   "version": "2.7.6"
  }
 },
 "nbformat": 4,
 "nbformat_minor": 0
}