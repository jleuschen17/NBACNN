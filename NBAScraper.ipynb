{
 "cells": [
  {
   "cell_type": "code",
   "execution_count": 19,
   "metadata": {
    "collapsed": true
   },
   "outputs": [],
   "source": [
    "#package installs\n",
    "import numpy as np\n",
    "import pandas as pd\n",
    "from bs4 import BeautifulSoup\n",
    "import requests\n",
    "import unidecode\n",
    "import re"
   ]
  },
  {
   "cell_type": "code",
   "execution_count": 20,
   "outputs": [],
   "source": [
    "def statsParser(name, year, playerindex, team_id):\n",
    "    index = int(playerindex)\n",
    "    lname = name[1]\n",
    "    fname = name[0]\n",
    "    lnamelist = list(lname)\n",
    "    linitial = lnamelist[0]\n",
    "    fnamelist = list(fname)\n",
    "    lname5 = ''\n",
    "    for x in range(5):\n",
    "        try:\n",
    "            lname5 += lnamelist[x]\n",
    "        except:\n",
    "            break\n",
    "    f2i = fnamelist[0] + fnamelist[1]\n",
    "    url = f'https://www.basketball-reference.com/players/{linitial}/{lname5}{f2i}{playerindex}/gamelog/{year}/'\n",
    "    print(url)\n",
    "    try:\n",
    "        result = requests.get(url)\n",
    "        print(result.status_code)\n",
    "        src = result.content\n",
    "        soup = BeautifulSoup(src, 'lxml')\n",
    "        columns = ['G', 'Date', 'Age', 'Tm', 'Opp', 'GS', 'MP', 'FG', 'FGA', 'FG%', '3P', '3PA', '3P%', 'FT', 'FTA', 'FT%', 'ORB', 'DRB', 'TRB', 'AST', 'STL', 'BLK', 'TOV', 'PF', 'PTS', 'GmSc', '+/-', '', '']\n",
    "        table = soup.find('table', {'class': 'row_summable'})\n",
    "        trs = table.find_all('tr')\n",
    "        rows = []\n",
    "        for tr in trs:\n",
    "            tds = tr.find_all('td')\n",
    "            row = [td.text.replace('\\n', '').strip() for td in tds]\n",
    "            rows.append(row)\n",
    "        df = pd.DataFrame(rows, columns=columns)\n",
    "        df = df[df['Tm'] == team_id]\n",
    "        if len(df) == 0:\n",
    "            index += 1\n",
    "            newindex = '0' + str(index)\n",
    "            statsParser(name, year, newindex, team_id)\n",
    "        result.close()\n",
    "        df['PlayerID'] = name[2]\n",
    "        return df\n",
    "    except:\n",
    "        index+=1\n",
    "        if index > 4:\n",
    "            print('Stat parsing failed for:', fname, lname)\n",
    "            print(url)\n",
    "            return None\n",
    "        newindex = '0' + str(index)\n",
    "        statsParser(name, year, newindex, team_id)"
   ],
   "metadata": {
    "collapsed": false,
    "pycharm": {
     "name": "#%%\n"
    }
   }
  },
  {
   "cell_type": "code",
   "execution_count": 21,
   "outputs": [],
   "source": [
    "def advancedStatsParser(name, year, playerindex, team_id):\n",
    "    index = int(playerindex)\n",
    "    lname = name[1]\n",
    "    fname = name[0]\n",
    "    lnamelist = list(lname)\n",
    "    linitial = lnamelist[0]\n",
    "    fnamelist = list(fname)\n",
    "    lname5 = ''\n",
    "    for x in range(5):\n",
    "        try:\n",
    "            lname5 += lnamelist[x]\n",
    "        except:\n",
    "            break\n",
    "    f2i = fnamelist[0] + fnamelist[1]\n",
    "    url = f'https://www.basketball-reference.com/players/{linitial}/{lname5}{f2i}{playerindex}/gamelog-advanced/{year}/'\n",
    "    print(url)\n",
    "    #try:\n",
    "    result = requests.get(url)\n",
    "    print(result.status_code)\n",
    "    src = result.content\n",
    "    soup = BeautifulSoup(src, 'lxml')\n",
    "    columns = ['G', 'Date',\t'Age', 'Tm', 'Opp', 'GS', 'MP', 'TS%', 'eFG%', 'ORB%', 'DRB%', 'TRB%', 'AST%', 'STL%', 'BLK%', 'TOV%', 'USG%', 'ORtg', 'DRtg', 'GmSc', 'BPM', '', '']\n",
    "    table = soup.find('table', {'class': 'row_summable'})\n",
    "    trs = table.find_all('tr')\n",
    "    rows = []\n",
    "    for tr in trs:\n",
    "        tds = tr.find_all('td')\n",
    "        row = [td.text.replace('\\n', '').strip() for td in tds]\n",
    "        rows.append(row)\n",
    "    df = pd.DataFrame(rows, columns=columns)\n",
    "    df = df[df['Tm'] == team_id]\n",
    "    if len(df) == 0:\n",
    "        index += 1\n",
    "        newindex = '0' + str(index)\n",
    "        advancedStatsParser(name, year, newindex, team_id)\n",
    "    result.close()\n",
    "    df = df.drop(df.columns[[0, 1, 2, 3, 4, 5, 6]], axis=1)\n",
    "    print(df)\n",
    "    return df\n",
    "    #except:\n",
    "        #index+=1\n",
    "        #if index > 4:\n",
    "            #print('Stat parsing failed for:', fname, lname)\n",
    "            #print(url)\n",
    "            #return None\n",
    "        #newindex = '0' + str(index)\n",
    "        #advancedStatsParser(name, year, newindex, team_id)"
   ],
   "metadata": {
    "collapsed": false,
    "pycharm": {
     "name": "#%%\n"
    }
   }
  },
  {
   "cell_type": "code",
   "execution_count": 22,
   "outputs": [],
   "source": [
    "def concatStats(df1, df2):\n",
    "    df = df1.join(df2)\n",
    "    return df"
   ],
   "metadata": {
    "collapsed": false,
    "pycharm": {
     "name": "#%%\n"
    }
   }
  },
  {
   "cell_type": "code",
   "execution_count": 23,
   "outputs": [],
   "source": [
    "def parse_roster(TeamID, year, id_number):\n",
    "    url = f\"https://www.basketball-reference.com/teams/{TeamID}/{year}.html\"\n",
    "    result = requests.get(url)\n",
    "    try:\n",
    "        src = result.content\n",
    "        soup = BeautifulSoup(src, 'lxml')\n",
    "        table = soup.find('table', {'class': 'sortable'})\n",
    "        names = []\n",
    "        trs = table.find_all('tr')\n",
    "        rows = []\n",
    "        for tr in trs:\n",
    "            try:\n",
    "                td = tr.find('td', {'data-stat': 'player'})\n",
    "                a_tag = td.find('a')\n",
    "                name = a_tag.get_text()\n",
    "                name = unidecode.unidecode(name)\n",
    "                name = re.sub(r'[^\\w\\s]','',name)\n",
    "                names.append(name)\n",
    "            except:\n",
    "                pass\n",
    "        for x in range(len(names)):\n",
    "            names[x] = names[x].split()\n",
    "            names[x].append(id_number)\n",
    "            id_number += 1\n",
    "        print(TeamID,\"roster successfully parsed\")\n",
    "        return names\n",
    "    except:\n",
    "        return False\n",
    "\n"
   ],
   "metadata": {
    "collapsed": false,
    "pycharm": {
     "name": "#%%\n"
    }
   }
  },
  {
   "cell_type": "code",
   "execution_count": 24,
   "outputs": [],
   "source": [
    "def nba_teams_list(year):\n",
    "    team_id = 101\n",
    "    url = f\"https://www.basketball-reference.com/leagues/NBA_{year}.html\"\n",
    "    result = requests.get(url)\n",
    "    src = result.content\n",
    "    soup = BeautifulSoup(src, 'lxml')\n",
    "    table = soup.find('table', {'class': 'stats_table sortable', 'data-cols-to-freeze': ',2', 'id': 'per_game-team'})\n",
    "    teams = []\n",
    "    ids = {}\n",
    "    trs = table.find_all('tr')\n",
    "    rows = []\n",
    "    x = 0\n",
    "    for tr in trs[1:]:\n",
    "        #print(tr.prettify())\n",
    "        try:\n",
    "            td = tr.find('td', {'data-stat': 'team', 'class': 'left'})\n",
    "            a_tag = td.find('a')\n",
    "            team = a_tag.get_text()\n",
    "            teams.append(team)\n",
    "            link = a_tag.attrs['href']\n",
    "            link = list(link)\n",
    "            acronym = link[7] + link[8] + link[9]\n",
    "            ids[teams[x]] = []\n",
    "            ids[teams[x]].append(acronym)\n",
    "            x+=1\n",
    "        except:\n",
    "            pass\n",
    "    for x in range(len(teams)):\n",
    "        ids[teams[x]].append(team_id)\n",
    "        team_id+=1\n",
    "    return teams, ids"
   ],
   "metadata": {
    "collapsed": false,
    "pycharm": {
     "name": "#%%\n"
    }
   }
  },
  {
   "cell_type": "code",
   "execution_count": 25,
   "outputs": [
    {
     "data": {
      "text/plain": "(['Dallas Mavericks',\n  'Sacramento Kings',\n  'Los Angeles Lakers',\n  'Milwaukee Bucks',\n  'Denver Nuggets',\n  'Seattle SuperSonics',\n  'Memphis Grizzlies',\n  'Boston Celtics',\n  'Los Angeles Clippers',\n  'Minnesota Timberwolves',\n  'Phoenix Suns',\n  'Orlando Magic',\n  'Golden State Warriors',\n  'Cleveland Cavaliers',\n  'Atlanta Hawks',\n  'New York Knicks',\n  'Washington Wizards',\n  'New Orleans Hornets',\n  'San Antonio Spurs',\n  'Indiana Pacers',\n  'Portland Trail Blazers',\n  'New Jersey Nets',\n  'Miami Heat',\n  'Detroit Pistons',\n  'Houston Rockets',\n  'Chicago Bulls',\n  'Utah Jazz',\n  'Philadelphia 76ers',\n  'Toronto Raptors'],\n {'Dallas Mavericks': ['DAL', 101],\n  'Sacramento Kings': ['SAC', 102],\n  'Los Angeles Lakers': ['LAL', 103],\n  'Milwaukee Bucks': ['MIL', 104],\n  'Denver Nuggets': ['DEN', 105],\n  'Seattle SuperSonics': ['SEA', 106],\n  'Memphis Grizzlies': ['MEM', 107],\n  'Boston Celtics': ['BOS', 108],\n  'Los Angeles Clippers': ['LAC', 109],\n  'Minnesota Timberwolves': ['MIN', 110],\n  'Phoenix Suns': ['PHO', 111],\n  'Orlando Magic': ['ORL', 112],\n  'Golden State Warriors': ['GSW', 113],\n  'Cleveland Cavaliers': ['CLE', 114],\n  'Atlanta Hawks': ['ATL', 115],\n  'New York Knicks': ['NYK', 116],\n  'Washington Wizards': ['WAS', 117],\n  'New Orleans Hornets': ['NOH', 118],\n  'San Antonio Spurs': ['SAS', 119],\n  'Indiana Pacers': ['IND', 120],\n  'Portland Trail Blazers': ['POR', 121],\n  'New Jersey Nets': ['NJN', 122],\n  'Miami Heat': ['MIA', 123],\n  'Detroit Pistons': ['DET', 124],\n  'Houston Rockets': ['HOU', 125],\n  'Chicago Bulls': ['CHI', 126],\n  'Utah Jazz': ['UTA', 127],\n  'Philadelphia 76ers': ['PHI', 128],\n  'Toronto Raptors': ['TOR', 129]})"
     },
     "execution_count": 25,
     "metadata": {},
     "output_type": "execute_result"
    }
   ],
   "source": [
    "nba_teams_list('2004')"
   ],
   "metadata": {
    "collapsed": false,
    "pycharm": {
     "name": "#%%\n"
    }
   }
  },
  {
   "cell_type": "code",
   "execution_count": 26,
   "outputs": [],
   "source": [
    "def generate_rosters(year):\n",
    "    teamrosters = {}\n",
    "    id_number = 1001\n",
    "    teams, team_ids = nba_teams_list(year)\n",
    "    for team in teams:\n",
    "        teamrosters[team] = parse_roster(team_ids[team][0], year, id_number)\n",
    "        id_number+=len(teamrosters[team])\n",
    "    return teamrosters, team_ids"
   ],
   "metadata": {
    "collapsed": false,
    "pycharm": {
     "name": "#%%\n"
    }
   }
  },
  {
   "cell_type": "code",
   "execution_count": 27,
   "outputs": [],
   "source": [
    "def generate_single_team_roster(team, year):\n",
    "    roster = []\n",
    "    id_number = 1001\n",
    "    teams, team_ids = nba_teams_list(year)\n",
    "    roster = parse_roster(team_ids[team][0], year, id_number)\n",
    "    return roster, team_ids\n"
   ],
   "metadata": {
    "collapsed": false,
    "pycharm": {
     "name": "#%%\n"
    }
   }
  },
  {
   "cell_type": "code",
   "execution_count": 28,
   "outputs": [],
   "source": [
    "def parse_player_stats(name, team, year):\n",
    "    name = name.split()\n",
    "    name.append('1001')\n",
    "    teams, ids = nba_teams_list(year)\n",
    "    team_id = ids[team][0]\n",
    "    df = statsParser(name, year, '01', team_id)\n",
    "    return df\n"
   ],
   "metadata": {
    "collapsed": false,
    "pycharm": {
     "name": "#%%\n"
    }
   }
  },
  {
   "cell_type": "code",
   "execution_count": 29,
   "outputs": [],
   "source": [
    "def parse_entire_teams_stats(team, year):\n",
    "    roster, team_ids = generate_single_team_roster(team, year)\n",
    "    for x in range(len(roster)):\n",
    "        try:\n",
    "            if x == 0:\n",
    "                player = roster[x]\n",
    "                df = statsParser(player, year, '01', team_ids[team][0])\n",
    "            else:\n",
    "                player = roster[x]\n",
    "                df = df.append(statsParser(player, year, '01', team_ids[team][0]))\n",
    "        except:\n",
    "            pass\n",
    "    return df"
   ],
   "metadata": {
    "collapsed": false,
    "pycharm": {
     "name": "#%%\n"
    }
   }
  },
  {
   "cell_type": "code",
   "execution_count": 30,
   "outputs": [],
   "source": [
    "def parse_entire_league_stats(year):\n",
    "    rosters, team_ids = generate_rosters(year)\n",
    "    y = 0\n",
    "    for team in rosters:\n",
    "        for x in range(len(rosters[team])):\n",
    "            try:\n",
    "                if x == 0 and y == 0:\n",
    "                    player = rosters[team][x]\n",
    "                    print(player)\n",
    "                    df = statsParser(player, year, '01', team_ids[team][0])\n",
    "                else:\n",
    "                    player = rosters[team][x]\n",
    "                    df = df.append(statsParser(player, year, '01', team_ids[team][0]))\n",
    "            except:\n",
    "                pass\n",
    "        y+=1\n",
    "    return df"
   ],
   "metadata": {
    "collapsed": false,
    "pycharm": {
     "name": "#%%\n"
    }
   }
  },
  {
   "cell_type": "code",
   "execution_count": 31,
   "outputs": [],
   "source": [
    "def save_df(df, title):\n",
    "    df.to_csv(rf'C:\\Users\\jleus\\OneDrive\\Documents\\CSVS\\{title}.csv', index=False)\n"
   ],
   "metadata": {
    "collapsed": false,
    "pycharm": {
     "name": "#%%\n"
    }
   }
  },
  {
   "cell_type": "code",
   "execution_count": 32,
   "outputs": [
    {
     "name": "stdout",
     "output_type": "stream",
     "text": [
      "LAL roster successfully parsed\n"
     ]
    },
    {
     "data": {
      "text/plain": "([['Kobe', 'Bryant', 1001],\n  ['Joe', 'Crispin', 1002],\n  ['Derek', 'Fisher', 1003],\n  ['Rick', 'Fox', 1004],\n  ['Devean', 'George', 1005],\n  ['Robert', 'Horry', 1006],\n  ['Lindsey', 'Hunter', 1007],\n  ['Mark', 'Madsen', 1008],\n  ['Jelani', 'McCoy', 1009],\n  ['Stanislav', 'Medvedenko', 1010],\n  ['Shaquille', 'ONeal', 1011],\n  ['Mike', 'Penberthy', 1012],\n  ['Mitch', 'Richmond', 1013],\n  ['Brian', 'Shaw', 1014],\n  ['Samaki', 'Walker', 1015]],\n {'Dallas Mavericks': ['DAL', 101],\n  'Sacramento Kings': ['SAC', 102],\n  'Los Angeles Lakers': ['LAL', 103],\n  'Orlando Magic': ['ORL', 104],\n  'Minnesota Timberwolves': ['MIN', 105],\n  'Golden State Warriors': ['GSW', 106],\n  'Seattle SuperSonics': ['SEA', 107],\n  'Milwaukee Bucks': ['MIL', 108],\n  'Indiana Pacers': ['IND', 109],\n  'San Antonio Spurs': ['SAS', 110],\n  'Portland Trail Blazers': ['POR', 111],\n  'Boston Celtics': ['BOS', 112],\n  'New Jersey Nets': ['NJN', 113],\n  'Utah Jazz': ['UTA', 114],\n  'Los Angeles Clippers': ['LAC', 115],\n  'Cleveland Cavaliers': ['CLE', 116],\n  'Phoenix Suns': ['PHO', 117],\n  'Detroit Pistons': ['DET', 118],\n  'Atlanta Hawks': ['ATL', 119],\n  'Charlotte Hornets': ['CHH', 120],\n  'Washington Wizards': ['WAS', 121],\n  'Houston Rockets': ['HOU', 122],\n  'Denver Nuggets': ['DEN', 123],\n  'New York Knicks': ['NYK', 124],\n  'Toronto Raptors': ['TOR', 125],\n  'Philadelphia 76ers': ['PHI', 126],\n  'Memphis Grizzlies': ['MEM', 127],\n  'Chicago Bulls': ['CHI', 128],\n  'Miami Heat': ['MIA', 129]})"
     },
     "execution_count": 32,
     "metadata": {},
     "output_type": "execute_result"
    }
   ],
   "source": [
    "generate_single_team_roster('Los Angeles Lakers', '2002')"
   ],
   "metadata": {
    "collapsed": false,
    "pycharm": {
     "name": "#%%\n"
    }
   }
  },
  {
   "cell_type": "code",
   "execution_count": 33,
   "outputs": [
    {
     "name": "stdout",
     "output_type": "stream",
     "text": [
      "LAL roster successfully parsed\n",
      "https://www.basketball-reference.com/players/B/BryanKo01/gamelog/2002/\n",
      "200\n",
      "https://www.basketball-reference.com/players/C/CrispJo01/gamelog/2002/\n",
      "200\n",
      "https://www.basketball-reference.com/players/F/FisheDe01/gamelog/2002/\n",
      "200\n",
      "https://www.basketball-reference.com/players/F/FoxRi01/gamelog/2002/\n",
      "200\n",
      "https://www.basketball-reference.com/players/G/GeorgDe01/gamelog/2002/\n",
      "200\n",
      "https://www.basketball-reference.com/players/H/HorryRo01/gamelog/2002/\n",
      "200\n",
      "https://www.basketball-reference.com/players/H/HunteLi01/gamelog/2002/\n",
      "200\n",
      "https://www.basketball-reference.com/players/M/MadseMa01/gamelog/2002/\n",
      "200\n",
      "https://www.basketball-reference.com/players/M/McCoyJe01/gamelog/2002/\n",
      "200\n",
      "https://www.basketball-reference.com/players/M/MedveSt01/gamelog/2002/\n",
      "200\n",
      "https://www.basketball-reference.com/players/O/ONealSh01/gamelog/2002/\n",
      "200\n",
      "https://www.basketball-reference.com/players/P/PenbeMi01/gamelog/2002/\n",
      "200\n",
      "https://www.basketball-reference.com/players/R/RichmMi01/gamelog/2002/\n",
      "200\n",
      "https://www.basketball-reference.com/players/S/ShawBr01/gamelog/2002/\n",
      "200\n",
      "https://www.basketball-reference.com/players/W/WalkeSa01/gamelog/2002/\n",
      "200\n"
     ]
    },
    {
     "data": {
      "text/plain": "     G        Date     Age   Tm Opp   GS       MP FG    FGA FG%  ... STL BLK  \\\n1    1  2001-10-30  23-068  LAL      POR  W (+11)  1  42:36  11  ...   7   4   \n2    2  2001-11-01  23-070  LAL   @  UTA   W (+4)  1  43:03  11  ...   6   8   \n3    3  2001-11-02  23-071  LAL      PHO  W (+23)  1  37:40   9  ...   6   9   \n4    4  2001-11-04  23-073  LAL      UTA   W (+4)  1  44:17  13  ...   6   7   \n5    5  2001-11-09  23-078  LAL      MEM  W (+24)  1  33:01   5  ...   6   7   \n..  ..         ...     ...  ...  ..  ...      ... ..    ...  ..  ...  ..  ..   \n68  65  2002-04-09  26-043  LAL      UTA  W (+30)  1  23:23   2  ...  10   3   \n69  66  2002-04-11  26-045  LAL      MIN  W (+13)  1  27:16   2  ...  10   0   \n70  67  2002-04-14  26-048  LAL   @  POR   L (-8)  1  21:10   3  ...   2   2   \n71  68  2002-04-15  26-049  LAL      SEA   W (+7)  1  28:24   5  ...   7   0   \n72  69  2002-04-17  26-051  LAL      SAC  W (+14)  1  27:37   4  ...  15   2   \n\n   TOV PF PTS GmSc +/-            PlayerID  \n1    3  1   2    0  29  23.2   +4     1001  \n2    3  1   2    3  39  35.1   +7     1001  \n3    2  1   7    4  24  20.8  +19     1001  \n4    3  1   5    5  38  31.1   +3     1001  \n5    5  3   2    0  13  16.7  +29     1001  \n..  .. ..  ..  ...  ..   ...  ...      ...  \n68   0  1   1    4   4   7.8   -2     1015  \n69   0  1   0    3   4   6.4   -2     1015  \n70   1  0   1    3   7   5.1   -5     1015  \n71   0  0   1    4  12   8.7  +10     1015  \n72   1  0   0    4  11  14.3  +10     1015  \n\n[983 rows x 30 columns]",
      "text/html": "<div>\n<style scoped>\n    .dataframe tbody tr th:only-of-type {\n        vertical-align: middle;\n    }\n\n    .dataframe tbody tr th {\n        vertical-align: top;\n    }\n\n    .dataframe thead th {\n        text-align: right;\n    }\n</style>\n<table border=\"1\" class=\"dataframe\">\n  <thead>\n    <tr style=\"text-align: right;\">\n      <th></th>\n      <th>G</th>\n      <th>Date</th>\n      <th>Age</th>\n      <th>Tm</th>\n      <th>Opp</th>\n      <th>GS</th>\n      <th>MP</th>\n      <th>FG</th>\n      <th>FGA</th>\n      <th>FG%</th>\n      <th>...</th>\n      <th>STL</th>\n      <th>BLK</th>\n      <th>TOV</th>\n      <th>PF</th>\n      <th>PTS</th>\n      <th>GmSc</th>\n      <th>+/-</th>\n      <th></th>\n      <th></th>\n      <th>PlayerID</th>\n    </tr>\n  </thead>\n  <tbody>\n    <tr>\n      <th>1</th>\n      <td>1</td>\n      <td>2001-10-30</td>\n      <td>23-068</td>\n      <td>LAL</td>\n      <td></td>\n      <td>POR</td>\n      <td>W (+11)</td>\n      <td>1</td>\n      <td>42:36</td>\n      <td>11</td>\n      <td>...</td>\n      <td>7</td>\n      <td>4</td>\n      <td>3</td>\n      <td>1</td>\n      <td>2</td>\n      <td>0</td>\n      <td>29</td>\n      <td>23.2</td>\n      <td>+4</td>\n      <td>1001</td>\n    </tr>\n    <tr>\n      <th>2</th>\n      <td>2</td>\n      <td>2001-11-01</td>\n      <td>23-070</td>\n      <td>LAL</td>\n      <td>@</td>\n      <td>UTA</td>\n      <td>W (+4)</td>\n      <td>1</td>\n      <td>43:03</td>\n      <td>11</td>\n      <td>...</td>\n      <td>6</td>\n      <td>8</td>\n      <td>3</td>\n      <td>1</td>\n      <td>2</td>\n      <td>3</td>\n      <td>39</td>\n      <td>35.1</td>\n      <td>+7</td>\n      <td>1001</td>\n    </tr>\n    <tr>\n      <th>3</th>\n      <td>3</td>\n      <td>2001-11-02</td>\n      <td>23-071</td>\n      <td>LAL</td>\n      <td></td>\n      <td>PHO</td>\n      <td>W (+23)</td>\n      <td>1</td>\n      <td>37:40</td>\n      <td>9</td>\n      <td>...</td>\n      <td>6</td>\n      <td>9</td>\n      <td>2</td>\n      <td>1</td>\n      <td>7</td>\n      <td>4</td>\n      <td>24</td>\n      <td>20.8</td>\n      <td>+19</td>\n      <td>1001</td>\n    </tr>\n    <tr>\n      <th>4</th>\n      <td>4</td>\n      <td>2001-11-04</td>\n      <td>23-073</td>\n      <td>LAL</td>\n      <td></td>\n      <td>UTA</td>\n      <td>W (+4)</td>\n      <td>1</td>\n      <td>44:17</td>\n      <td>13</td>\n      <td>...</td>\n      <td>6</td>\n      <td>7</td>\n      <td>3</td>\n      <td>1</td>\n      <td>5</td>\n      <td>5</td>\n      <td>38</td>\n      <td>31.1</td>\n      <td>+3</td>\n      <td>1001</td>\n    </tr>\n    <tr>\n      <th>5</th>\n      <td>5</td>\n      <td>2001-11-09</td>\n      <td>23-078</td>\n      <td>LAL</td>\n      <td></td>\n      <td>MEM</td>\n      <td>W (+24)</td>\n      <td>1</td>\n      <td>33:01</td>\n      <td>5</td>\n      <td>...</td>\n      <td>6</td>\n      <td>7</td>\n      <td>5</td>\n      <td>3</td>\n      <td>2</td>\n      <td>0</td>\n      <td>13</td>\n      <td>16.7</td>\n      <td>+29</td>\n      <td>1001</td>\n    </tr>\n    <tr>\n      <th>...</th>\n      <td>...</td>\n      <td>...</td>\n      <td>...</td>\n      <td>...</td>\n      <td>...</td>\n      <td>...</td>\n      <td>...</td>\n      <td>...</td>\n      <td>...</td>\n      <td>...</td>\n      <td>...</td>\n      <td>...</td>\n      <td>...</td>\n      <td>...</td>\n      <td>...</td>\n      <td>...</td>\n      <td>...</td>\n      <td>...</td>\n      <td>...</td>\n      <td>...</td>\n      <td>...</td>\n    </tr>\n    <tr>\n      <th>68</th>\n      <td>65</td>\n      <td>2002-04-09</td>\n      <td>26-043</td>\n      <td>LAL</td>\n      <td></td>\n      <td>UTA</td>\n      <td>W (+30)</td>\n      <td>1</td>\n      <td>23:23</td>\n      <td>2</td>\n      <td>...</td>\n      <td>10</td>\n      <td>3</td>\n      <td>0</td>\n      <td>1</td>\n      <td>1</td>\n      <td>4</td>\n      <td>4</td>\n      <td>7.8</td>\n      <td>-2</td>\n      <td>1015</td>\n    </tr>\n    <tr>\n      <th>69</th>\n      <td>66</td>\n      <td>2002-04-11</td>\n      <td>26-045</td>\n      <td>LAL</td>\n      <td></td>\n      <td>MIN</td>\n      <td>W (+13)</td>\n      <td>1</td>\n      <td>27:16</td>\n      <td>2</td>\n      <td>...</td>\n      <td>10</td>\n      <td>0</td>\n      <td>0</td>\n      <td>1</td>\n      <td>0</td>\n      <td>3</td>\n      <td>4</td>\n      <td>6.4</td>\n      <td>-2</td>\n      <td>1015</td>\n    </tr>\n    <tr>\n      <th>70</th>\n      <td>67</td>\n      <td>2002-04-14</td>\n      <td>26-048</td>\n      <td>LAL</td>\n      <td>@</td>\n      <td>POR</td>\n      <td>L (-8)</td>\n      <td>1</td>\n      <td>21:10</td>\n      <td>3</td>\n      <td>...</td>\n      <td>2</td>\n      <td>2</td>\n      <td>1</td>\n      <td>0</td>\n      <td>1</td>\n      <td>3</td>\n      <td>7</td>\n      <td>5.1</td>\n      <td>-5</td>\n      <td>1015</td>\n    </tr>\n    <tr>\n      <th>71</th>\n      <td>68</td>\n      <td>2002-04-15</td>\n      <td>26-049</td>\n      <td>LAL</td>\n      <td></td>\n      <td>SEA</td>\n      <td>W (+7)</td>\n      <td>1</td>\n      <td>28:24</td>\n      <td>5</td>\n      <td>...</td>\n      <td>7</td>\n      <td>0</td>\n      <td>0</td>\n      <td>0</td>\n      <td>1</td>\n      <td>4</td>\n      <td>12</td>\n      <td>8.7</td>\n      <td>+10</td>\n      <td>1015</td>\n    </tr>\n    <tr>\n      <th>72</th>\n      <td>69</td>\n      <td>2002-04-17</td>\n      <td>26-051</td>\n      <td>LAL</td>\n      <td></td>\n      <td>SAC</td>\n      <td>W (+14)</td>\n      <td>1</td>\n      <td>27:37</td>\n      <td>4</td>\n      <td>...</td>\n      <td>15</td>\n      <td>2</td>\n      <td>1</td>\n      <td>0</td>\n      <td>0</td>\n      <td>4</td>\n      <td>11</td>\n      <td>14.3</td>\n      <td>+10</td>\n      <td>1015</td>\n    </tr>\n  </tbody>\n</table>\n<p>983 rows × 30 columns</p>\n</div>"
     },
     "execution_count": 33,
     "metadata": {},
     "output_type": "execute_result"
    }
   ],
   "source": [
    "parse_entire_teams_stats('Los Angeles Lakers', '2002')"
   ],
   "metadata": {
    "collapsed": false,
    "pycharm": {
     "name": "#%%\n"
    }
   }
  },
  {
   "cell_type": "code",
   "execution_count": 34,
   "outputs": [
    {
     "name": "stdout",
     "output_type": "stream",
     "text": [
      "https://www.basketball-reference.com/players/J/JamesLe01/gamelog-advanced/2012/\n",
      "200\n",
      "             TS%   eFG%  ORB%  DRB%  TRB%  AST%  STL%  BLK%  TOV%  USG%  ORtg  \\\n",
      "1              1  36:16  .676  .579  10.4  21.1  16.1  33.9   2.7   4.9   9.9   \n",
      "2              1  36:00  .724  .643   4.4  18.5  12.1  22.2   2.6   2.5  14.3   \n",
      "3              1  38:49  .649  .565   0.0  18.5   8.9  43.4   4.0   3.9   6.9   \n",
      "4              1  37:13  .612  .615   2.8  20.1  11.3  50.8   5.0   2.4  12.6   \n",
      "5              1  28:02  .633  .600   0.0  29.1  17.7  22.7   1.7   0.0  13.7   \n",
      "..           ...    ...   ...   ...   ...   ...   ...   ...   ...   ...   ...   \n",
      "65             1  35:20  .580  .472   0.0  34.8  17.6  38.6   0.0   2.5   4.1   \n",
      "66  Did Not Play   None  None  None  None  None  None  None  None  None  None   \n",
      "67             1  35:52  .630  .548   2.8  24.7  12.6  33.0   1.5   4.8  16.4   \n",
      "68  Did Not Play   None  None  None  None  None  None  None  None  None  None   \n",
      "69  Did Not Play   None  None  None  None  None  None  None  None  None  None   \n",
      "\n",
      "    DRtg  GmSc   BPM              \n",
      "1   34.7   141    90  34.1  21.3  \n",
      "2   25.3   134   106  23.6   6.7  \n",
      "3   35.7   126    95  33.2  19.0  \n",
      "4   35.9   114    91  31.1  16.4  \n",
      "5   23.1   119    84  15.0   1.3  \n",
      "..   ...   ...   ...   ...   ...  \n",
      "65  33.9   125    81  22.8  17.8  \n",
      "66  None  None  None  None  None  \n",
      "67  37.1   121    96  24.6  14.1  \n",
      "68  None  None  None  None  None  \n",
      "69  None  None  None  None  None  \n",
      "\n",
      "[66 rows x 16 columns]\n"
     ]
    }
   ],
   "source": [
    "df1 = advancedStatsParser(['Lebron', 'James', '1001'], '2012', '01', 'MIA')"
   ],
   "metadata": {
    "collapsed": false,
    "pycharm": {
     "name": "#%%\n"
    }
   }
  },
  {
   "cell_type": "code",
   "execution_count": 35,
   "outputs": [
    {
     "name": "stdout",
     "output_type": "stream",
     "text": [
      "https://www.basketball-reference.com/players/J/JamesLe01/gamelog/2012/\n",
      "200\n"
     ]
    }
   ],
   "source": [
    "df2 = statsParser(['Lebron', 'James', '1001'], '2012', '01', 'MIA')"
   ],
   "metadata": {
    "collapsed": false,
    "pycharm": {
     "name": "#%%\n"
    }
   }
  },
  {
   "cell_type": "code",
   "execution_count": 36,
   "outputs": [
    {
     "ename": "ValueError",
     "evalue": "columns overlap but no suffix specified: Index(['GmSc', ''], dtype='object')",
     "output_type": "error",
     "traceback": [
      "\u001B[1;31m---------------------------------------------------------------------------\u001B[0m",
      "\u001B[1;31mValueError\u001B[0m                                Traceback (most recent call last)",
      "\u001B[1;32m~\\AppData\\Local\\Temp/ipykernel_22556/448802261.py\u001B[0m in \u001B[0;36m<module>\u001B[1;34m\u001B[0m\n\u001B[1;32m----> 1\u001B[1;33m \u001B[0mconcatStats\u001B[0m\u001B[1;33m(\u001B[0m\u001B[0mdf2\u001B[0m\u001B[1;33m,\u001B[0m \u001B[0mdf1\u001B[0m\u001B[1;33m)\u001B[0m\u001B[1;33m\u001B[0m\u001B[1;33m\u001B[0m\u001B[0m\n\u001B[0m",
      "\u001B[1;32m~\\AppData\\Local\\Temp/ipykernel_22556/1357263128.py\u001B[0m in \u001B[0;36mconcatStats\u001B[1;34m(df1, df2)\u001B[0m\n\u001B[0;32m      1\u001B[0m \u001B[1;32mdef\u001B[0m \u001B[0mconcatStats\u001B[0m\u001B[1;33m(\u001B[0m\u001B[0mdf1\u001B[0m\u001B[1;33m,\u001B[0m \u001B[0mdf2\u001B[0m\u001B[1;33m)\u001B[0m\u001B[1;33m:\u001B[0m\u001B[1;33m\u001B[0m\u001B[1;33m\u001B[0m\u001B[0m\n\u001B[1;32m----> 2\u001B[1;33m     \u001B[0mdf\u001B[0m \u001B[1;33m=\u001B[0m \u001B[0mdf1\u001B[0m\u001B[1;33m.\u001B[0m\u001B[0mjoin\u001B[0m\u001B[1;33m(\u001B[0m\u001B[0mdf2\u001B[0m\u001B[1;33m)\u001B[0m\u001B[1;33m\u001B[0m\u001B[1;33m\u001B[0m\u001B[0m\n\u001B[0m\u001B[0;32m      3\u001B[0m     \u001B[1;32mreturn\u001B[0m \u001B[0mdf\u001B[0m\u001B[1;33m\u001B[0m\u001B[1;33m\u001B[0m\u001B[0m\n\u001B[0;32m      4\u001B[0m \u001B[1;33m\u001B[0m\u001B[0m\n",
      "\u001B[1;32mc:\\users\\jleus\\pycharmprojects\\nbacnn\\venv\\lib\\site-packages\\pandas\\core\\frame.py\u001B[0m in \u001B[0;36mjoin\u001B[1;34m(self, other, on, how, lsuffix, rsuffix, sort)\u001B[0m\n\u001B[0;32m   9093\u001B[0m         \u001B[1;36m5\u001B[0m  \u001B[0mK5\u001B[0m  \u001B[0mA5\u001B[0m  \u001B[0mNaN\u001B[0m\u001B[1;33m\u001B[0m\u001B[1;33m\u001B[0m\u001B[0m\n\u001B[0;32m   9094\u001B[0m         \"\"\"\n\u001B[1;32m-> 9095\u001B[1;33m         return self._join_compat(\n\u001B[0m\u001B[0;32m   9096\u001B[0m             \u001B[0mother\u001B[0m\u001B[1;33m,\u001B[0m \u001B[0mon\u001B[0m\u001B[1;33m=\u001B[0m\u001B[0mon\u001B[0m\u001B[1;33m,\u001B[0m \u001B[0mhow\u001B[0m\u001B[1;33m=\u001B[0m\u001B[0mhow\u001B[0m\u001B[1;33m,\u001B[0m \u001B[0mlsuffix\u001B[0m\u001B[1;33m=\u001B[0m\u001B[0mlsuffix\u001B[0m\u001B[1;33m,\u001B[0m \u001B[0mrsuffix\u001B[0m\u001B[1;33m=\u001B[0m\u001B[0mrsuffix\u001B[0m\u001B[1;33m,\u001B[0m \u001B[0msort\u001B[0m\u001B[1;33m=\u001B[0m\u001B[0msort\u001B[0m\u001B[1;33m\u001B[0m\u001B[1;33m\u001B[0m\u001B[0m\n\u001B[0;32m   9097\u001B[0m         )\n",
      "\u001B[1;32mc:\\users\\jleus\\pycharmprojects\\nbacnn\\venv\\lib\\site-packages\\pandas\\core\\frame.py\u001B[0m in \u001B[0;36m_join_compat\u001B[1;34m(self, other, on, how, lsuffix, rsuffix, sort)\u001B[0m\n\u001B[0;32m   9124\u001B[0m                     \u001B[0msort\u001B[0m\u001B[1;33m=\u001B[0m\u001B[0msort\u001B[0m\u001B[1;33m,\u001B[0m\u001B[1;33m\u001B[0m\u001B[1;33m\u001B[0m\u001B[0m\n\u001B[0;32m   9125\u001B[0m                 )\n\u001B[1;32m-> 9126\u001B[1;33m             return merge(\n\u001B[0m\u001B[0;32m   9127\u001B[0m                 \u001B[0mself\u001B[0m\u001B[1;33m,\u001B[0m\u001B[1;33m\u001B[0m\u001B[1;33m\u001B[0m\u001B[0m\n\u001B[0;32m   9128\u001B[0m                 \u001B[0mother\u001B[0m\u001B[1;33m,\u001B[0m\u001B[1;33m\u001B[0m\u001B[1;33m\u001B[0m\u001B[0m\n",
      "\u001B[1;32mc:\\users\\jleus\\pycharmprojects\\nbacnn\\venv\\lib\\site-packages\\pandas\\core\\reshape\\merge.py\u001B[0m in \u001B[0;36mmerge\u001B[1;34m(left, right, how, on, left_on, right_on, left_index, right_index, sort, suffixes, copy, indicator, validate)\u001B[0m\n\u001B[0;32m    120\u001B[0m         \u001B[0mvalidate\u001B[0m\u001B[1;33m=\u001B[0m\u001B[0mvalidate\u001B[0m\u001B[1;33m,\u001B[0m\u001B[1;33m\u001B[0m\u001B[1;33m\u001B[0m\u001B[0m\n\u001B[0;32m    121\u001B[0m     )\n\u001B[1;32m--> 122\u001B[1;33m     \u001B[1;32mreturn\u001B[0m \u001B[0mop\u001B[0m\u001B[1;33m.\u001B[0m\u001B[0mget_result\u001B[0m\u001B[1;33m(\u001B[0m\u001B[1;33m)\u001B[0m\u001B[1;33m\u001B[0m\u001B[1;33m\u001B[0m\u001B[0m\n\u001B[0m\u001B[0;32m    123\u001B[0m \u001B[1;33m\u001B[0m\u001B[0m\n\u001B[0;32m    124\u001B[0m \u001B[1;33m\u001B[0m\u001B[0m\n",
      "\u001B[1;32mc:\\users\\jleus\\pycharmprojects\\nbacnn\\venv\\lib\\site-packages\\pandas\\core\\reshape\\merge.py\u001B[0m in \u001B[0;36mget_result\u001B[1;34m(self)\u001B[0m\n\u001B[0;32m    716\u001B[0m         \u001B[0mjoin_index\u001B[0m\u001B[1;33m,\u001B[0m \u001B[0mleft_indexer\u001B[0m\u001B[1;33m,\u001B[0m \u001B[0mright_indexer\u001B[0m \u001B[1;33m=\u001B[0m \u001B[0mself\u001B[0m\u001B[1;33m.\u001B[0m\u001B[0m_get_join_info\u001B[0m\u001B[1;33m(\u001B[0m\u001B[1;33m)\u001B[0m\u001B[1;33m\u001B[0m\u001B[1;33m\u001B[0m\u001B[0m\n\u001B[0;32m    717\u001B[0m \u001B[1;33m\u001B[0m\u001B[0m\n\u001B[1;32m--> 718\u001B[1;33m         llabels, rlabels = _items_overlap_with_suffix(\n\u001B[0m\u001B[0;32m    719\u001B[0m             \u001B[0mself\u001B[0m\u001B[1;33m.\u001B[0m\u001B[0mleft\u001B[0m\u001B[1;33m.\u001B[0m\u001B[0m_info_axis\u001B[0m\u001B[1;33m,\u001B[0m \u001B[0mself\u001B[0m\u001B[1;33m.\u001B[0m\u001B[0mright\u001B[0m\u001B[1;33m.\u001B[0m\u001B[0m_info_axis\u001B[0m\u001B[1;33m,\u001B[0m \u001B[0mself\u001B[0m\u001B[1;33m.\u001B[0m\u001B[0msuffixes\u001B[0m\u001B[1;33m\u001B[0m\u001B[1;33m\u001B[0m\u001B[0m\n\u001B[0;32m    720\u001B[0m         )\n",
      "\u001B[1;32mc:\\users\\jleus\\pycharmprojects\\nbacnn\\venv\\lib\\site-packages\\pandas\\core\\reshape\\merge.py\u001B[0m in \u001B[0;36m_items_overlap_with_suffix\u001B[1;34m(left, right, suffixes)\u001B[0m\n\u001B[0;32m   2302\u001B[0m \u001B[1;33m\u001B[0m\u001B[0m\n\u001B[0;32m   2303\u001B[0m     \u001B[1;32mif\u001B[0m \u001B[1;32mnot\u001B[0m \u001B[0mlsuffix\u001B[0m \u001B[1;32mand\u001B[0m \u001B[1;32mnot\u001B[0m \u001B[0mrsuffix\u001B[0m\u001B[1;33m:\u001B[0m\u001B[1;33m\u001B[0m\u001B[1;33m\u001B[0m\u001B[0m\n\u001B[1;32m-> 2304\u001B[1;33m         \u001B[1;32mraise\u001B[0m \u001B[0mValueError\u001B[0m\u001B[1;33m(\u001B[0m\u001B[1;34mf\"columns overlap but no suffix specified: {to_rename}\"\u001B[0m\u001B[1;33m)\u001B[0m\u001B[1;33m\u001B[0m\u001B[1;33m\u001B[0m\u001B[0m\n\u001B[0m\u001B[0;32m   2305\u001B[0m \u001B[1;33m\u001B[0m\u001B[0m\n\u001B[0;32m   2306\u001B[0m     \u001B[1;32mdef\u001B[0m \u001B[0mrenamer\u001B[0m\u001B[1;33m(\u001B[0m\u001B[0mx\u001B[0m\u001B[1;33m,\u001B[0m \u001B[0msuffix\u001B[0m\u001B[1;33m)\u001B[0m\u001B[1;33m:\u001B[0m\u001B[1;33m\u001B[0m\u001B[1;33m\u001B[0m\u001B[0m\n",
      "\u001B[1;31mValueError\u001B[0m: columns overlap but no suffix specified: Index(['GmSc', ''], dtype='object')"
     ]
    }
   ],
   "source": [
    "concatStats(df2, df1)"
   ],
   "metadata": {
    "collapsed": false,
    "pycharm": {
     "name": "#%%\n"
    }
   }
  }
 ],
 "metadata": {
  "kernelspec": {
   "display_name": "Python 3",
   "language": "python",
   "name": "python3"
  },
  "language_info": {
   "codemirror_mode": {
    "name": "ipython",
    "version": 2
   },
   "file_extension": ".py",
   "mimetype": "text/x-python",
   "name": "python",
   "nbconvert_exporter": "python",
   "pygments_lexer": "ipython2",
   "version": "2.7.6"
  }
 },
 "nbformat": 4,
 "nbformat_minor": 0
}