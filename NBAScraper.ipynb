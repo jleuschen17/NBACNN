{
 "cells": [
  {
   "cell_type": "code",
   "execution_count": 31,
   "metadata": {
    "collapsed": true
   },
   "outputs": [],
   "source": [
    "#package installs\n",
    "import numpy as np\n",
    "import pandas as pd\n",
    "from bs4 import BeautifulSoup\n",
    "import requests\n",
    "import unidecode\n",
    "import re"
   ]
  },
  {
   "cell_type": "code",
   "execution_count": 32,
   "outputs": [],
   "source": [
    "def statScraper(name, year, playerindex, team_id):\n",
    "    index = int(playerindex)\n",
    "    for x in range(2):\n",
    "        url, advanced = urlConvertor(name, year, playerindex, x)\n",
    "        print(url)\n",
    "        try:\n",
    "            result = requests.get(url)\n",
    "            print(result.status_code)\n",
    "            src = result.content\n",
    "            soup = BeautifulSoup(src, 'lxml')\n",
    "            table = soup.find('table', {'class': 'row_summable'})\n",
    "            trs = table.find_all('tr')\n",
    "            rows = []\n",
    "            for tr in trs:\n",
    "                tds = tr.find_all('td')\n",
    "                row = [td.text.replace('\\n', '').strip() for td in tds]\n",
    "                rows.append(row)\n",
    "            if x == 0:\n",
    "                columns = ['G', 'Date', 'Age', 'Tm', 'Location', 'Opp',\n",
    "                           'GS', 'Active', 'MP', 'FG', 'FGA', 'FG%',\n",
    "                           '3P', '3PA', '3P%', 'FT', 'FTA', 'FT%', 'ORB',\n",
    "                           'DRB', 'TRB', 'AST', 'STL', 'BLK', 'TOV', 'PF',\n",
    "                           'PTS', 'GmSc', '+/-']\n",
    "                df = pd.DataFrame(rows, columns=columns)\n",
    "                df = df[df['Tm'] == team_id]\n",
    "                if len(df) == 0:\n",
    "                    index += 1\n",
    "                    newindex = '0' + str(index)\n",
    "                    statScraper(name, year, newindex, team_id)\n",
    "                result.close()\n",
    "                df['PlayerID'] = name[2]\n",
    "            elif x == 1:\n",
    "                columns = ['G', 'Date', 'Age', 'Tm', 'Location', 'Opp', 'GS',\n",
    "                           'Active', 'MP', 'TS%', 'eFG%', 'ORB%', 'DRB%',\n",
    "                           'TRB%', 'AST%', 'STL%', 'BLK%', 'TOV%',\n",
    "                           'USG%', 'ORtg', 'DRtg', 'GmSc', 'BPM']\n",
    "                df2 = pd.DataFrame(rows, columns=columns)\n",
    "                df2 = df2[df2['Tm'] == team_id]\n",
    "                if len(df2) == 0:\n",
    "                    index += 1\n",
    "                    newindex = '0' + str(index)\n",
    "                    statScraper(name, year, newindex, team_id)\n",
    "                result.close()\n",
    "                df2 = df2.drop(df2.columns[[0, 2, 3, 4, 5, 6, 7, 8, -2]], axis=1)\n",
    "        except:\n",
    "            print('Error Scraping' ,index)\n",
    "            index+=1\n",
    "            if index > 4:\n",
    "                print('Stat scraping failed for:', name[0], name[1])\n",
    "                print(url)\n",
    "                return None\n",
    "            newindex = '0' + str(index)\n",
    "            statScraper(name, year, newindex, team_id)\n",
    "    statdf = pd.merge(df, df2,how='outer', on='Date')\n",
    "    statdf.insert(0, 'Name', name[1] + ', ' + name[0])\n",
    "    print('Successfully Scraped:', name[0], name[1])\n",
    "    return statdf\n"
   ],
   "metadata": {
    "collapsed": false,
    "pycharm": {
     "name": "#%%\n"
    }
   }
  },
  {
   "cell_type": "code",
   "execution_count": 34,
   "outputs": [],
   "source": [
    "def urlConvertor(name, year, playerindex, advanced: bool):\n",
    "    lname = name[1]\n",
    "    fname = name[0]\n",
    "    lnamelist = list(lname)\n",
    "    linitial = lnamelist[0]\n",
    "    fnamelist = list(fname)\n",
    "    lname5 = ''\n",
    "    for x in range(5):\n",
    "        try:\n",
    "            lname5 += lnamelist[x]\n",
    "        except:\n",
    "            break\n",
    "    f2i = fnamelist[0] + fnamelist[1]\n",
    "    if advanced == False:\n",
    "        url = f'https://www.basketball-reference.com/players/{linitial}/{lname5}{f2i}{playerindex}/gamelog/{year}/'\n",
    "    else:\n",
    "        url = f'https://www.basketball-reference.com/players/{linitial}/{lname5}{f2i}{playerindex}/gamelog-advanced/{year}/'\n",
    "    return url, advanced\n"
   ],
   "metadata": {
    "collapsed": false,
    "pycharm": {
     "name": "#%%\n"
    }
   }
  },
  {
   "cell_type": "code",
   "execution_count": 36,
   "outputs": [],
   "source": [
    "def rosterScraper(TeamID, year, id_number):\n",
    "    url = f\"https://www.basketball-reference.com/teams/{TeamID}/{year}.html\"\n",
    "    result = requests.get(url)\n",
    "    try:\n",
    "        src = result.content\n",
    "        soup = BeautifulSoup(src, 'lxml')\n",
    "        table = soup.find('table', {'class': 'sortable'})\n",
    "        names = []\n",
    "        trs = table.find_all('tr')\n",
    "        rows = []\n",
    "        for tr in trs:\n",
    "            try:\n",
    "                td = tr.find('td', {'data-stat': 'player'})\n",
    "                a_tag = td.find('a')\n",
    "                name = a_tag.get_text()\n",
    "                name = unidecode.unidecode(name)\n",
    "                name = re.sub(r'[^\\w\\s]','',name)\n",
    "                names.append(name)\n",
    "            except:\n",
    "                pass\n",
    "        for x in range(len(names)):\n",
    "            names[x] = names[x].split()\n",
    "            names[x].append(id_number)\n",
    "            id_number += 1\n",
    "        print(TeamID,\"roster successfully parsed\")\n",
    "        return names\n",
    "    except:\n",
    "        return False\n",
    "\n"
   ],
   "metadata": {
    "collapsed": false,
    "pycharm": {
     "name": "#%%\n"
    }
   }
  },
  {
   "cell_type": "code",
   "execution_count": 37,
   "outputs": [],
   "source": [
    "def teamFinder(year):\n",
    "    team_id = 101\n",
    "    url = f\"https://www.basketball-reference.com/leagues/NBA_{year}.html\"\n",
    "    result = requests.get(url)\n",
    "    src = result.content\n",
    "    soup = BeautifulSoup(src, 'lxml')\n",
    "    table = soup.find('table', {'class': 'stats_table sortable', 'data-cols-to-freeze': ',2', 'id': 'per_game-team'})\n",
    "    teams = []\n",
    "    ids = {}\n",
    "    trs = table.find_all('tr')\n",
    "    x = 0\n",
    "    for tr in trs[1:]:\n",
    "        #print(tr.prettify())\n",
    "        try:\n",
    "            td = tr.find('td', {'data-stat': 'team', 'class': 'left'})\n",
    "            a_tag = td.find('a')\n",
    "            team = a_tag.get_text()\n",
    "            teams.append(team)\n",
    "            link = a_tag.attrs['href']\n",
    "            link = list(link)\n",
    "            acronym = link[7] + link[8] + link[9]\n",
    "            ids[teams[x]] = []\n",
    "            ids[teams[x]].append(acronym)\n",
    "            x+=1\n",
    "        except:\n",
    "            pass\n",
    "    for x in range(len(teams)):\n",
    "        ids[teams[x]].append(team_id)\n",
    "        team_id+=1\n",
    "    return teams, ids"
   ],
   "metadata": {
    "collapsed": false,
    "pycharm": {
     "name": "#%%\n"
    }
   }
  },
  {
   "cell_type": "code",
   "execution_count": 38,
   "outputs": [],
   "source": [
    "def leagueRosters(year):\n",
    "    teamrosters = {}\n",
    "    id_number = 1001\n",
    "    teams, team_ids = teamFinder(year)\n",
    "    for team in teams:\n",
    "        teamrosters[team] = rosterScraper(team_ids[team][0], year, id_number)\n",
    "        id_number+=len(teamrosters[team])\n",
    "    return teamrosters, team_ids"
   ],
   "metadata": {
    "collapsed": false,
    "pycharm": {
     "name": "#%%\n"
    }
   }
  },
  {
   "cell_type": "code",
   "execution_count": 39,
   "outputs": [],
   "source": [
    "def teamRoster(team, year):\n",
    "    roster = []\n",
    "    id_number = 1001\n",
    "    teams, team_ids = teamFinder(year)\n",
    "    roster = rosterScraper(team_ids[team][0], year, id_number)\n",
    "    return roster, team_ids\n"
   ],
   "metadata": {
    "collapsed": false,
    "pycharm": {
     "name": "#%%\n"
    }
   }
  },
  {
   "cell_type": "code",
   "execution_count": 40,
   "outputs": [],
   "source": [
    "def playerScraper(name, team, year):\n",
    "    name = name.split()\n",
    "    name.append('1001')\n",
    "    teams, ids = teamFinder(year)\n",
    "    team_id = ids[team][0]\n",
    "    df = statScraper(name, year, '01', team_id)\n",
    "    return df\n"
   ],
   "metadata": {
    "collapsed": false,
    "pycharm": {
     "name": "#%%\n"
    }
   }
  },
  {
   "cell_type": "code",
   "execution_count": 41,
   "outputs": [],
   "source": [
    "def teamScraper(team, year):\n",
    "    roster, team_ids = teamRoster(team, year)\n",
    "    for x in range(len(roster)):\n",
    "        try:\n",
    "            if x == 0:\n",
    "                player = roster[x]\n",
    "                df = statScraper(player, year, '01', team_ids[team][0])\n",
    "            else:\n",
    "                player = roster[x]\n",
    "                df = df.append(statScraper(player, year, '01', team_ids[team][0]))\n",
    "        except:\n",
    "            pass\n",
    "    return df"
   ],
   "metadata": {
    "collapsed": false,
    "pycharm": {
     "name": "#%%\n"
    }
   }
  },
  {
   "cell_type": "code",
   "execution_count": 42,
   "outputs": [],
   "source": [
    "def leagueScraper(year):\n",
    "    rosters, team_ids = leagueRosters(year)\n",
    "    y = 0\n",
    "    for team in rosters:\n",
    "        for x in range(len(rosters[team])):\n",
    "            try:\n",
    "                if x == 0 and y == 0:\n",
    "                    player = rosters[team][x]\n",
    "                    print(player)\n",
    "                    df = statScraper(player, year, '01', team_ids[team][0])\n",
    "                else:\n",
    "                    player = rosters[team][x]\n",
    "                    df = df.append(statScraper(player, year, '01', team_ids[team][0]))\n",
    "            except:\n",
    "                pass\n",
    "        y+=1\n",
    "    return df"
   ],
   "metadata": {
    "collapsed": false,
    "pycharm": {
     "name": "#%%\n"
    }
   }
  },
  {
   "cell_type": "code",
   "execution_count": 43,
   "outputs": [],
   "source": [
    "def save_df(df, title, path):\n",
    "    df.to_csv(rf'{path}{title}.csv', index=False)\n"
   ],
   "metadata": {
    "collapsed": false,
    "pycharm": {
     "name": "#%%\n"
    }
   }
  },
  {
   "cell_type": "code",
   "execution_count": 46,
   "outputs": [
    {
     "name": "stdout",
     "output_type": "stream",
     "text": [
      "ORL roster successfully parsed\n",
      "https://www.basketball-reference.com/players/A/ArmstDa01/gamelog/2002/\n",
      "200\n",
      "https://www.basketball-reference.com/players/A/ArmstDa01/gamelog-advanced/2002/\n",
      "200\n",
      "Successfully Scraped: Darrell Armstrong\n",
      "https://www.basketball-reference.com/players/B/BrownDe01/gamelog/2002/\n",
      "200\n",
      "https://www.basketball-reference.com/players/B/BrownDe01/gamelog-advanced/2002/\n",
      "200\n",
      "Successfully Scraped: Dee Brown\n",
      "https://www.basketball-reference.com/players/B/BuechJu01/gamelog/2002/\n",
      "200\n",
      "https://www.basketball-reference.com/players/B/BuechJu01/gamelog-advanced/2002/\n",
      "200\n",
      "Successfully Scraped: Jud Buechler\n",
      "https://www.basketball-reference.com/players/D/DeCleAn01/gamelog/2002/\n",
      "200\n",
      "https://www.basketball-reference.com/players/D/DeCleAn01/gamelog-advanced/2002/\n",
      "200\n",
      "Successfully Scraped: Andrew DeClercq\n",
      "https://www.basketball-reference.com/players/E/EwingPa01/gamelog/2002/\n",
      "200\n",
      "https://www.basketball-reference.com/players/E/EwingPa01/gamelog-advanced/2002/\n",
      "200\n",
      "Successfully Scraped: Patrick Ewing\n",
      "https://www.basketball-reference.com/players/G/GarriPa01/gamelog/2002/\n",
      "200\n",
      "https://www.basketball-reference.com/players/G/GarriPa01/gamelog-advanced/2002/\n",
      "200\n",
      "Successfully Scraped: Pat Garrity\n",
      "https://www.basketball-reference.com/players/G/GrantHo01/gamelog/2002/\n",
      "200\n",
      "https://www.basketball-reference.com/players/G/GrantHo01/gamelog-advanced/2002/\n",
      "200\n",
      "Successfully Scraped: Horace Grant\n",
      "https://www.basketball-reference.com/players/H/HillGr01/gamelog/2002/\n",
      "200\n",
      "https://www.basketball-reference.com/players/H/HillGr01/gamelog-advanced/2002/\n",
      "200\n",
      "Successfully Scraped: Grant Hill\n",
      "https://www.basketball-reference.com/players/H/HudsoTr01/gamelog/2002/\n",
      "200\n",
      "https://www.basketball-reference.com/players/H/HudsoTr01/gamelog-advanced/2002/\n",
      "200\n",
      "Successfully Scraped: Troy Hudson\n",
      "https://www.basketball-reference.com/players/H/HunteSt01/gamelog/2002/\n",
      "200\n",
      "https://www.basketball-reference.com/players/H/HunteSt01/gamelog-advanced/2002/\n",
      "200\n",
      "Successfully Scraped: Steven Hunter\n",
      "https://www.basketball-reference.com/players/J/JacksJa01/gamelog/2002/\n",
      "200\n",
      "https://www.basketball-reference.com/players/J/JacksJa01/gamelog-advanced/2002/\n",
      "200\n",
      "Successfully Scraped: Jaren Jackson\n",
      "https://www.basketball-reference.com/players/M/McGraTr01/gamelog/2002/\n",
      "200\n",
      "https://www.basketball-reference.com/players/M/McGraTr01/gamelog-advanced/2002/\n",
      "200\n",
      "Successfully Scraped: Tracy McGrady\n",
      "https://www.basketball-reference.com/players/M/MilleMi01/gamelog/2002/\n",
      "200\n",
      "https://www.basketball-reference.com/players/M/MilleMi01/gamelog-advanced/2002/\n",
      "200\n",
      "Successfully Scraped: Mike Miller\n",
      "https://www.basketball-reference.com/players/O/OutlaBo01/gamelog/2002/\n",
      "200\n",
      "https://www.basketball-reference.com/players/O/OutlaBo01/gamelog-advanced/2002/\n",
      "200\n",
      "Successfully Scraped: Bo Outlaw\n",
      "https://www.basketball-reference.com/players/R/ReidDo01/gamelog/2002/\n",
      "200\n",
      "https://www.basketball-reference.com/players/R/ReidDo01/gamelog-advanced/2002/\n",
      "200\n",
      "Successfully Scraped: Don Reid\n",
      "https://www.basketball-reference.com/players/S/SasseJe01/gamelog/2002/\n",
      "200\n",
      "https://www.basketball-reference.com/players/S/SasseJe01/gamelog-advanced/2002/\n",
      "200\n",
      "Successfully Scraped: Jeryl Sasser\n",
      "https://www.basketball-reference.com/players/W/WilliMo01/gamelog/2002/\n",
      "200\n",
      "https://www.basketball-reference.com/players/W/WilliMo01/gamelog-advanced/2002/\n",
      "200\n",
      "Successfully Scraped: Monty Williams\n"
     ]
    },
    {
     "data": {
      "text/plain": "                  Name   G        Date     Age   Tm Location  Opp       GS  \\\n0   Armstrong, Darrell   1  2001-10-30  33-130  ORL           TOR  W (+29)   \n1   Armstrong, Darrell   2  2001-11-02  33-133  ORL        @  IND  L (-10)   \n2   Armstrong, Darrell   3  2001-11-03  33-134  ORL        @  CLE  W (+30)   \n3   Armstrong, Darrell   4  2001-11-05  33-136  ORL           SEA   L (-4)   \n4   Armstrong, Darrell   5  2001-11-06  33-137  ORL        @  SAS  L (-15)   \n..                 ...  ..         ...     ...  ...      ...  ...      ...   \n66     Williams, Monty  64  2002-04-11  30-185  ORL           NJN   L (-2)   \n67     Williams, Monty  65  2002-04-12  30-186  ORL        @  MIA   L (-5)   \n68     Williams, Monty  66  2002-04-14  30-188  ORL           PHI   L (-6)   \n69     Williams, Monty  67  2002-04-16  30-190  ORL        @  ATL   W (+7)   \n70     Williams, Monty  68  2002-04-17  30-191  ORL           MIA  L (-14)   \n\n   Active     MP  ...  DRB%  TRB%  AST%  STL% BLK%  TOV%  USG% ORtg DRtg  \\\n0       1  28:42  ...  10.1   8.8  24.3   5.5  2.6  11.3  14.3  185   89   \n1       1  30:00  ...   8.6   7.9  27.1   3.5  0.0   0.0  27.7  140  125   \n2       1  24:19  ...  17.2   9.2  36.4   6.5  2.9   0.0  14.2  129   63   \n3       1  44:18  ...  13.2   9.5  21.3   2.5  0.0   0.0  15.6  144  115   \n4       1  33:50  ...  11.8   5.0  23.9   0.0  0.0  11.4  10.4  105  121   \n..    ...    ...  ...   ...   ...   ...   ...  ...   ...   ...  ...  ...   \n66      0  13:45  ...   9.0   4.1  11.7   0.0  0.0  40.0  16.2   79  104   \n67      0  11:49  ...  18.6   8.3   0.0  12.6  0.0   0.0   6.8   62   79   \n68      0  11:09  ...  12.8  10.9  51.8   5.2  0.0  11.1  40.7   69  108   \n69      1  37:10  ...  14.4  10.0  15.0   2.6  1.8   9.9  23.7  118   92   \n70      1  34:20  ...   7.8   7.2  14.6   1.5  0.0   0.0  21.5  142  112   \n\n      BPM  \n0    21.7  \n1    10.2  \n2    14.1  \n3     7.5  \n4    -4.3  \n..    ...  \n66  -11.8  \n67    2.1  \n68   -6.0  \n69    6.3  \n70    6.7  \n\n[981 rows x 44 columns]",
      "text/html": "<div>\n<style scoped>\n    .dataframe tbody tr th:only-of-type {\n        vertical-align: middle;\n    }\n\n    .dataframe tbody tr th {\n        vertical-align: top;\n    }\n\n    .dataframe thead th {\n        text-align: right;\n    }\n</style>\n<table border=\"1\" class=\"dataframe\">\n  <thead>\n    <tr style=\"text-align: right;\">\n      <th></th>\n      <th>Name</th>\n      <th>G</th>\n      <th>Date</th>\n      <th>Age</th>\n      <th>Tm</th>\n      <th>Location</th>\n      <th>Opp</th>\n      <th>GS</th>\n      <th>Active</th>\n      <th>MP</th>\n      <th>...</th>\n      <th>DRB%</th>\n      <th>TRB%</th>\n      <th>AST%</th>\n      <th>STL%</th>\n      <th>BLK%</th>\n      <th>TOV%</th>\n      <th>USG%</th>\n      <th>ORtg</th>\n      <th>DRtg</th>\n      <th>BPM</th>\n    </tr>\n  </thead>\n  <tbody>\n    <tr>\n      <th>0</th>\n      <td>Armstrong, Darrell</td>\n      <td>1</td>\n      <td>2001-10-30</td>\n      <td>33-130</td>\n      <td>ORL</td>\n      <td></td>\n      <td>TOR</td>\n      <td>W (+29)</td>\n      <td>1</td>\n      <td>28:42</td>\n      <td>...</td>\n      <td>10.1</td>\n      <td>8.8</td>\n      <td>24.3</td>\n      <td>5.5</td>\n      <td>2.6</td>\n      <td>11.3</td>\n      <td>14.3</td>\n      <td>185</td>\n      <td>89</td>\n      <td>21.7</td>\n    </tr>\n    <tr>\n      <th>1</th>\n      <td>Armstrong, Darrell</td>\n      <td>2</td>\n      <td>2001-11-02</td>\n      <td>33-133</td>\n      <td>ORL</td>\n      <td>@</td>\n      <td>IND</td>\n      <td>L (-10)</td>\n      <td>1</td>\n      <td>30:00</td>\n      <td>...</td>\n      <td>8.6</td>\n      <td>7.9</td>\n      <td>27.1</td>\n      <td>3.5</td>\n      <td>0.0</td>\n      <td>0.0</td>\n      <td>27.7</td>\n      <td>140</td>\n      <td>125</td>\n      <td>10.2</td>\n    </tr>\n    <tr>\n      <th>2</th>\n      <td>Armstrong, Darrell</td>\n      <td>3</td>\n      <td>2001-11-03</td>\n      <td>33-134</td>\n      <td>ORL</td>\n      <td>@</td>\n      <td>CLE</td>\n      <td>W (+30)</td>\n      <td>1</td>\n      <td>24:19</td>\n      <td>...</td>\n      <td>17.2</td>\n      <td>9.2</td>\n      <td>36.4</td>\n      <td>6.5</td>\n      <td>2.9</td>\n      <td>0.0</td>\n      <td>14.2</td>\n      <td>129</td>\n      <td>63</td>\n      <td>14.1</td>\n    </tr>\n    <tr>\n      <th>3</th>\n      <td>Armstrong, Darrell</td>\n      <td>4</td>\n      <td>2001-11-05</td>\n      <td>33-136</td>\n      <td>ORL</td>\n      <td></td>\n      <td>SEA</td>\n      <td>L (-4)</td>\n      <td>1</td>\n      <td>44:18</td>\n      <td>...</td>\n      <td>13.2</td>\n      <td>9.5</td>\n      <td>21.3</td>\n      <td>2.5</td>\n      <td>0.0</td>\n      <td>0.0</td>\n      <td>15.6</td>\n      <td>144</td>\n      <td>115</td>\n      <td>7.5</td>\n    </tr>\n    <tr>\n      <th>4</th>\n      <td>Armstrong, Darrell</td>\n      <td>5</td>\n      <td>2001-11-06</td>\n      <td>33-137</td>\n      <td>ORL</td>\n      <td>@</td>\n      <td>SAS</td>\n      <td>L (-15)</td>\n      <td>1</td>\n      <td>33:50</td>\n      <td>...</td>\n      <td>11.8</td>\n      <td>5.0</td>\n      <td>23.9</td>\n      <td>0.0</td>\n      <td>0.0</td>\n      <td>11.4</td>\n      <td>10.4</td>\n      <td>105</td>\n      <td>121</td>\n      <td>-4.3</td>\n    </tr>\n    <tr>\n      <th>...</th>\n      <td>...</td>\n      <td>...</td>\n      <td>...</td>\n      <td>...</td>\n      <td>...</td>\n      <td>...</td>\n      <td>...</td>\n      <td>...</td>\n      <td>...</td>\n      <td>...</td>\n      <td>...</td>\n      <td>...</td>\n      <td>...</td>\n      <td>...</td>\n      <td>...</td>\n      <td>...</td>\n      <td>...</td>\n      <td>...</td>\n      <td>...</td>\n      <td>...</td>\n      <td>...</td>\n    </tr>\n    <tr>\n      <th>66</th>\n      <td>Williams, Monty</td>\n      <td>64</td>\n      <td>2002-04-11</td>\n      <td>30-185</td>\n      <td>ORL</td>\n      <td></td>\n      <td>NJN</td>\n      <td>L (-2)</td>\n      <td>0</td>\n      <td>13:45</td>\n      <td>...</td>\n      <td>9.0</td>\n      <td>4.1</td>\n      <td>11.7</td>\n      <td>0.0</td>\n      <td>0.0</td>\n      <td>40.0</td>\n      <td>16.2</td>\n      <td>79</td>\n      <td>104</td>\n      <td>-11.8</td>\n    </tr>\n    <tr>\n      <th>67</th>\n      <td>Williams, Monty</td>\n      <td>65</td>\n      <td>2002-04-12</td>\n      <td>30-186</td>\n      <td>ORL</td>\n      <td>@</td>\n      <td>MIA</td>\n      <td>L (-5)</td>\n      <td>0</td>\n      <td>11:49</td>\n      <td>...</td>\n      <td>18.6</td>\n      <td>8.3</td>\n      <td>0.0</td>\n      <td>12.6</td>\n      <td>0.0</td>\n      <td>0.0</td>\n      <td>6.8</td>\n      <td>62</td>\n      <td>79</td>\n      <td>2.1</td>\n    </tr>\n    <tr>\n      <th>68</th>\n      <td>Williams, Monty</td>\n      <td>66</td>\n      <td>2002-04-14</td>\n      <td>30-188</td>\n      <td>ORL</td>\n      <td></td>\n      <td>PHI</td>\n      <td>L (-6)</td>\n      <td>0</td>\n      <td>11:09</td>\n      <td>...</td>\n      <td>12.8</td>\n      <td>10.9</td>\n      <td>51.8</td>\n      <td>5.2</td>\n      <td>0.0</td>\n      <td>11.1</td>\n      <td>40.7</td>\n      <td>69</td>\n      <td>108</td>\n      <td>-6.0</td>\n    </tr>\n    <tr>\n      <th>69</th>\n      <td>Williams, Monty</td>\n      <td>67</td>\n      <td>2002-04-16</td>\n      <td>30-190</td>\n      <td>ORL</td>\n      <td>@</td>\n      <td>ATL</td>\n      <td>W (+7)</td>\n      <td>1</td>\n      <td>37:10</td>\n      <td>...</td>\n      <td>14.4</td>\n      <td>10.0</td>\n      <td>15.0</td>\n      <td>2.6</td>\n      <td>1.8</td>\n      <td>9.9</td>\n      <td>23.7</td>\n      <td>118</td>\n      <td>92</td>\n      <td>6.3</td>\n    </tr>\n    <tr>\n      <th>70</th>\n      <td>Williams, Monty</td>\n      <td>68</td>\n      <td>2002-04-17</td>\n      <td>30-191</td>\n      <td>ORL</td>\n      <td></td>\n      <td>MIA</td>\n      <td>L (-14)</td>\n      <td>1</td>\n      <td>34:20</td>\n      <td>...</td>\n      <td>7.8</td>\n      <td>7.2</td>\n      <td>14.6</td>\n      <td>1.5</td>\n      <td>0.0</td>\n      <td>0.0</td>\n      <td>21.5</td>\n      <td>142</td>\n      <td>112</td>\n      <td>6.7</td>\n    </tr>\n  </tbody>\n</table>\n<p>981 rows × 44 columns</p>\n</div>"
     },
     "execution_count": 46,
     "metadata": {},
     "output_type": "execute_result"
    }
   ],
   "source": [
    "teamScraper('Orlando Magic', '2002')"
   ],
   "metadata": {
    "collapsed": false,
    "pycharm": {
     "name": "#%%\n"
    }
   }
  }
 ],
 "metadata": {
  "kernelspec": {
   "display_name": "Python 3",
   "language": "python",
   "name": "python3"
  },
  "language_info": {
   "codemirror_mode": {
    "name": "ipython",
    "version": 2
   },
   "file_extension": ".py",
   "mimetype": "text/x-python",
   "name": "python",
   "nbconvert_exporter": "python",
   "pygments_lexer": "ipython2",
   "version": "2.7.6"
  }
 },
 "nbformat": 4,
 "nbformat_minor": 0
}