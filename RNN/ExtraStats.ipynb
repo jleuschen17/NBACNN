{
 "cells": [
  {
   "cell_type": "code",
   "execution_count": 2,
   "metadata": {
    "collapsed": true
   },
   "outputs": [],
   "source": [
    "import tensorflow as tf\n",
    "import numpy as np\n",
    "import pandas as pd\n",
    "import sys\n",
    "sys.path.insert(0, r\"C:\\Users\\jleus\\PycharmProjects\\NBACNN\\DataScraper\")\n",
    "import leagueRosters\n",
    "import leagueScraper\n",
    "import statScraper\n",
    "import teamFinder\n",
    "import teamRoster\n",
    "import teamScraper\n",
    "import urlConvertor\n",
    "import playerScraper\n",
    "import save_df"
   ]
  },
  {
   "cell_type": "code",
   "execution_count": 3,
   "outputs": [],
   "source": [
    "def csv_to_df(csv):\n",
    "    return(pd.read_csv(csv))"
   ],
   "metadata": {
    "collapsed": false,
    "pycharm": {
     "name": "#%%\n"
    }
   }
  },
  {
   "cell_type": "code",
   "execution_count": 110,
   "outputs": [],
   "source": [
    "def clean_stats(df):\n",
    "    for x in range(len(df)):\n",
    "        #Date\n",
    "        date = df.loc[x, 'Date']\n",
    "        date = list(date)\n",
    "        newdate = ''\n",
    "        for y in range(10):\n",
    "            if date[y] != '-':\n",
    "                newdate+=date[y]\n",
    "        df.at[x, 'Date'] = float(newdate)\n",
    "\n",
    "        #Age\n",
    "        age = df.loc[x, 'Age']\n",
    "        age = list(age)\n",
    "        newage = ''\n",
    "        for y in range(6):\n",
    "            if age[y] != '-':\n",
    "                newage+=age[y]\n",
    "        df.at[x, 'Age'] = float(newage)\n",
    "\n",
    "        #Location\n",
    "        location = df.loc[x, 'Location']\n",
    "        if location == '@':\n",
    "            df.at[x, 'Location'] = 0\n",
    "        else:\n",
    "            df.at[x, 'Location'] = 1\n",
    "\n",
    "        #GS\n",
    "        gs = df.loc[x, 'GS']\n",
    "        gs = list(gs)\n",
    "        newgs = ''\n",
    "        if len(gs) == 6:\n",
    "            newgs = gs[-2]\n",
    "        else:\n",
    "            newgs = gs[-3] + gs[-2]\n",
    "        newgs = float(newgs)\n",
    "        if gs[0] == 'L':\n",
    "            newgs = newgs * -1\n",
    "        df.at[x, 'GS'] = newgs\n",
    "\n",
    "        #Active\n",
    "        if df.loc[x, 'Active'] == '0' or df.loc[x, 'Active'] == '1':\n",
    "            df.at[x, 'Active'] = 1\n",
    "        else:\n",
    "            df.at[x, 'Active'] = 0\n",
    "\n",
    "        #MP\n",
    "        mp = df.loc[x, 'MP']\n",
    "        mp = str(mp)\n",
    "        mp = list(mp)\n",
    "        newmp = ''\n",
    "        for y in range(len(mp)):\n",
    "            if mp[y] != ':':\n",
    "                newmp+=mp[y]\n",
    "        newmp = float(newmp)\n",
    "        df.at[x, 'MP'] = newmp\n",
    "    return df\n"
   ],
   "metadata": {
    "collapsed": false,
    "pycharm": {
     "name": "#%%\n"
    }
   }
  },
  {
   "cell_type": "code",
   "execution_count": 131,
   "outputs": [],
   "source": [
    "def standerdize_stats(cleaned_df):\n",
    "    df_means = cleaned_df.mean()\n",
    "    df_stdevs = cleaned_df.std()\n",
    "    normalized_df = cleaned_df\n",
    "    columns = ['Age', 'GS', 'MP', 'FG', 'FGA', 'FG%', '3P', '3PA', '3P%', 'FT', 'FTA', 'FT%', 'ORB', 'DRB', 'TRB', 'AST', 'STL', 'BLK', 'TOV', 'PF', 'PTS', 'GmSc', '+/-', 'PlayerID', 'TS%', 'eFG%', 'ORB%', 'DRB%', 'TRB%', 'AST%', 'STL%', 'BLK%', 'TOV%', 'USG%', 'ORtg', 'DRtg', 'BPM']\n",
    "    for column in columns:\n",
    "        normalized_df[column] = (normalized_df[column] - df_means[column])/df_stdevs[column]\n",
    "    return normalized_df"
   ],
   "metadata": {
    "collapsed": false,
    "pycharm": {
     "name": "#%%\n"
    }
   }
  },
  {
   "cell_type": "code",
   "execution_count": 132,
   "outputs": [
    {
     "name": "stderr",
     "output_type": "stream",
     "text": [
      "C:\\Users\\jleus\\AppData\\Local\\Temp/ipykernel_16416/2179797318.py:2: FutureWarning: Dropping of nuisance columns in DataFrame reductions (with 'numeric_only=None') is deprecated; in a future version this will raise TypeError.  Select only valid columns before calling the reduction.\n",
      "  df_means = cleaned_df.mean()\n",
      "C:\\Users\\jleus\\AppData\\Local\\Temp/ipykernel_16416/2179797318.py:3: FutureWarning: Dropping of nuisance columns in DataFrame reductions (with 'numeric_only=None') is deprecated; in a future version this will raise TypeError.  Select only valid columns before calling the reduction.\n",
      "  df_stdevs = cleaned_df.std()\n"
     ]
    }
   ],
   "source": [
    "csv = r\"C:\\Users\\jleus\\OneDrive\\Documents\\CSVS\\Magic2002.csv\"\n",
    "df = standerdize_stats(simple_clean_stats(csv_to_df(csv)))"
   ],
   "metadata": {
    "collapsed": false,
    "pycharm": {
     "name": "#%%\n"
    }
   }
  },
  {
   "cell_type": "code",
   "source": [
    "df"
   ],
   "metadata": {
    "collapsed": false,
    "pycharm": {
     "name": "#%%\n"
    }
   },
   "execution_count": 129,
   "outputs": [
    {
     "data": {
      "text/plain": "                   Name     G        Date      Age   Tm Location  Opp  \\\n0    Armstrong, Darrell   1.0  20011030.0  33130.0  ORL        1  TOR   \n1    Armstrong, Darrell   2.0  20011102.0  33133.0  ORL        0  IND   \n2    Armstrong, Darrell   3.0  20011103.0  33134.0  ORL        0  CLE   \n3    Armstrong, Darrell   4.0  20011105.0  33136.0  ORL        1  SEA   \n4    Armstrong, Darrell   5.0  20011106.0  33137.0  ORL        0  SAS   \n..                  ...   ...         ...      ...  ...      ...  ...   \n976     Williams, Monty  64.0  20020411.0  30185.0  ORL        1  NJN   \n977     Williams, Monty  65.0  20020412.0  30186.0  ORL        0  MIA   \n978     Williams, Monty  66.0  20020414.0  30188.0  ORL        1  PHI   \n979     Williams, Monty  67.0  20020416.0  30190.0  ORL        0  ATL   \n980     Williams, Monty  68.0  20020417.0  30191.0  ORL        1  MIA   \n\n           GS Active        MP  ...      DRB%      TRB%      AST%      STL%  \\\n0    1.932486      1  0.485222  ... -0.309621 -0.146468  0.977296  1.499418   \n1   -0.811334      1  0.611054  ... -0.431472 -0.261715  1.198676  0.725145   \n2    2.002841      1  0.148344  ...  0.267141 -0.095247  1.933977  1.886554   \n3   -0.389208      1  1.740351  ... -0.057795 -0.056831  0.740102  0.338008   \n4   -1.163106      1  0.889794  ... -0.171523 -0.633066  0.945670 -0.629833   \n..        ...    ...       ...  ...       ...       ...       ...       ...   \n976 -0.248499      1 -0.706991  ... -0.398979 -0.748313 -0.018918 -0.629833   \n977 -0.459563      1 -0.863086  ...  0.380869 -0.210494 -0.943974  4.248087   \n978 -0.529917      1 -0.894942  ... -0.090289  0.122442  3.151572  1.383277   \n979   0.38469      1  1.176499  ...  0.039686  0.007195  0.241995  0.376722   \n980 -1.092752      1  0.945542  ... -0.496460 -0.351351  0.210369 -0.049128   \n\n         BLK%      TOV%      USG%      ORtg      DRtg       BPM  \n0    0.249414 -0.142618 -0.456625  1.840785 -1.230664  1.998983  \n1   -0.414744 -0.785867  0.913296  0.887884  1.351996  1.030131  \n2    0.326048 -0.785867 -0.466848  0.654953 -3.095919  1.358698  \n3   -0.414744 -0.785867 -0.323722  0.972586  0.634591  0.802661  \n4   -0.414744 -0.136926 -0.855333  0.146739  1.065034 -0.191466  \n..        ...       ...       ...       ...       ...       ...  \n976 -0.414744  1.491119 -0.262382 -0.403826 -0.154556 -0.823326  \n977 -0.414744 -0.785867 -1.223372 -0.763811 -1.948070  0.347722  \n978 -0.414744 -0.154003  2.242324 -0.615582  0.132407 -0.334688  \n979  0.045058 -0.222313  0.504365  0.422021 -1.015443  0.701563  \n980 -0.414744 -0.785867  0.279452  0.930235  0.419369  0.735263  \n\n[981 rows x 44 columns]",
      "text/html": "<div>\n<style scoped>\n    .dataframe tbody tr th:only-of-type {\n        vertical-align: middle;\n    }\n\n    .dataframe tbody tr th {\n        vertical-align: top;\n    }\n\n    .dataframe thead th {\n        text-align: right;\n    }\n</style>\n<table border=\"1\" class=\"dataframe\">\n  <thead>\n    <tr style=\"text-align: right;\">\n      <th></th>\n      <th>Name</th>\n      <th>G</th>\n      <th>Date</th>\n      <th>Age</th>\n      <th>Tm</th>\n      <th>Location</th>\n      <th>Opp</th>\n      <th>GS</th>\n      <th>Active</th>\n      <th>MP</th>\n      <th>...</th>\n      <th>DRB%</th>\n      <th>TRB%</th>\n      <th>AST%</th>\n      <th>STL%</th>\n      <th>BLK%</th>\n      <th>TOV%</th>\n      <th>USG%</th>\n      <th>ORtg</th>\n      <th>DRtg</th>\n      <th>BPM</th>\n    </tr>\n  </thead>\n  <tbody>\n    <tr>\n      <th>0</th>\n      <td>Armstrong, Darrell</td>\n      <td>1.0</td>\n      <td>20011030.0</td>\n      <td>33130.0</td>\n      <td>ORL</td>\n      <td>1</td>\n      <td>TOR</td>\n      <td>1.932486</td>\n      <td>1</td>\n      <td>0.485222</td>\n      <td>...</td>\n      <td>-0.309621</td>\n      <td>-0.146468</td>\n      <td>0.977296</td>\n      <td>1.499418</td>\n      <td>0.249414</td>\n      <td>-0.142618</td>\n      <td>-0.456625</td>\n      <td>1.840785</td>\n      <td>-1.230664</td>\n      <td>1.998983</td>\n    </tr>\n    <tr>\n      <th>1</th>\n      <td>Armstrong, Darrell</td>\n      <td>2.0</td>\n      <td>20011102.0</td>\n      <td>33133.0</td>\n      <td>ORL</td>\n      <td>0</td>\n      <td>IND</td>\n      <td>-0.811334</td>\n      <td>1</td>\n      <td>0.611054</td>\n      <td>...</td>\n      <td>-0.431472</td>\n      <td>-0.261715</td>\n      <td>1.198676</td>\n      <td>0.725145</td>\n      <td>-0.414744</td>\n      <td>-0.785867</td>\n      <td>0.913296</td>\n      <td>0.887884</td>\n      <td>1.351996</td>\n      <td>1.030131</td>\n    </tr>\n    <tr>\n      <th>2</th>\n      <td>Armstrong, Darrell</td>\n      <td>3.0</td>\n      <td>20011103.0</td>\n      <td>33134.0</td>\n      <td>ORL</td>\n      <td>0</td>\n      <td>CLE</td>\n      <td>2.002841</td>\n      <td>1</td>\n      <td>0.148344</td>\n      <td>...</td>\n      <td>0.267141</td>\n      <td>-0.095247</td>\n      <td>1.933977</td>\n      <td>1.886554</td>\n      <td>0.326048</td>\n      <td>-0.785867</td>\n      <td>-0.466848</td>\n      <td>0.654953</td>\n      <td>-3.095919</td>\n      <td>1.358698</td>\n    </tr>\n    <tr>\n      <th>3</th>\n      <td>Armstrong, Darrell</td>\n      <td>4.0</td>\n      <td>20011105.0</td>\n      <td>33136.0</td>\n      <td>ORL</td>\n      <td>1</td>\n      <td>SEA</td>\n      <td>-0.389208</td>\n      <td>1</td>\n      <td>1.740351</td>\n      <td>...</td>\n      <td>-0.057795</td>\n      <td>-0.056831</td>\n      <td>0.740102</td>\n      <td>0.338008</td>\n      <td>-0.414744</td>\n      <td>-0.785867</td>\n      <td>-0.323722</td>\n      <td>0.972586</td>\n      <td>0.634591</td>\n      <td>0.802661</td>\n    </tr>\n    <tr>\n      <th>4</th>\n      <td>Armstrong, Darrell</td>\n      <td>5.0</td>\n      <td>20011106.0</td>\n      <td>33137.0</td>\n      <td>ORL</td>\n      <td>0</td>\n      <td>SAS</td>\n      <td>-1.163106</td>\n      <td>1</td>\n      <td>0.889794</td>\n      <td>...</td>\n      <td>-0.171523</td>\n      <td>-0.633066</td>\n      <td>0.945670</td>\n      <td>-0.629833</td>\n      <td>-0.414744</td>\n      <td>-0.136926</td>\n      <td>-0.855333</td>\n      <td>0.146739</td>\n      <td>1.065034</td>\n      <td>-0.191466</td>\n    </tr>\n    <tr>\n      <th>...</th>\n      <td>...</td>\n      <td>...</td>\n      <td>...</td>\n      <td>...</td>\n      <td>...</td>\n      <td>...</td>\n      <td>...</td>\n      <td>...</td>\n      <td>...</td>\n      <td>...</td>\n      <td>...</td>\n      <td>...</td>\n      <td>...</td>\n      <td>...</td>\n      <td>...</td>\n      <td>...</td>\n      <td>...</td>\n      <td>...</td>\n      <td>...</td>\n      <td>...</td>\n      <td>...</td>\n    </tr>\n    <tr>\n      <th>976</th>\n      <td>Williams, Monty</td>\n      <td>64.0</td>\n      <td>20020411.0</td>\n      <td>30185.0</td>\n      <td>ORL</td>\n      <td>1</td>\n      <td>NJN</td>\n      <td>-0.248499</td>\n      <td>1</td>\n      <td>-0.706991</td>\n      <td>...</td>\n      <td>-0.398979</td>\n      <td>-0.748313</td>\n      <td>-0.018918</td>\n      <td>-0.629833</td>\n      <td>-0.414744</td>\n      <td>1.491119</td>\n      <td>-0.262382</td>\n      <td>-0.403826</td>\n      <td>-0.154556</td>\n      <td>-0.823326</td>\n    </tr>\n    <tr>\n      <th>977</th>\n      <td>Williams, Monty</td>\n      <td>65.0</td>\n      <td>20020412.0</td>\n      <td>30186.0</td>\n      <td>ORL</td>\n      <td>0</td>\n      <td>MIA</td>\n      <td>-0.459563</td>\n      <td>1</td>\n      <td>-0.863086</td>\n      <td>...</td>\n      <td>0.380869</td>\n      <td>-0.210494</td>\n      <td>-0.943974</td>\n      <td>4.248087</td>\n      <td>-0.414744</td>\n      <td>-0.785867</td>\n      <td>-1.223372</td>\n      <td>-0.763811</td>\n      <td>-1.948070</td>\n      <td>0.347722</td>\n    </tr>\n    <tr>\n      <th>978</th>\n      <td>Williams, Monty</td>\n      <td>66.0</td>\n      <td>20020414.0</td>\n      <td>30188.0</td>\n      <td>ORL</td>\n      <td>1</td>\n      <td>PHI</td>\n      <td>-0.529917</td>\n      <td>1</td>\n      <td>-0.894942</td>\n      <td>...</td>\n      <td>-0.090289</td>\n      <td>0.122442</td>\n      <td>3.151572</td>\n      <td>1.383277</td>\n      <td>-0.414744</td>\n      <td>-0.154003</td>\n      <td>2.242324</td>\n      <td>-0.615582</td>\n      <td>0.132407</td>\n      <td>-0.334688</td>\n    </tr>\n    <tr>\n      <th>979</th>\n      <td>Williams, Monty</td>\n      <td>67.0</td>\n      <td>20020416.0</td>\n      <td>30190.0</td>\n      <td>ORL</td>\n      <td>0</td>\n      <td>ATL</td>\n      <td>0.38469</td>\n      <td>1</td>\n      <td>1.176499</td>\n      <td>...</td>\n      <td>0.039686</td>\n      <td>0.007195</td>\n      <td>0.241995</td>\n      <td>0.376722</td>\n      <td>0.045058</td>\n      <td>-0.222313</td>\n      <td>0.504365</td>\n      <td>0.422021</td>\n      <td>-1.015443</td>\n      <td>0.701563</td>\n    </tr>\n    <tr>\n      <th>980</th>\n      <td>Williams, Monty</td>\n      <td>68.0</td>\n      <td>20020417.0</td>\n      <td>30191.0</td>\n      <td>ORL</td>\n      <td>1</td>\n      <td>MIA</td>\n      <td>-1.092752</td>\n      <td>1</td>\n      <td>0.945542</td>\n      <td>...</td>\n      <td>-0.496460</td>\n      <td>-0.351351</td>\n      <td>0.210369</td>\n      <td>-0.049128</td>\n      <td>-0.414744</td>\n      <td>-0.785867</td>\n      <td>0.279452</td>\n      <td>0.930235</td>\n      <td>0.419369</td>\n      <td>0.735263</td>\n    </tr>\n  </tbody>\n</table>\n<p>981 rows × 44 columns</p>\n</div>"
     },
     "execution_count": 129,
     "metadata": {},
     "output_type": "execute_result"
    }
   ]
  }
 ],
 "metadata": {
  "kernelspec": {
   "display_name": "Python 3",
   "language": "python",
   "name": "python3"
  },
  "language_info": {
   "codemirror_mode": {
    "name": "ipython",
    "version": 2
   },
   "file_extension": ".py",
   "mimetype": "text/x-python",
   "name": "python",
   "nbconvert_exporter": "python",
   "pygments_lexer": "ipython2",
   "version": "2.7.6"
  }
 },
 "nbformat": 4,
 "nbformat_minor": 0
}