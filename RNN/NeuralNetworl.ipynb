{
 "cells": [
  {
   "cell_type": "code",
   "execution_count": 170,
   "outputs": [],
   "source": [
    "import tensorflow as tf\n",
    "import numpy as np\n",
    "import pandas as pd\n",
    "from statFunctions import *\n",
    "from helperFunctions import *\n",
    "\n"
   ],
   "metadata": {
    "collapsed": false,
    "pycharm": {
     "name": "#%%\n"
    }
   }
  },
  {
   "cell_type": "code",
   "execution_count": 171,
   "outputs": [],
   "source": [
    "def generate_sequence(df, game_numbers, finalgame):\n",
    "    if finalgame < 10:\n",
    "        for x in range(finalgame):\n",
    "            if x == 0:\n",
    "                newdf = df[df['GmID'] == game_numbers[x]]\n",
    "            else:\n",
    "                df2 = df[df['GmID'] == game_numbers[x]]\n",
    "                newdf = newdf.append(df2)\n",
    "    else:\n",
    "        for x in range(finalgame-10, finalgame):\n",
    "            if x == finalgame - 10:\n",
    "                newdf = df[df['GmID'] == game_numbers[x]]\n",
    "            else:\n",
    "                df2 = df[df['GmID'] == game_numbers[x]]\n",
    "                newdf = newdf.append(df2)\n",
    "    print('Finished sequencing for game:', finalgame)\n",
    "    return newdf"
   ],
   "metadata": {
    "collapsed": false,
    "pycharm": {
     "name": "#%%\n"
    }
   }
  },
  {
   "cell_type": "code",
   "execution_count": 172,
   "outputs": [],
   "source": [
    "def game_ids(df):\n",
    "    gameids = []\n",
    "    for x in range(len(df)):\n",
    "        if df.loc[x, 'GmID'] not in gameids:\n",
    "            gameids.append(df.loc[x, 'GmID'])\n",
    "    return gameids"
   ],
   "metadata": {
    "collapsed": false,
    "pycharm": {
     "name": "#%%\n"
    }
   }
  },
  {
   "cell_type": "code",
   "execution_count": 173,
   "outputs": [],
   "source": [
    "def list_of_sequences(df, games):\n",
    "    sequences = []\n",
    "    for x in range(1, len(games) + 1):\n",
    "        sequences.append(generate_sequence(df, games, x))\n",
    "    return sequences"
   ],
   "metadata": {
    "collapsed": false,
    "pycharm": {
     "name": "#%%\n"
    }
   }
  },
  {
   "cell_type": "code",
   "execution_count": 174,
   "outputs": [
    {
     "name": "stdout",
     "output_type": "stream",
     "text": [
      "ATL roster successfully parsed\n"
     ]
    }
   ],
   "source": [
    "roster, ids = teamRoster('Atlanta Hawks', 2016)"
   ],
   "metadata": {
    "collapsed": false,
    "pycharm": {
     "name": "#%%\n"
    }
   }
  },
  {
   "cell_type": "code",
   "execution_count": 175,
   "outputs": [
    {
     "name": "stdout",
     "output_type": "stream",
     "text": [
      "17\n"
     ]
    }
   ],
   "source": [
    "print(len(roster))"
   ],
   "metadata": {
    "collapsed": false,
    "pycharm": {
     "name": "#%%\n"
    }
   }
  },
  {
   "cell_type": "code",
   "execution_count": 179,
   "outputs": [
    {
     "data": {
      "text/plain": "                Name     G        Date       Age   Tm  Location  Opp  \\\n0     Bazemore, Kent   1.0  20151027.0 -0.419306  ATL         1  DET   \n1     Bazemore, Kent   2.0  20151029.0 -0.418752  ATL         0  NYK   \n2     Bazemore, Kent   3.0  20151030.0 -0.418475  ATL         1  CHO   \n3     Bazemore, Kent   4.0  20151101.0 -0.417920  ATL         0  CHO   \n4     Bazemore, Kent   5.0  20151103.0 -0.417366  ATL         0  MIA   \n...              ...   ...         ...       ...  ...       ...  ...   \n1138    Teague, Jeff  75.0  20160405.0 -0.091635  ATL         1  PHO   \n1139    Teague, Jeff  76.0  20160407.0 -0.091081  ATL         1  TOR   \n1140    Teague, Jeff  77.0  20160409.0 -0.090526  ATL         1  BOS   \n1141    Teague, Jeff  78.0  20160411.0 -0.089972  ATL         0  CLE   \n1142    Teague, Jeff  79.0  20160413.0 -0.089417  ATL         0  WAS   \n\n            GS  Active        MP  ...      AST%      STL%      BLK%      TOV%  \\\n0    -1.161457       1 -0.151316  ... -0.624017 -0.731261 -0.551559  2.854643   \n1     0.548531       1  0.318919  ...  0.535468  0.839974 -0.551559  0.062141   \n2    -0.046248       1  0.858666  ... -0.617849 -0.731261 -0.551559 -0.433724   \n3    -0.120595       1  0.628660  ... -0.617849  1.542895  0.606350 -0.870868   \n4     0.176794       1  1.051871  ... -0.124451 -0.111036 -0.551559  0.434040   \n...        ...     ...       ...  ...       ...       ...       ...       ...   \n1138  0.697225       1  0.825954  ... -0.253968  0.550536 -0.551559  0.290500   \n1139  0.325489       1  0.843332  ...  1.213890 -0.731261  0.275519  0.107813   \n1140  0.548531       1  0.622526  ...  1.398914 -0.028340 -0.551559 -0.159693   \n1141 -1.384498       1  0.930223  ...  2.398045 -0.069688 -0.551559  1.014724   \n1142 -1.087109       1  0.538702  ...  1.503761  0.633233 -0.551559  1.060396   \n\n          USG%      ORtg      DRtg       BPM      GmID  WL  \n0    -0.438843 -2.031930  0.100088 -1.909948  20151139   0  \n1    -0.819713 -0.021727 -0.166083  0.186313  20151141   1  \n2     0.244482  0.480823 -0.343530  0.680099  20151142   1  \n3     0.468523  0.895974 -1.053320  1.574504  20151213   1  \n4    -0.741299  0.065673 -0.609701  0.260847  20151215   1  \n...        ...       ...       ...       ...       ...  ..  \n1138  1.174252 -0.283928 -1.053320  0.009296  20160517   1  \n1139  1.409495  0.393423 -0.077359  0.661466  20160519   1  \n1140  1.006221  0.808574  0.277536  0.857117  20160521   1  \n1141  1.118241  0.153073  1.342220  0.484448  20160523   0  \n1142  0.647755 -0.087277 -0.077359  0.055879  20160525   0  \n\n[1143 rows x 47 columns]",
      "text/html": "<div>\n<style scoped>\n    .dataframe tbody tr th:only-of-type {\n        vertical-align: middle;\n    }\n\n    .dataframe tbody tr th {\n        vertical-align: top;\n    }\n\n    .dataframe thead th {\n        text-align: right;\n    }\n</style>\n<table border=\"1\" class=\"dataframe\">\n  <thead>\n    <tr style=\"text-align: right;\">\n      <th></th>\n      <th>Name</th>\n      <th>G</th>\n      <th>Date</th>\n      <th>Age</th>\n      <th>Tm</th>\n      <th>Location</th>\n      <th>Opp</th>\n      <th>GS</th>\n      <th>Active</th>\n      <th>MP</th>\n      <th>...</th>\n      <th>AST%</th>\n      <th>STL%</th>\n      <th>BLK%</th>\n      <th>TOV%</th>\n      <th>USG%</th>\n      <th>ORtg</th>\n      <th>DRtg</th>\n      <th>BPM</th>\n      <th>GmID</th>\n      <th>WL</th>\n    </tr>\n  </thead>\n  <tbody>\n    <tr>\n      <th>0</th>\n      <td>Bazemore, Kent</td>\n      <td>1.0</td>\n      <td>20151027.0</td>\n      <td>-0.419306</td>\n      <td>ATL</td>\n      <td>1</td>\n      <td>DET</td>\n      <td>-1.161457</td>\n      <td>1</td>\n      <td>-0.151316</td>\n      <td>...</td>\n      <td>-0.624017</td>\n      <td>-0.731261</td>\n      <td>-0.551559</td>\n      <td>2.854643</td>\n      <td>-0.438843</td>\n      <td>-2.031930</td>\n      <td>0.100088</td>\n      <td>-1.909948</td>\n      <td>20151139</td>\n      <td>0</td>\n    </tr>\n    <tr>\n      <th>1</th>\n      <td>Bazemore, Kent</td>\n      <td>2.0</td>\n      <td>20151029.0</td>\n      <td>-0.418752</td>\n      <td>ATL</td>\n      <td>0</td>\n      <td>NYK</td>\n      <td>0.548531</td>\n      <td>1</td>\n      <td>0.318919</td>\n      <td>...</td>\n      <td>0.535468</td>\n      <td>0.839974</td>\n      <td>-0.551559</td>\n      <td>0.062141</td>\n      <td>-0.819713</td>\n      <td>-0.021727</td>\n      <td>-0.166083</td>\n      <td>0.186313</td>\n      <td>20151141</td>\n      <td>1</td>\n    </tr>\n    <tr>\n      <th>2</th>\n      <td>Bazemore, Kent</td>\n      <td>3.0</td>\n      <td>20151030.0</td>\n      <td>-0.418475</td>\n      <td>ATL</td>\n      <td>1</td>\n      <td>CHO</td>\n      <td>-0.046248</td>\n      <td>1</td>\n      <td>0.858666</td>\n      <td>...</td>\n      <td>-0.617849</td>\n      <td>-0.731261</td>\n      <td>-0.551559</td>\n      <td>-0.433724</td>\n      <td>0.244482</td>\n      <td>0.480823</td>\n      <td>-0.343530</td>\n      <td>0.680099</td>\n      <td>20151142</td>\n      <td>1</td>\n    </tr>\n    <tr>\n      <th>3</th>\n      <td>Bazemore, Kent</td>\n      <td>4.0</td>\n      <td>20151101.0</td>\n      <td>-0.417920</td>\n      <td>ATL</td>\n      <td>0</td>\n      <td>CHO</td>\n      <td>-0.120595</td>\n      <td>1</td>\n      <td>0.628660</td>\n      <td>...</td>\n      <td>-0.617849</td>\n      <td>1.542895</td>\n      <td>0.606350</td>\n      <td>-0.870868</td>\n      <td>0.468523</td>\n      <td>0.895974</td>\n      <td>-1.053320</td>\n      <td>1.574504</td>\n      <td>20151213</td>\n      <td>1</td>\n    </tr>\n    <tr>\n      <th>4</th>\n      <td>Bazemore, Kent</td>\n      <td>5.0</td>\n      <td>20151103.0</td>\n      <td>-0.417366</td>\n      <td>ATL</td>\n      <td>0</td>\n      <td>MIA</td>\n      <td>0.176794</td>\n      <td>1</td>\n      <td>1.051871</td>\n      <td>...</td>\n      <td>-0.124451</td>\n      <td>-0.111036</td>\n      <td>-0.551559</td>\n      <td>0.434040</td>\n      <td>-0.741299</td>\n      <td>0.065673</td>\n      <td>-0.609701</td>\n      <td>0.260847</td>\n      <td>20151215</td>\n      <td>1</td>\n    </tr>\n    <tr>\n      <th>...</th>\n      <td>...</td>\n      <td>...</td>\n      <td>...</td>\n      <td>...</td>\n      <td>...</td>\n      <td>...</td>\n      <td>...</td>\n      <td>...</td>\n      <td>...</td>\n      <td>...</td>\n      <td>...</td>\n      <td>...</td>\n      <td>...</td>\n      <td>...</td>\n      <td>...</td>\n      <td>...</td>\n      <td>...</td>\n      <td>...</td>\n      <td>...</td>\n      <td>...</td>\n      <td>...</td>\n    </tr>\n    <tr>\n      <th>1138</th>\n      <td>Teague, Jeff</td>\n      <td>75.0</td>\n      <td>20160405.0</td>\n      <td>-0.091635</td>\n      <td>ATL</td>\n      <td>1</td>\n      <td>PHO</td>\n      <td>0.697225</td>\n      <td>1</td>\n      <td>0.825954</td>\n      <td>...</td>\n      <td>-0.253968</td>\n      <td>0.550536</td>\n      <td>-0.551559</td>\n      <td>0.290500</td>\n      <td>1.174252</td>\n      <td>-0.283928</td>\n      <td>-1.053320</td>\n      <td>0.009296</td>\n      <td>20160517</td>\n      <td>1</td>\n    </tr>\n    <tr>\n      <th>1139</th>\n      <td>Teague, Jeff</td>\n      <td>76.0</td>\n      <td>20160407.0</td>\n      <td>-0.091081</td>\n      <td>ATL</td>\n      <td>1</td>\n      <td>TOR</td>\n      <td>0.325489</td>\n      <td>1</td>\n      <td>0.843332</td>\n      <td>...</td>\n      <td>1.213890</td>\n      <td>-0.731261</td>\n      <td>0.275519</td>\n      <td>0.107813</td>\n      <td>1.409495</td>\n      <td>0.393423</td>\n      <td>-0.077359</td>\n      <td>0.661466</td>\n      <td>20160519</td>\n      <td>1</td>\n    </tr>\n    <tr>\n      <th>1140</th>\n      <td>Teague, Jeff</td>\n      <td>77.0</td>\n      <td>20160409.0</td>\n      <td>-0.090526</td>\n      <td>ATL</td>\n      <td>1</td>\n      <td>BOS</td>\n      <td>0.548531</td>\n      <td>1</td>\n      <td>0.622526</td>\n      <td>...</td>\n      <td>1.398914</td>\n      <td>-0.028340</td>\n      <td>-0.551559</td>\n      <td>-0.159693</td>\n      <td>1.006221</td>\n      <td>0.808574</td>\n      <td>0.277536</td>\n      <td>0.857117</td>\n      <td>20160521</td>\n      <td>1</td>\n    </tr>\n    <tr>\n      <th>1141</th>\n      <td>Teague, Jeff</td>\n      <td>78.0</td>\n      <td>20160411.0</td>\n      <td>-0.089972</td>\n      <td>ATL</td>\n      <td>0</td>\n      <td>CLE</td>\n      <td>-1.384498</td>\n      <td>1</td>\n      <td>0.930223</td>\n      <td>...</td>\n      <td>2.398045</td>\n      <td>-0.069688</td>\n      <td>-0.551559</td>\n      <td>1.014724</td>\n      <td>1.118241</td>\n      <td>0.153073</td>\n      <td>1.342220</td>\n      <td>0.484448</td>\n      <td>20160523</td>\n      <td>0</td>\n    </tr>\n    <tr>\n      <th>1142</th>\n      <td>Teague, Jeff</td>\n      <td>79.0</td>\n      <td>20160413.0</td>\n      <td>-0.089417</td>\n      <td>ATL</td>\n      <td>0</td>\n      <td>WAS</td>\n      <td>-1.087109</td>\n      <td>1</td>\n      <td>0.538702</td>\n      <td>...</td>\n      <td>1.503761</td>\n      <td>0.633233</td>\n      <td>-0.551559</td>\n      <td>1.060396</td>\n      <td>0.647755</td>\n      <td>-0.087277</td>\n      <td>-0.077359</td>\n      <td>0.055879</td>\n      <td>20160525</td>\n      <td>0</td>\n    </tr>\n  </tbody>\n</table>\n<p>1143 rows × 47 columns</p>\n</div>"
     },
     "execution_count": 179,
     "metadata": {},
     "output_type": "execute_result"
    }
   ],
   "source": [
    "path = r\"C:\\Users\\jleus\\OneDrive\\Documents\\CSVS\"\n",
    "csv = r\"C:\\Users\\jleus\\OneDrive\\Documents\\CSVS\\HAWKS.csv\"\n",
    "df = csv_to_df(csv)\n",
    "df"
   ],
   "metadata": {
    "collapsed": false,
    "pycharm": {
     "name": "#%%\n"
    }
   }
  },
  {
   "cell_type": "code",
   "execution_count": 177,
   "outputs": [
    {
     "name": "stdout",
     "output_type": "stream",
     "text": [
      "Finished sequencing for game: 1\n",
      "Finished sequencing for game: 2\n",
      "Finished sequencing for game: 3\n",
      "Finished sequencing for game: 4\n",
      "Finished sequencing for game: 5\n",
      "Finished sequencing for game: 6\n",
      "Finished sequencing for game: 7\n",
      "Finished sequencing for game: 8\n",
      "Finished sequencing for game: 9\n",
      "Finished sequencing for game: 10\n",
      "Finished sequencing for game: 11\n",
      "Finished sequencing for game: 12\n",
      "Finished sequencing for game: 13\n",
      "Finished sequencing for game: 14\n",
      "Finished sequencing for game: 15\n",
      "Finished sequencing for game: 16\n",
      "Finished sequencing for game: 17\n",
      "Finished sequencing for game: 18\n",
      "Finished sequencing for game: 19\n",
      "Finished sequencing for game: 20\n",
      "Finished sequencing for game: 21\n",
      "Finished sequencing for game: 22\n",
      "Finished sequencing for game: 23\n",
      "Finished sequencing for game: 24\n",
      "Finished sequencing for game: 25\n",
      "Finished sequencing for game: 26\n",
      "Finished sequencing for game: 27\n",
      "Finished sequencing for game: 28\n",
      "Finished sequencing for game: 29\n",
      "Finished sequencing for game: 30\n",
      "Finished sequencing for game: 31\n",
      "Finished sequencing for game: 32\n",
      "Finished sequencing for game: 33\n",
      "Finished sequencing for game: 34\n",
      "Finished sequencing for game: 35\n",
      "Finished sequencing for game: 36\n",
      "Finished sequencing for game: 37\n",
      "Finished sequencing for game: 38\n",
      "Finished sequencing for game: 39\n",
      "Finished sequencing for game: 40\n",
      "Finished sequencing for game: 41\n",
      "Finished sequencing for game: 42\n",
      "Finished sequencing for game: 43\n",
      "Finished sequencing for game: 44\n",
      "Finished sequencing for game: 45\n",
      "Finished sequencing for game: 46\n",
      "Finished sequencing for game: 47\n",
      "Finished sequencing for game: 48\n",
      "Finished sequencing for game: 49\n",
      "Finished sequencing for game: 50\n",
      "Finished sequencing for game: 51\n",
      "Finished sequencing for game: 52\n",
      "Finished sequencing for game: 53\n",
      "Finished sequencing for game: 54\n",
      "Finished sequencing for game: 55\n",
      "Finished sequencing for game: 56\n",
      "Finished sequencing for game: 57\n",
      "Finished sequencing for game: 58\n",
      "Finished sequencing for game: 59\n",
      "Finished sequencing for game: 60\n",
      "Finished sequencing for game: 61\n",
      "Finished sequencing for game: 62\n",
      "Finished sequencing for game: 63\n",
      "Finished sequencing for game: 64\n",
      "Finished sequencing for game: 65\n",
      "Finished sequencing for game: 66\n",
      "Finished sequencing for game: 67\n",
      "Finished sequencing for game: 68\n",
      "Finished sequencing for game: 69\n",
      "Finished sequencing for game: 70\n",
      "Finished sequencing for game: 71\n",
      "Finished sequencing for game: 72\n",
      "Finished sequencing for game: 73\n",
      "Finished sequencing for game: 74\n",
      "Finished sequencing for game: 75\n",
      "Finished sequencing for game: 76\n",
      "Finished sequencing for game: 77\n",
      "Finished sequencing for game: 78\n",
      "Finished sequencing for game: 79\n",
      "Finished sequencing for game: 80\n",
      "Finished sequencing for game: 81\n",
      "Finished sequencing for game: 82\n"
     ]
    }
   ],
   "source": [
    "lst = list_of_sequences(df, games)"
   ],
   "metadata": {
    "collapsed": false,
    "pycharm": {
     "name": "#%%\n"
    }
   }
  },
  {
   "cell_type": "code",
   "execution_count": 181,
   "outputs": [],
   "source": [
    "features = ['G', 'Date', 'Age', 'Location', 'GS', 'Active', 'MP', 'FG', 'FGA', 'FG%', '3P', '3PA', '3P%', 'FT', 'FTA', 'FT%', 'ORB', 'DRB', 'TRB', 'AST', 'STL', 'BLK', 'TOV', 'PF', 'PTS', 'GmSc', '+/-', 'PlayerID', 'TmID', 'TS%', 'eFG%', 'ORB%', 'DRB%', 'TRB%', 'AST%', 'STL%', 'BLK%', 'TOV%', 'USG%', 'ORtg', 'DRtg', 'BPM', 'GmID', 'WL']\n",
    "resolution = 0.3\n",
    "feature_columns = []\n",
    "for feature in features:\n",
    "    feature = tf.feature_column.numeric_column(f'{feature}')\n",
    "    feature_columns.append(feature)"
   ],
   "metadata": {
    "collapsed": false,
    "pycharm": {
     "name": "#%%\n"
    }
   }
  },
  {
   "cell_type": "code",
   "execution_count": 182,
   "outputs": [
    {
     "data": {
      "text/plain": "[NumericColumn(key='G', shape=(1,), default_value=None, dtype=tf.float32, normalizer_fn=None),\n NumericColumn(key='Date', shape=(1,), default_value=None, dtype=tf.float32, normalizer_fn=None),\n NumericColumn(key='Age', shape=(1,), default_value=None, dtype=tf.float32, normalizer_fn=None),\n NumericColumn(key='Location', shape=(1,), default_value=None, dtype=tf.float32, normalizer_fn=None),\n NumericColumn(key='GS', shape=(1,), default_value=None, dtype=tf.float32, normalizer_fn=None),\n NumericColumn(key='Active', shape=(1,), default_value=None, dtype=tf.float32, normalizer_fn=None),\n NumericColumn(key='MP', shape=(1,), default_value=None, dtype=tf.float32, normalizer_fn=None),\n NumericColumn(key='FG', shape=(1,), default_value=None, dtype=tf.float32, normalizer_fn=None),\n NumericColumn(key='FGA', shape=(1,), default_value=None, dtype=tf.float32, normalizer_fn=None),\n NumericColumn(key='FG%', shape=(1,), default_value=None, dtype=tf.float32, normalizer_fn=None),\n NumericColumn(key='3P', shape=(1,), default_value=None, dtype=tf.float32, normalizer_fn=None),\n NumericColumn(key='3PA', shape=(1,), default_value=None, dtype=tf.float32, normalizer_fn=None),\n NumericColumn(key='3P%', shape=(1,), default_value=None, dtype=tf.float32, normalizer_fn=None),\n NumericColumn(key='FT', shape=(1,), default_value=None, dtype=tf.float32, normalizer_fn=None),\n NumericColumn(key='FTA', shape=(1,), default_value=None, dtype=tf.float32, normalizer_fn=None),\n NumericColumn(key='FT%', shape=(1,), default_value=None, dtype=tf.float32, normalizer_fn=None),\n NumericColumn(key='ORB', shape=(1,), default_value=None, dtype=tf.float32, normalizer_fn=None),\n NumericColumn(key='DRB', shape=(1,), default_value=None, dtype=tf.float32, normalizer_fn=None),\n NumericColumn(key='TRB', shape=(1,), default_value=None, dtype=tf.float32, normalizer_fn=None),\n NumericColumn(key='AST', shape=(1,), default_value=None, dtype=tf.float32, normalizer_fn=None),\n NumericColumn(key='STL', shape=(1,), default_value=None, dtype=tf.float32, normalizer_fn=None),\n NumericColumn(key='BLK', shape=(1,), default_value=None, dtype=tf.float32, normalizer_fn=None),\n NumericColumn(key='TOV', shape=(1,), default_value=None, dtype=tf.float32, normalizer_fn=None),\n NumericColumn(key='PF', shape=(1,), default_value=None, dtype=tf.float32, normalizer_fn=None),\n NumericColumn(key='PTS', shape=(1,), default_value=None, dtype=tf.float32, normalizer_fn=None),\n NumericColumn(key='GmSc', shape=(1,), default_value=None, dtype=tf.float32, normalizer_fn=None),\n NumericColumn(key='+/-', shape=(1,), default_value=None, dtype=tf.float32, normalizer_fn=None),\n NumericColumn(key='PlayerID', shape=(1,), default_value=None, dtype=tf.float32, normalizer_fn=None),\n NumericColumn(key='TmID', shape=(1,), default_value=None, dtype=tf.float32, normalizer_fn=None),\n NumericColumn(key='TS%', shape=(1,), default_value=None, dtype=tf.float32, normalizer_fn=None),\n NumericColumn(key='eFG%', shape=(1,), default_value=None, dtype=tf.float32, normalizer_fn=None),\n NumericColumn(key='ORB%', shape=(1,), default_value=None, dtype=tf.float32, normalizer_fn=None),\n NumericColumn(key='DRB%', shape=(1,), default_value=None, dtype=tf.float32, normalizer_fn=None),\n NumericColumn(key='TRB%', shape=(1,), default_value=None, dtype=tf.float32, normalizer_fn=None),\n NumericColumn(key='AST%', shape=(1,), default_value=None, dtype=tf.float32, normalizer_fn=None),\n NumericColumn(key='STL%', shape=(1,), default_value=None, dtype=tf.float32, normalizer_fn=None),\n NumericColumn(key='BLK%', shape=(1,), default_value=None, dtype=tf.float32, normalizer_fn=None),\n NumericColumn(key='TOV%', shape=(1,), default_value=None, dtype=tf.float32, normalizer_fn=None),\n NumericColumn(key='USG%', shape=(1,), default_value=None, dtype=tf.float32, normalizer_fn=None),\n NumericColumn(key='ORtg', shape=(1,), default_value=None, dtype=tf.float32, normalizer_fn=None),\n NumericColumn(key='DRtg', shape=(1,), default_value=None, dtype=tf.float32, normalizer_fn=None),\n NumericColumn(key='BPM', shape=(1,), default_value=None, dtype=tf.float32, normalizer_fn=None),\n NumericColumn(key='GmID', shape=(1,), default_value=None, dtype=tf.float32, normalizer_fn=None),\n NumericColumn(key='WL', shape=(1,), default_value=None, dtype=tf.float32, normalizer_fn=None)]"
     },
     "execution_count": 182,
     "metadata": {},
     "output_type": "execute_result"
    }
   ],
   "source": [
    "feature_columns"
   ],
   "metadata": {
    "collapsed": false,
    "pycharm": {
     "name": "#%%\n"
    }
   }
  }
 ],
 "metadata": {
  "kernelspec": {
   "display_name": "Python 3",
   "language": "python",
   "name": "python3"
  },
  "language_info": {
   "codemirror_mode": {
    "name": "ipython",
    "version": 2
   },
   "file_extension": ".py",
   "mimetype": "text/x-python",
   "name": "python",
   "nbconvert_exporter": "python",
   "pygments_lexer": "ipython2",
   "version": "2.7.6"
  }
 },
 "nbformat": 4,
 "nbformat_minor": 0
}