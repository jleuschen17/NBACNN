{
 "cells": [
  {
   "cell_type": "code",
   "execution_count": 4,
   "outputs": [],
   "source": [
    "import tensorflow as tf\n",
    "import numpy as np\n",
    "import pandas as pd\n",
    "from statFunctions import *\n",
    "from helperFunctions import *"
   ],
   "metadata": {
    "collapsed": false,
    "pycharm": {
     "name": "#%%\n"
    }
   }
  },
  {
   "cell_type": "code",
   "execution_count": 111,
   "outputs": [],
   "source": [
    "def get_game_numbers(games):\n",
    "    numbers = []\n",
    "    for game in games:\n",
    "        numbers.append(game)\n",
    "    return numbers"
   ],
   "metadata": {
    "collapsed": false,
    "pycharm": {
     "name": "#%%\n"
    }
   }
  },
  {
   "cell_type": "code",
   "execution_count": 112,
   "outputs": [],
   "source": [
    "def generate_sequences(dict, game_numbers):\n",
    "    sequences = []\n",
    "    for x in range(len(dict)):\n",
    "        sequences.append([])\n",
    "        if x - 10 > 0:\n",
    "            for y in game_numbers[x-9:x+1]:\n",
    "                sequences[x].append(dict[y])\n",
    "        else:\n",
    "            for y in game_numbers[:x+1]:\n",
    "                sequences[x].append(dict[y])\n",
    "\n",
    "    return sequences"
   ],
   "metadata": {
    "collapsed": false,
    "pycharm": {
     "name": "#%%\n"
    }
   }
  },
  {
   "cell_type": "code",
   "execution_count": 113,
   "outputs": [],
   "source": [
    "def dict_to_list(games):\n",
    "    sequence_list = []\n",
    "    for item in games:\n",
    "        sequence_list.append(games[item])\n",
    "    return sequence_list"
   ],
   "metadata": {
    "collapsed": false,
    "pycharm": {
     "name": "#%%\n"
    }
   }
  },
  {
   "cell_type": "code",
   "execution_count": 214,
   "outputs": [],
   "source": [
    "def pad_sequences(sequences):\n",
    "    for y in range(len(sequences)):\n",
    "        if len(sequences[y]) < 10:\n",
    "            for x in range(10 - len(sequences[y])):\n",
    "                sequences[y].insert(0, [])\n",
    "                for q in range(len(sequences[-1])):\n",
    "                    sequences[y][0].append([])\n",
    "                    for z in range(len(sequences[-1][0][0])):\n",
    "                        sequences[y][0][0].append('')\n",
    "        for x in range(len(sequences[]))\n",
    "    return sequences"
   ],
   "metadata": {
    "collapsed": false,
    "pycharm": {
     "name": "#%%\n"
    }
   }
  },
  {
   "cell_type": "code",
   "execution_count": 222,
   "outputs": [
    {
     "ename": "NameError",
     "evalue": "name 'teamRoster' is not defined",
     "output_type": "error",
     "traceback": [
      "\u001B[1;31m---------------------------------------------------------------------------\u001B[0m",
      "\u001B[1;31mNameError\u001B[0m                                 Traceback (most recent call last)",
      "\u001B[1;32m~\\AppData\\Local\\Temp/ipykernel_2880/848783235.py\u001B[0m in \u001B[0;36m<module>\u001B[1;34m\u001B[0m\n\u001B[1;32m----> 1\u001B[1;33m \u001B[0mroster\u001B[0m\u001B[1;33m,\u001B[0m \u001B[0mids\u001B[0m \u001B[1;33m=\u001B[0m \u001B[0mteamRoster\u001B[0m\u001B[1;33m(\u001B[0m\u001B[1;34m'Atlanta Hawks'\u001B[0m\u001B[1;33m,\u001B[0m \u001B[1;36m2016\u001B[0m\u001B[1;33m)\u001B[0m\u001B[1;33m\u001B[0m\u001B[1;33m\u001B[0m\u001B[0m\n\u001B[0m",
      "\u001B[1;31mNameError\u001B[0m: name 'teamRoster' is not defined"
     ]
    }
   ],
   "source": [
    "roster, ids = teamRoster('Atlanta Hawks', 2016)"
   ],
   "metadata": {
    "collapsed": false,
    "pycharm": {
     "name": "#%%\n"
    }
   }
  },
  {
   "cell_type": "code",
   "execution_count": 215,
   "outputs": [
    {
     "name": "stderr",
     "output_type": "stream",
     "text": [
      "C:\\Users\\jleus\\PycharmProjects\\NBACNN\\RNN\\statFunctions.py:78: FutureWarning: Dropping of nuisance columns in DataFrame reductions (with 'numeric_only=None') is deprecated; in a future version this will raise TypeError.  Select only valid columns before calling the reduction.\n",
      "  df_means = cleaned_df.mean()\n",
      "C:\\Users\\jleus\\PycharmProjects\\NBACNN\\RNN\\statFunctions.py:79: FutureWarning: Dropping of nuisance columns in DataFrame reductions (with 'numeric_only=None') is deprecated; in a future version this will raise TypeError.  Select only valid columns before calling the reduction.\n",
      "  df_stdevs = cleaned_df.std()\n",
      "C:\\Users\\jleus\\AppData\\Local\\Temp/ipykernel_2880/996074687.py:12: VisibleDeprecationWarning: Creating an ndarray from ragged nested sequences (which is a list-or-tuple of lists-or-tuples-or ndarrays with different lengths or shapes) is deprecated. If you meant to do this, you must specify 'dtype=object' when creating the ndarray\n",
      "  trainable_array = np.array(padded)\n"
     ]
    }
   ],
   "source": [
    "path = r\"C:\\Users\\jleus\\OneDrive\\Documents\\CSVS\"\n",
    "csv = r\"C:\\Users\\jleus\\OneDrive\\Documents\\CSVS\\Hawks2016v2.csv\"\n",
    "df = csv_to_df(csv)\n",
    "df = clean_stats(df)\n",
    "df = standerdize_stats(df)\n",
    "df = rid_nans(df)\n",
    "arr = to_numpy(df)\n",
    "arr = combine_team_stats(arr)\n",
    "games = get_game_numbers(arr)\n",
    "sequences = generate_sequences(arr, games)\n",
    "padded = pad_sequences(sequences)\n",
    "trainable_array = np.array(padded)\n",
    "\n",
    "\n"
   ],
   "metadata": {
    "collapsed": false,
    "pycharm": {
     "name": "#%%\n"
    }
   }
  },
  {
   "cell_type": "code",
   "execution_count": 216,
   "outputs": [
    {
     "name": "stdout",
     "output_type": "stream",
     "text": [
      "(82,)\n"
     ]
    }
   ],
   "source": [
    "print(trainable_array.shape)"
   ],
   "metadata": {
    "collapsed": false,
    "pycharm": {
     "name": "#%%\n"
    }
   }
  },
  {
   "cell_type": "code",
   "execution_count": 211,
   "outputs": [
    {
     "name": "stdout",
     "output_type": "stream",
     "text": [
      "(82,)\n"
     ]
    }
   ],
   "source": [
    "print(padded[28][1])"
   ],
   "metadata": {
    "collapsed": false,
    "pycharm": {
     "name": "#%%\n"
    }
   }
  },
  {
   "cell_type": "code",
   "execution_count": 219,
   "outputs": [
    {
     "name": "stdout",
     "output_type": "stream",
     "text": [
      "82\n",
      "10\n",
      "10\n",
      "46\n"
     ]
    }
   ],
   "source": [
    "print(len(padded))\n",
    "print(len(padded[0]))\n",
    "print(len(padded[13][-1]))\n",
    "print(len(padded[28][1][0]))"
   ],
   "metadata": {
    "collapsed": false,
    "pycharm": {
     "name": "#%%\n"
    }
   }
  },
  {
   "cell_type": "code",
   "execution_count": 175,
   "outputs": [
    {
     "ename": "IndexError",
     "evalue": "too many indices for array: array is 1-dimensional, but 2 were indexed",
     "output_type": "error",
     "traceback": [
      "\u001B[1;31m---------------------------------------------------------------------------\u001B[0m",
      "\u001B[1;31mIndexError\u001B[0m                                Traceback (most recent call last)",
      "\u001B[1;32m~\\AppData\\Local\\Temp/ipykernel_2880/471121684.py\u001B[0m in \u001B[0;36m<module>\u001B[1;34m\u001B[0m\n\u001B[1;32m----> 1\u001B[1;33m \u001B[0mxs\u001B[0m\u001B[1;33m,\u001B[0m \u001B[0mlabels\u001B[0m \u001B[1;33m=\u001B[0m \u001B[0mtrainable_array\u001B[0m\u001B[1;33m[\u001B[0m\u001B[1;33m:\u001B[0m\u001B[1;36m10\u001B[0m\u001B[1;33m]\u001B[0m\u001B[1;33m[\u001B[0m\u001B[1;33m:\u001B[0m\u001B[1;33m]\u001B[0m\u001B[1;33m[\u001B[0m\u001B[1;33m:\u001B[0m\u001B[1;33m]\u001B[0m\u001B[1;33m,\u001B[0m \u001B[0mtrainable_array\u001B[0m\u001B[1;33m[\u001B[0m\u001B[1;33m:\u001B[0m\u001B[1;33m,\u001B[0m\u001B[1;33m-\u001B[0m\u001B[1;36m1\u001B[0m\u001B[1;33m]\u001B[0m\u001B[1;33m[\u001B[0m\u001B[1;33m-\u001B[0m\u001B[1;36m1\u001B[0m\u001B[1;33m]\u001B[0m\u001B[1;33m\u001B[0m\u001B[1;33m\u001B[0m\u001B[0m\n\u001B[0m",
      "\u001B[1;31mIndexError\u001B[0m: too many indices for array: array is 1-dimensional, but 2 were indexed"
     ]
    }
   ],
   "source": [
    "xs, labels = trainable_array[:10][:][:], trainable_array[:,-1][-1]"
   ],
   "metadata": {
    "collapsed": false,
    "pycharm": {
     "name": "#%%\n"
    }
   }
  },
  {
   "cell_type": "code",
   "execution_count": 165,
   "outputs": [
    {
     "name": "stdout",
     "output_type": "stream",
     "text": [
      "1\n"
     ]
    }
   ],
   "source": [
    "print(len(xs))"
   ],
   "metadata": {
    "collapsed": false,
    "pycharm": {
     "name": "#%%\n"
    }
   }
  }
 ],
 "metadata": {
  "kernelspec": {
   "display_name": "Python 3",
   "language": "python",
   "name": "python3"
  },
  "language_info": {
   "codemirror_mode": {
    "name": "ipython",
    "version": 2
   },
   "file_extension": ".py",
   "mimetype": "text/x-python",
   "name": "python",
   "nbconvert_exporter": "python",
   "pygments_lexer": "ipython2",
   "version": "2.7.6"
  }
 },
 "nbformat": 4,
 "nbformat_minor": 0
}