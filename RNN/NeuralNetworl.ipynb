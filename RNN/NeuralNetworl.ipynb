{
 "cells": [
  {
   "cell_type": "code",
   "execution_count": 115,
   "outputs": [],
   "source": [
    "import tensorflow as tf\n",
    "import numpy as np\n",
    "import pandas as pd\n",
    "from statFunctions import *\n",
    "from helperFunctions import *\n",
    "\n"
   ],
   "metadata": {
    "collapsed": false,
    "pycharm": {
     "name": "#%%\n"
    }
   }
  },
  {
   "cell_type": "code",
   "execution_count": 160,
   "outputs": [],
   "source": [
    "def generate_sequence(df, game_numbers, finalgame):\n",
    "    if finalgame < 10:\n",
    "        for x in range(finalgame):\n",
    "            if x == 0:\n",
    "                newdf = df[df['GmID'] == game_numbers[x]]\n",
    "            else:\n",
    "                df2 = df[df['GmID'] == game_numbers[x]]\n",
    "                newdf = newdf.append(df2)\n",
    "    else:\n",
    "        for x in range(finalgame-10, finalgame):\n",
    "            if x == finalgame - 10:\n",
    "                newdf = df[df['GmID'] == game_numbers[x]]\n",
    "            else:\n",
    "                df2 = df[df['GmID'] == game_numbers[x]]\n",
    "                newdf = newdf.append(df2)\n",
    "    print('Finished sequencing for game:', finalgame)\n",
    "    return newdf"
   ],
   "metadata": {
    "collapsed": false,
    "pycharm": {
     "name": "#%%\n"
    }
   }
  },
  {
   "cell_type": "code",
   "execution_count": 119,
   "outputs": [],
   "source": [
    "def game_ids(df):\n",
    "    gameids = []\n",
    "    for x in range(len(df)):\n",
    "        if df.loc[x, 'GmID'] not in gameids:\n",
    "            gameids.append(df.loc[x, 'GmID'])\n",
    "    return gameids"
   ],
   "metadata": {
    "collapsed": false,
    "pycharm": {
     "name": "#%%\n"
    }
   }
  },
  {
   "cell_type": "code",
   "execution_count": 162,
   "outputs": [],
   "source": [
    "def list_of_sequences(df, games):\n",
    "    sequences = []\n",
    "    for x in range(1, len(games) + 1):\n",
    "        sequences.append(generate_sequence(df, games, x))\n",
    "    return sequences"
   ],
   "metadata": {
    "collapsed": false,
    "pycharm": {
     "name": "#%%\n"
    }
   }
  },
  {
   "cell_type": "code",
   "execution_count": 120,
   "outputs": [
    {
     "name": "stdout",
     "output_type": "stream",
     "text": [
      "ATL roster successfully parsed\n"
     ]
    }
   ],
   "source": [
    "roster, ids = teamRoster('Atlanta Hawks', 2016)"
   ],
   "metadata": {
    "collapsed": false,
    "pycharm": {
     "name": "#%%\n"
    }
   }
  },
  {
   "cell_type": "code",
   "execution_count": 121,
   "outputs": [
    {
     "name": "stdout",
     "output_type": "stream",
     "text": [
      "17\n"
     ]
    }
   ],
   "source": [
    "print(len(roster))"
   ],
   "metadata": {
    "collapsed": false,
    "pycharm": {
     "name": "#%%\n"
    }
   }
  },
  {
   "cell_type": "code",
   "execution_count": 161,
   "outputs": [
    {
     "name": "stderr",
     "output_type": "stream",
     "text": [
      "C:\\Users\\jleus\\PycharmProjects\\NBACNN\\RNN\\statFunctions.py:78: FutureWarning: Dropping of nuisance columns in DataFrame reductions (with 'numeric_only=None') is deprecated; in a future version this will raise TypeError.  Select only valid columns before calling the reduction.\n",
      "  df_means = cleaned_df.mean()\n",
      "C:\\Users\\jleus\\PycharmProjects\\NBACNN\\RNN\\statFunctions.py:79: FutureWarning: Dropping of nuisance columns in DataFrame reductions (with 'numeric_only=None') is deprecated; in a future version this will raise TypeError.  Select only valid columns before calling the reduction.\n",
      "  df_stdevs = cleaned_df.std()\n"
     ]
    }
   ],
   "source": [
    "path = r\"C:\\Users\\jleus\\OneDrive\\Documents\\CSVS\"\n",
    "csv = r\"C:\\Users\\jleus\\OneDrive\\Documents\\CSVS\\Hawks2016v2.csv\"\n",
    "df = csv_to_df(csv)\n",
    "df = clean_stats(df)\n",
    "df = standerdize_stats(df)\n",
    "df = rid_nans(df)\n",
    "games = game_ids(df)"
   ],
   "metadata": {
    "collapsed": false,
    "pycharm": {
     "name": "#%%\n"
    }
   }
  },
  {
   "cell_type": "code",
   "execution_count": 163,
   "outputs": [
    {
     "name": "stdout",
     "output_type": "stream",
     "text": [
      "Finished sequencing for game: 1\n",
      "Finished sequencing for game: 2\n",
      "Finished sequencing for game: 3\n",
      "Finished sequencing for game: 4\n",
      "Finished sequencing for game: 5\n",
      "Finished sequencing for game: 6\n",
      "Finished sequencing for game: 7\n",
      "Finished sequencing for game: 8\n",
      "Finished sequencing for game: 9\n",
      "Finished sequencing for game: 10\n",
      "Finished sequencing for game: 11\n",
      "Finished sequencing for game: 12\n",
      "Finished sequencing for game: 13\n",
      "Finished sequencing for game: 14\n",
      "Finished sequencing for game: 15\n",
      "Finished sequencing for game: 16\n",
      "Finished sequencing for game: 17\n",
      "Finished sequencing for game: 18\n",
      "Finished sequencing for game: 19\n",
      "Finished sequencing for game: 20\n",
      "Finished sequencing for game: 21\n",
      "Finished sequencing for game: 22\n",
      "Finished sequencing for game: 23\n",
      "Finished sequencing for game: 24\n",
      "Finished sequencing for game: 25\n",
      "Finished sequencing for game: 26\n",
      "Finished sequencing for game: 27\n",
      "Finished sequencing for game: 28\n",
      "Finished sequencing for game: 29\n",
      "Finished sequencing for game: 30\n",
      "Finished sequencing for game: 31\n",
      "Finished sequencing for game: 32\n",
      "Finished sequencing for game: 33\n",
      "Finished sequencing for game: 34\n",
      "Finished sequencing for game: 35\n",
      "Finished sequencing for game: 36\n",
      "Finished sequencing for game: 37\n",
      "Finished sequencing for game: 38\n",
      "Finished sequencing for game: 39\n",
      "Finished sequencing for game: 40\n",
      "Finished sequencing for game: 41\n",
      "Finished sequencing for game: 42\n",
      "Finished sequencing for game: 43\n",
      "Finished sequencing for game: 44\n",
      "Finished sequencing for game: 45\n",
      "Finished sequencing for game: 46\n",
      "Finished sequencing for game: 47\n",
      "Finished sequencing for game: 48\n",
      "Finished sequencing for game: 49\n",
      "Finished sequencing for game: 50\n",
      "Finished sequencing for game: 51\n",
      "Finished sequencing for game: 52\n",
      "Finished sequencing for game: 53\n",
      "Finished sequencing for game: 54\n",
      "Finished sequencing for game: 55\n",
      "Finished sequencing for game: 56\n",
      "Finished sequencing for game: 57\n",
      "Finished sequencing for game: 58\n",
      "Finished sequencing for game: 59\n",
      "Finished sequencing for game: 60\n",
      "Finished sequencing for game: 61\n",
      "Finished sequencing for game: 62\n",
      "Finished sequencing for game: 63\n",
      "Finished sequencing for game: 64\n",
      "Finished sequencing for game: 65\n",
      "Finished sequencing for game: 66\n",
      "Finished sequencing for game: 67\n",
      "Finished sequencing for game: 68\n",
      "Finished sequencing for game: 69\n",
      "Finished sequencing for game: 70\n",
      "Finished sequencing for game: 71\n",
      "Finished sequencing for game: 72\n",
      "Finished sequencing for game: 73\n",
      "Finished sequencing for game: 74\n",
      "Finished sequencing for game: 75\n",
      "Finished sequencing for game: 76\n",
      "Finished sequencing for game: 77\n",
      "Finished sequencing for game: 78\n",
      "Finished sequencing for game: 79\n",
      "Finished sequencing for game: 80\n",
      "Finished sequencing for game: 81\n",
      "Finished sequencing for game: 82\n"
     ]
    }
   ],
   "source": [
    "lst = list_of_sequences(df, games)"
   ],
   "metadata": {
    "collapsed": false,
    "pycharm": {
     "name": "#%%\n"
    }
   }
  },
  {
   "cell_type": "code",
   "execution_count": 165,
   "outputs": [
    {
     "data": {
      "text/plain": "14"
     },
     "execution_count": 165,
     "metadata": {},
     "output_type": "execute_result"
    }
   ],
   "source": [
    "len(lst[0])"
   ],
   "metadata": {
    "collapsed": false,
    "pycharm": {
     "name": "#%%\n"
    }
   }
  }
 ],
 "metadata": {
  "kernelspec": {
   "display_name": "Python 3",
   "language": "python",
   "name": "python3"
  },
  "language_info": {
   "codemirror_mode": {
    "name": "ipython",
    "version": 2
   },
   "file_extension": ".py",
   "mimetype": "text/x-python",
   "name": "python",
   "nbconvert_exporter": "python",
   "pygments_lexer": "ipython2",
   "version": "2.7.6"
  }
 },
 "nbformat": 4,
 "nbformat_minor": 0
}