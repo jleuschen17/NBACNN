{
 "cells": [
  {
   "cell_type": "code",
   "execution_count": 115,
   "outputs": [],
   "source": [
    "import tensorflow as tf\n",
    "import numpy as np\n",
    "import pandas as pd\n",
    "from statFunctions import *\n",
    "from helperFunctions import *\n",
    "\n"
   ],
   "metadata": {
    "collapsed": false,
    "pycharm": {
     "name": "#%%\n"
    }
   }
  },
  {
   "cell_type": "code",
   "execution_count": 129,
   "outputs": [],
   "source": [
    "def generate_sequence(df, game_numbers, finalgame):\n",
    "    if finalgame < 10:\n",
    "        for x in range(finalgame+1):\n",
    "            if x == 0:\n",
    "                newdf = df[df['GmID'] == game_numbers[x]]\n",
    "            else:\n",
    "                df2 = df[df['GmID'] == game_numbers[x]]\n",
    "                newdf = newdf.append(df2)\n",
    "    else:\n",
    "        for x in range(finalgame-9, finalgame+1):\n",
    "            print(x)\n",
    "            if x == finalgame - 9:\n",
    "                newdf = df[df['GmID'] == game_numbers[x]]\n",
    "            else:\n",
    "                df2 = df[df['GmID'] == game_numbers[x]]\n",
    "                newdf = newdf.append(df2)\n",
    "    return newdf"
   ],
   "metadata": {
    "collapsed": false,
    "pycharm": {
     "name": "#%%\n"
    }
   }
  },
  {
   "cell_type": "code",
   "execution_count": 119,
   "outputs": [],
   "source": [
    "def game_ids(df):\n",
    "    gameids = []\n",
    "    for x in range(len(df)):\n",
    "        if df.loc[x, 'GmID'] not in gameids:\n",
    "            gameids.append(df.loc[x, 'GmID'])\n",
    "    return gameids"
   ],
   "metadata": {
    "collapsed": false,
    "pycharm": {
     "name": "#%%\n"
    }
   }
  },
  {
   "cell_type": "code",
   "execution_count": 120,
   "outputs": [
    {
     "name": "stdout",
     "output_type": "stream",
     "text": [
      "ATL roster successfully parsed\n"
     ]
    }
   ],
   "source": [
    "roster, ids = teamRoster('Atlanta Hawks', 2016)"
   ],
   "metadata": {
    "collapsed": false,
    "pycharm": {
     "name": "#%%\n"
    }
   }
  },
  {
   "cell_type": "code",
   "execution_count": 121,
   "outputs": [
    {
     "name": "stdout",
     "output_type": "stream",
     "text": [
      "17\n"
     ]
    }
   ],
   "source": [
    "print(len(roster))"
   ],
   "metadata": {
    "collapsed": false,
    "pycharm": {
     "name": "#%%\n"
    }
   }
  },
  {
   "cell_type": "code",
   "execution_count": 130,
   "outputs": [
    {
     "name": "stderr",
     "output_type": "stream",
     "text": [
      "C:\\Users\\jleus\\PycharmProjects\\NBACNN\\RNN\\statFunctions.py:78: FutureWarning: Dropping of nuisance columns in DataFrame reductions (with 'numeric_only=None') is deprecated; in a future version this will raise TypeError.  Select only valid columns before calling the reduction.\n",
      "  df_means = cleaned_df.mean()\n",
      "C:\\Users\\jleus\\PycharmProjects\\NBACNN\\RNN\\statFunctions.py:79: FutureWarning: Dropping of nuisance columns in DataFrame reductions (with 'numeric_only=None') is deprecated; in a future version this will raise TypeError.  Select only valid columns before calling the reduction.\n",
      "  df_stdevs = cleaned_df.std()\n"
     ]
    }
   ],
   "source": [
    "path = r\"C:\\Users\\jleus\\OneDrive\\Documents\\CSVS\"\n",
    "csv = r\"C:\\Users\\jleus\\OneDrive\\Documents\\CSVS\\Hawks2016v2.csv\"\n",
    "df = csv_to_df(csv)\n",
    "df = clean_stats(df)\n",
    "df = standerdize_stats(df)\n",
    "df = rid_nans(df)\n",
    "games = game_ids(df)"
   ],
   "metadata": {
    "collapsed": false,
    "pycharm": {
     "name": "#%%\n"
    }
   }
  },
  {
   "cell_type": "code",
   "execution_count": 131,
   "outputs": [
    {
     "name": "stdout",
     "output_type": "stream",
     "text": [
      "69\n",
      "70\n",
      "71\n",
      "72\n",
      "73\n",
      "74\n",
      "75\n",
      "76\n",
      "77\n",
      "78\n"
     ]
    }
   ],
   "source": [
    "newdf = generate_sequence(df, games, 78)"
   ],
   "metadata": {
    "collapsed": false,
    "pycharm": {
     "name": "#%%\n"
    }
   }
  },
  {
   "cell_type": "code",
   "execution_count": 132,
   "outputs": [
    {
     "data": {
      "text/plain": "                  Name     G        Date       Age   Tm  Location  Opp  \\\n69      Bazemore, Kent  64.0  20160319.0 -0.379387  ATL         1  HOU   \n151      Hardaway, Tim  39.0  20160319.0 -1.005622  ATL         1  HOU   \n178      Hinrich, Kirk  41.0  20160319.0  2.064289  ATL         1  HOU   \n315        Horford, Al  70.0  20160319.0  0.460029  ATL         1  HOU   \n337    Humphries, Kris  41.0  20160319.0  0.945714  ATL         1  HOU   \n...                ...   ...         ...       ...  ...       ...  ...   \n811   Schroder, Dennis  77.0  20160407.0 -1.504060  ATL         1  TOR   \n893        Scott, Mike  72.0  20160407.0 -0.101060  ATL         1  TOR   \n975   Sefolosha, Thabo  72.0  20160407.0  1.028603  ATL         1  TOR   \n1057   Splitter, Tiago   0.0  20160407.0  0.960961  ATL         1  TOR   \n1139      Teague, Jeff  76.0  20160407.0 -0.091081  ATL         1  TOR   \n\n            GS  Active        MP  ...      TRB%      AST%      STL%      BLK%  \\\n69    0.622878       1 -0.601105  ... -0.400063 -0.044274  0.509188 -0.551559   \n151   0.622878       1 -0.198339  ... -0.186683 -1.006400  1.294806 -0.551559   \n178   0.622878       1 -2.124255  ... -1.390760 -1.006400 -0.731261 -0.551559   \n315   0.622878       1  1.066182  ...  0.819256 -0.698026 -0.111036  1.036431   \n337   0.622878       1 -0.867912  ...  0.362011  0.270267 -0.731261  1.334179   \n...        ...     ...       ...  ...       ...       ...       ...       ...   \n811   0.325489       1 -0.685952  ... -0.308614  0.732827 -0.731261  1.069514   \n893   0.325489       1 -0.810666  ...  2.785407  0.079075 -0.731261 -0.551559   \n975   0.325489       1  0.747241  ... -0.826825 -0.630184 -0.731261 -0.551559   \n1057  0.325489       0  0.000000  ...  0.000000  0.000000  0.000000  0.000000   \n1139  0.325489       1  0.843332  ... -1.390760  1.213890 -0.731261  0.275519   \n\n          TOV%      USG%      ORtg      DRtg       BPM      GmID  \n69   -0.870868 -0.662884 -0.021727 -0.254807 -0.428590  20160431  \n151  -0.870868  0.614149  1.201874 -0.698425  2.058974  20160431  \n178  -0.870868  1.499111 -2.206730  0.898602 -3.652174  20160431  \n315  -0.251036  0.972615  0.153073 -0.254807  0.344698  20160431  \n337  -0.870868 -0.606874  1.027074  0.011365  0.549665  20160431  \n...        ...       ...       ...       ...       ...       ...  \n811   1.086494  1.353484 -1.791580 -0.609701 -2.441001  20160519  \n893  -0.870868  0.871796  0.961524 -0.787149  1.481337  20160519  \n975  -0.870868 -0.909329  0.830424  0.011365  0.121096  20160519  \n1057  0.000000  0.000000  0.000000  0.000000  0.000000  20160519  \n1139  0.107813  1.409495  0.393423 -0.077359  0.661466  20160519  \n\n[140 rows x 46 columns]",
      "text/html": "<div>\n<style scoped>\n    .dataframe tbody tr th:only-of-type {\n        vertical-align: middle;\n    }\n\n    .dataframe tbody tr th {\n        vertical-align: top;\n    }\n\n    .dataframe thead th {\n        text-align: right;\n    }\n</style>\n<table border=\"1\" class=\"dataframe\">\n  <thead>\n    <tr style=\"text-align: right;\">\n      <th></th>\n      <th>Name</th>\n      <th>G</th>\n      <th>Date</th>\n      <th>Age</th>\n      <th>Tm</th>\n      <th>Location</th>\n      <th>Opp</th>\n      <th>GS</th>\n      <th>Active</th>\n      <th>MP</th>\n      <th>...</th>\n      <th>TRB%</th>\n      <th>AST%</th>\n      <th>STL%</th>\n      <th>BLK%</th>\n      <th>TOV%</th>\n      <th>USG%</th>\n      <th>ORtg</th>\n      <th>DRtg</th>\n      <th>BPM</th>\n      <th>GmID</th>\n    </tr>\n  </thead>\n  <tbody>\n    <tr>\n      <th>69</th>\n      <td>Bazemore, Kent</td>\n      <td>64.0</td>\n      <td>20160319.0</td>\n      <td>-0.379387</td>\n      <td>ATL</td>\n      <td>1</td>\n      <td>HOU</td>\n      <td>0.622878</td>\n      <td>1</td>\n      <td>-0.601105</td>\n      <td>...</td>\n      <td>-0.400063</td>\n      <td>-0.044274</td>\n      <td>0.509188</td>\n      <td>-0.551559</td>\n      <td>-0.870868</td>\n      <td>-0.662884</td>\n      <td>-0.021727</td>\n      <td>-0.254807</td>\n      <td>-0.428590</td>\n      <td>20160431</td>\n    </tr>\n    <tr>\n      <th>151</th>\n      <td>Hardaway, Tim</td>\n      <td>39.0</td>\n      <td>20160319.0</td>\n      <td>-1.005622</td>\n      <td>ATL</td>\n      <td>1</td>\n      <td>HOU</td>\n      <td>0.622878</td>\n      <td>1</td>\n      <td>-0.198339</td>\n      <td>...</td>\n      <td>-0.186683</td>\n      <td>-1.006400</td>\n      <td>1.294806</td>\n      <td>-0.551559</td>\n      <td>-0.870868</td>\n      <td>0.614149</td>\n      <td>1.201874</td>\n      <td>-0.698425</td>\n      <td>2.058974</td>\n      <td>20160431</td>\n    </tr>\n    <tr>\n      <th>178</th>\n      <td>Hinrich, Kirk</td>\n      <td>41.0</td>\n      <td>20160319.0</td>\n      <td>2.064289</td>\n      <td>ATL</td>\n      <td>1</td>\n      <td>HOU</td>\n      <td>0.622878</td>\n      <td>1</td>\n      <td>-2.124255</td>\n      <td>...</td>\n      <td>-1.390760</td>\n      <td>-1.006400</td>\n      <td>-0.731261</td>\n      <td>-0.551559</td>\n      <td>-0.870868</td>\n      <td>1.499111</td>\n      <td>-2.206730</td>\n      <td>0.898602</td>\n      <td>-3.652174</td>\n      <td>20160431</td>\n    </tr>\n    <tr>\n      <th>315</th>\n      <td>Horford, Al</td>\n      <td>70.0</td>\n      <td>20160319.0</td>\n      <td>0.460029</td>\n      <td>ATL</td>\n      <td>1</td>\n      <td>HOU</td>\n      <td>0.622878</td>\n      <td>1</td>\n      <td>1.066182</td>\n      <td>...</td>\n      <td>0.819256</td>\n      <td>-0.698026</td>\n      <td>-0.111036</td>\n      <td>1.036431</td>\n      <td>-0.251036</td>\n      <td>0.972615</td>\n      <td>0.153073</td>\n      <td>-0.254807</td>\n      <td>0.344698</td>\n      <td>20160431</td>\n    </tr>\n    <tr>\n      <th>337</th>\n      <td>Humphries, Kris</td>\n      <td>41.0</td>\n      <td>20160319.0</td>\n      <td>0.945714</td>\n      <td>ATL</td>\n      <td>1</td>\n      <td>HOU</td>\n      <td>0.622878</td>\n      <td>1</td>\n      <td>-0.867912</td>\n      <td>...</td>\n      <td>0.362011</td>\n      <td>0.270267</td>\n      <td>-0.731261</td>\n      <td>1.334179</td>\n      <td>-0.870868</td>\n      <td>-0.606874</td>\n      <td>1.027074</td>\n      <td>0.011365</td>\n      <td>0.549665</td>\n      <td>20160431</td>\n    </tr>\n    <tr>\n      <th>...</th>\n      <td>...</td>\n      <td>...</td>\n      <td>...</td>\n      <td>...</td>\n      <td>...</td>\n      <td>...</td>\n      <td>...</td>\n      <td>...</td>\n      <td>...</td>\n      <td>...</td>\n      <td>...</td>\n      <td>...</td>\n      <td>...</td>\n      <td>...</td>\n      <td>...</td>\n      <td>...</td>\n      <td>...</td>\n      <td>...</td>\n      <td>...</td>\n      <td>...</td>\n      <td>...</td>\n    </tr>\n    <tr>\n      <th>811</th>\n      <td>Schroder, Dennis</td>\n      <td>77.0</td>\n      <td>20160407.0</td>\n      <td>-1.504060</td>\n      <td>ATL</td>\n      <td>1</td>\n      <td>TOR</td>\n      <td>0.325489</td>\n      <td>1</td>\n      <td>-0.685952</td>\n      <td>...</td>\n      <td>-0.308614</td>\n      <td>0.732827</td>\n      <td>-0.731261</td>\n      <td>1.069514</td>\n      <td>1.086494</td>\n      <td>1.353484</td>\n      <td>-1.791580</td>\n      <td>-0.609701</td>\n      <td>-2.441001</td>\n      <td>20160519</td>\n    </tr>\n    <tr>\n      <th>893</th>\n      <td>Scott, Mike</td>\n      <td>72.0</td>\n      <td>20160407.0</td>\n      <td>-0.101060</td>\n      <td>ATL</td>\n      <td>1</td>\n      <td>TOR</td>\n      <td>0.325489</td>\n      <td>1</td>\n      <td>-0.810666</td>\n      <td>...</td>\n      <td>2.785407</td>\n      <td>0.079075</td>\n      <td>-0.731261</td>\n      <td>-0.551559</td>\n      <td>-0.870868</td>\n      <td>0.871796</td>\n      <td>0.961524</td>\n      <td>-0.787149</td>\n      <td>1.481337</td>\n      <td>20160519</td>\n    </tr>\n    <tr>\n      <th>975</th>\n      <td>Sefolosha, Thabo</td>\n      <td>72.0</td>\n      <td>20160407.0</td>\n      <td>1.028603</td>\n      <td>ATL</td>\n      <td>1</td>\n      <td>TOR</td>\n      <td>0.325489</td>\n      <td>1</td>\n      <td>0.747241</td>\n      <td>...</td>\n      <td>-0.826825</td>\n      <td>-0.630184</td>\n      <td>-0.731261</td>\n      <td>-0.551559</td>\n      <td>-0.870868</td>\n      <td>-0.909329</td>\n      <td>0.830424</td>\n      <td>0.011365</td>\n      <td>0.121096</td>\n      <td>20160519</td>\n    </tr>\n    <tr>\n      <th>1057</th>\n      <td>Splitter, Tiago</td>\n      <td>0.0</td>\n      <td>20160407.0</td>\n      <td>0.960961</td>\n      <td>ATL</td>\n      <td>1</td>\n      <td>TOR</td>\n      <td>0.325489</td>\n      <td>0</td>\n      <td>0.000000</td>\n      <td>...</td>\n      <td>0.000000</td>\n      <td>0.000000</td>\n      <td>0.000000</td>\n      <td>0.000000</td>\n      <td>0.000000</td>\n      <td>0.000000</td>\n      <td>0.000000</td>\n      <td>0.000000</td>\n      <td>0.000000</td>\n      <td>20160519</td>\n    </tr>\n    <tr>\n      <th>1139</th>\n      <td>Teague, Jeff</td>\n      <td>76.0</td>\n      <td>20160407.0</td>\n      <td>-0.091081</td>\n      <td>ATL</td>\n      <td>1</td>\n      <td>TOR</td>\n      <td>0.325489</td>\n      <td>1</td>\n      <td>0.843332</td>\n      <td>...</td>\n      <td>-1.390760</td>\n      <td>1.213890</td>\n      <td>-0.731261</td>\n      <td>0.275519</td>\n      <td>0.107813</td>\n      <td>1.409495</td>\n      <td>0.393423</td>\n      <td>-0.077359</td>\n      <td>0.661466</td>\n      <td>20160519</td>\n    </tr>\n  </tbody>\n</table>\n<p>140 rows × 46 columns</p>\n</div>"
     },
     "execution_count": 132,
     "metadata": {},
     "output_type": "execute_result"
    }
   ],
   "source": [
    "newdf"
   ],
   "metadata": {
    "collapsed": false,
    "pycharm": {
     "name": "#%%\n"
    }
   }
  }
 ],
 "metadata": {
  "kernelspec": {
   "display_name": "Python 3",
   "language": "python",
   "name": "python3"
  },
  "language_info": {
   "codemirror_mode": {
    "name": "ipython",
    "version": 2
   },
   "file_extension": ".py",
   "mimetype": "text/x-python",
   "name": "python",
   "nbconvert_exporter": "python",
   "pygments_lexer": "ipython2",
   "version": "2.7.6"
  }
 },
 "nbformat": 4,
 "nbformat_minor": 0
}